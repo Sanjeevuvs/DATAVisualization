{
  "nbformat": 4,
  "nbformat_minor": 0,
  "metadata": {
    "colab": {
      "name": "20181COM0167_FINAL_ASSIGNMENT.ipynb",
      "provenance": [],
      "collapsed_sections": [],
      "authorship_tag": "ABX9TyMN2GiiJJwJkoKRSu15wRQ1",
      "include_colab_link": true
    },
    "kernelspec": {
      "name": "python3",
      "display_name": "Python 3"
    }
  },
  "cells": [
    {
      "cell_type": "markdown",
      "metadata": {
        "id": "view-in-github",
        "colab_type": "text"
      },
      "source": [
        "<a href=\"https://colab.research.google.com/github/Sanjeevuvs/DATAVisualization/blob/main/20181COM0167_FINAL_ASSIGNMENT.ipynb\" target=\"_parent\"><img src=\"https://colab.research.google.com/assets/colab-badge.svg\" alt=\"Open In Colab\"/></a>"
      ]
    },
    {
      "cell_type": "markdown",
      "metadata": {
        "id": "l0H-nYJdixee"
      },
      "source": [
        "**Gross enrollment**"
      ]
    },
    {
      "cell_type": "code",
      "metadata": {
        "id": "lRVQ73ckaCQo"
      },
      "source": [
        "import pandas as pd\n",
        "import numpy as np\n",
        "import matplotlib.pyplot as plt\n",
        "import seaborn as sns"
      ],
      "execution_count": null,
      "outputs": []
    },
    {
      "cell_type": "code",
      "metadata": {
        "colab": {
          "base_uri": "https://localhost:8080/",
          "height": 576
        },
        "id": "LFeNI_y1cXSP",
        "outputId": "0c60b919-f724-41a8-f151-0e976ba3efc5"
      },
      "source": [
        "df_ger = pd.read_csv('/content/gross-enrollment-ratio-2013-2016.csv')\n",
        "df_ger.head(10)"
      ],
      "execution_count": null,
      "outputs": [
        {
          "output_type": "execute_result",
          "data": {
            "text/html": [
              "<div>\n",
              "<style scoped>\n",
              "    .dataframe tbody tr th:only-of-type {\n",
              "        vertical-align: middle;\n",
              "    }\n",
              "\n",
              "    .dataframe tbody tr th {\n",
              "        vertical-align: top;\n",
              "    }\n",
              "\n",
              "    .dataframe thead th {\n",
              "        text-align: right;\n",
              "    }\n",
              "</style>\n",
              "<table border=\"1\" class=\"dataframe\">\n",
              "  <thead>\n",
              "    <tr style=\"text-align: right;\">\n",
              "      <th></th>\n",
              "      <th>State_UT</th>\n",
              "      <th>Year</th>\n",
              "      <th>Primary_Boys</th>\n",
              "      <th>Primary_Girls</th>\n",
              "      <th>Primary_Total</th>\n",
              "      <th>Upper_Primary_Boys</th>\n",
              "      <th>Upper_Primary_Girls</th>\n",
              "      <th>Upper_Primary_Total</th>\n",
              "      <th>Secondary_Boys</th>\n",
              "      <th>Secondary_Girls</th>\n",
              "      <th>Secondary_Total</th>\n",
              "      <th>Higher_Secondary_Boys</th>\n",
              "      <th>Higher_Secondary_Girls</th>\n",
              "      <th>Higher_Secondary_Total</th>\n",
              "    </tr>\n",
              "  </thead>\n",
              "  <tbody>\n",
              "    <tr>\n",
              "      <th>0</th>\n",
              "      <td>Andaman &amp; Nicobar Islands</td>\n",
              "      <td>2013-14</td>\n",
              "      <td>95.88</td>\n",
              "      <td>91.97</td>\n",
              "      <td>93.93</td>\n",
              "      <td>94.70</td>\n",
              "      <td>88.98</td>\n",
              "      <td>91.83</td>\n",
              "      <td>102.89</td>\n",
              "      <td>97.36</td>\n",
              "      <td>100.16</td>\n",
              "      <td>105.4</td>\n",
              "      <td>96.61</td>\n",
              "      <td>101.28</td>\n",
              "    </tr>\n",
              "    <tr>\n",
              "      <th>1</th>\n",
              "      <td>Andhra Pradesh</td>\n",
              "      <td>2013-14</td>\n",
              "      <td>96.62</td>\n",
              "      <td>96.87</td>\n",
              "      <td>96.74</td>\n",
              "      <td>82.81</td>\n",
              "      <td>84.38</td>\n",
              "      <td>83.57</td>\n",
              "      <td>73.76</td>\n",
              "      <td>76.77</td>\n",
              "      <td>75.20</td>\n",
              "      <td>59.83</td>\n",
              "      <td>60.83</td>\n",
              "      <td>60.3</td>\n",
              "    </tr>\n",
              "    <tr>\n",
              "      <th>2</th>\n",
              "      <td>Arunachal Pradesh</td>\n",
              "      <td>2013-14</td>\n",
              "      <td>129.12</td>\n",
              "      <td>127.77</td>\n",
              "      <td>128.46</td>\n",
              "      <td>112.64</td>\n",
              "      <td>115.27</td>\n",
              "      <td>113.94</td>\n",
              "      <td>88.37</td>\n",
              "      <td>84.89</td>\n",
              "      <td>86.65</td>\n",
              "      <td>65.16</td>\n",
              "      <td>65.38</td>\n",
              "      <td>65.27</td>\n",
              "    </tr>\n",
              "    <tr>\n",
              "      <th>3</th>\n",
              "      <td>Assam</td>\n",
              "      <td>2013-14</td>\n",
              "      <td>111.77</td>\n",
              "      <td>115.16</td>\n",
              "      <td>113.43</td>\n",
              "      <td>87.85</td>\n",
              "      <td>98.69</td>\n",
              "      <td>93.13</td>\n",
              "      <td>65.60</td>\n",
              "      <td>77.20</td>\n",
              "      <td>71.21</td>\n",
              "      <td>31.78</td>\n",
              "      <td>34.27</td>\n",
              "      <td>32.94</td>\n",
              "    </tr>\n",
              "    <tr>\n",
              "      <th>4</th>\n",
              "      <td>Bihar</td>\n",
              "      <td>2013-14</td>\n",
              "      <td>95.03</td>\n",
              "      <td>101.15</td>\n",
              "      <td>97.96</td>\n",
              "      <td>80.60</td>\n",
              "      <td>94.92</td>\n",
              "      <td>87.24</td>\n",
              "      <td>57.66</td>\n",
              "      <td>62.96</td>\n",
              "      <td>60.08</td>\n",
              "      <td>23.33</td>\n",
              "      <td>24.17</td>\n",
              "      <td>23.7</td>\n",
              "    </tr>\n",
              "    <tr>\n",
              "      <th>5</th>\n",
              "      <td>Chandigarh</td>\n",
              "      <td>2013-14</td>\n",
              "      <td>88.42</td>\n",
              "      <td>96.09</td>\n",
              "      <td>91.85</td>\n",
              "      <td>99.93</td>\n",
              "      <td>103.02</td>\n",
              "      <td>101.27</td>\n",
              "      <td>92.08</td>\n",
              "      <td>92.16</td>\n",
              "      <td>92.11</td>\n",
              "      <td>90.5</td>\n",
              "      <td>92.88</td>\n",
              "      <td>91.49</td>\n",
              "    </tr>\n",
              "    <tr>\n",
              "      <th>6</th>\n",
              "      <td>Chhattisgarh</td>\n",
              "      <td>2013-14</td>\n",
              "      <td>104.06</td>\n",
              "      <td>103.93</td>\n",
              "      <td>103.99</td>\n",
              "      <td>100.35</td>\n",
              "      <td>101.10</td>\n",
              "      <td>100.72</td>\n",
              "      <td>96.68</td>\n",
              "      <td>99.32</td>\n",
              "      <td>97.99</td>\n",
              "      <td>58.27</td>\n",
              "      <td>56.16</td>\n",
              "      <td>57.23</td>\n",
              "    </tr>\n",
              "    <tr>\n",
              "      <th>7</th>\n",
              "      <td>Dadra &amp; Nagar Haveli</td>\n",
              "      <td>2013-14</td>\n",
              "      <td>89.50</td>\n",
              "      <td>81.89</td>\n",
              "      <td>85.78</td>\n",
              "      <td>100.76</td>\n",
              "      <td>91.43</td>\n",
              "      <td>96.22</td>\n",
              "      <td>87.79</td>\n",
              "      <td>79.08</td>\n",
              "      <td>83.66</td>\n",
              "      <td>37.77</td>\n",
              "      <td>41.99</td>\n",
              "      <td>39.64</td>\n",
              "    </tr>\n",
              "    <tr>\n",
              "      <th>8</th>\n",
              "      <td>Daman &amp; Diu</td>\n",
              "      <td>2013-14</td>\n",
              "      <td>87.80</td>\n",
              "      <td>89.78</td>\n",
              "      <td>88.69</td>\n",
              "      <td>84.06</td>\n",
              "      <td>90.61</td>\n",
              "      <td>86.97</td>\n",
              "      <td>67.94</td>\n",
              "      <td>82.20</td>\n",
              "      <td>73.88</td>\n",
              "      <td>34.37</td>\n",
              "      <td>64.55</td>\n",
              "      <td>44.36</td>\n",
              "    </tr>\n",
              "    <tr>\n",
              "      <th>9</th>\n",
              "      <td>Delhi</td>\n",
              "      <td>2013-14</td>\n",
              "      <td>108.78</td>\n",
              "      <td>112.95</td>\n",
              "      <td>110.67</td>\n",
              "      <td>117.76</td>\n",
              "      <td>129.50</td>\n",
              "      <td>122.91</td>\n",
              "      <td>102.02</td>\n",
              "      <td>102.86</td>\n",
              "      <td>102.40</td>\n",
              "      <td>98.88</td>\n",
              "      <td>102.3</td>\n",
              "      <td>100.42</td>\n",
              "    </tr>\n",
              "  </tbody>\n",
              "</table>\n",
              "</div>"
            ],
            "text/plain": [
              "                    State_UT  ... Higher_Secondary_Total\n",
              "0  Andaman & Nicobar Islands  ...                 101.28\n",
              "1             Andhra Pradesh  ...                   60.3\n",
              "2          Arunachal Pradesh  ...                  65.27\n",
              "3                      Assam  ...                  32.94\n",
              "4                      Bihar  ...                   23.7\n",
              "5                 Chandigarh  ...                  91.49\n",
              "6               Chhattisgarh  ...                  57.23\n",
              "7       Dadra & Nagar Haveli  ...                  39.64\n",
              "8                Daman & Diu  ...                  44.36\n",
              "9                      Delhi  ...                 100.42\n",
              "\n",
              "[10 rows x 14 columns]"
            ]
          },
          "metadata": {
            "tags": []
          },
          "execution_count": 92
        }
      ]
    },
    {
      "cell_type": "code",
      "metadata": {
        "colab": {
          "base_uri": "https://localhost:8080/"
        },
        "id": "bvr6yc7tc5rY",
        "outputId": "b0600e98-6857-4ba6-e0e3-2ac4c43e8750"
      },
      "source": [
        "df_ger.info()"
      ],
      "execution_count": null,
      "outputs": [
        {
          "output_type": "stream",
          "text": [
            "<class 'pandas.core.frame.DataFrame'>\n",
            "RangeIndex: 110 entries, 0 to 109\n",
            "Data columns (total 14 columns):\n",
            " #   Column                  Non-Null Count  Dtype  \n",
            "---  ------                  --------------  -----  \n",
            " 0   State_UT                110 non-null    object \n",
            " 1   Year                    110 non-null    object \n",
            " 2   Primary_Boys            110 non-null    float64\n",
            " 3   Primary_Girls           110 non-null    float64\n",
            " 4   Primary_Total           110 non-null    float64\n",
            " 5   Upper_Primary_Boys      110 non-null    float64\n",
            " 6   Upper_Primary_Girls     110 non-null    float64\n",
            " 7   Upper_Primary_Total     110 non-null    float64\n",
            " 8   Secondary_Boys          110 non-null    float64\n",
            " 9   Secondary_Girls         110 non-null    float64\n",
            " 10  Secondary_Total         110 non-null    float64\n",
            " 11  Higher_Secondary_Boys   110 non-null    object \n",
            " 12  Higher_Secondary_Girls  110 non-null    object \n",
            " 13  Higher_Secondary_Total  110 non-null    object \n",
            "dtypes: float64(9), object(5)\n",
            "memory usage: 12.2+ KB\n"
          ],
          "name": "stdout"
        }
      ]
    },
    {
      "cell_type": "code",
      "metadata": {
        "id": "yjLdtlKcdC9W"
      },
      "source": [
        "# Arrange the `year` column in ascending order\n",
        "df_ger = df_ger.sort_values('Year',ascending=True)\n",
        "\n",
        "# Dataframe for `All India` Gross Enrollment Ratio\n",
        "ger_ai = df_ger[df_ger['State_UT'] == 'All India'].reset_index(drop=True)"
      ],
      "execution_count": null,
      "outputs": []
    },
    {
      "cell_type": "code",
      "metadata": {
        "colab": {
          "base_uri": "https://localhost:8080/",
          "height": 228
        },
        "id": "QfvR0_s3dSd5",
        "outputId": "a973c144-b3d0-413f-f353-ae572897e209"
      },
      "source": [
        "print(\"Gross Enrollment Ratio - All India (2013-2016)\")\n",
        "display(ger_ai)"
      ],
      "execution_count": null,
      "outputs": [
        {
          "output_type": "stream",
          "text": [
            "Gross Enrollment Ratio - All India (2013-2016)\n"
          ],
          "name": "stdout"
        },
        {
          "output_type": "display_data",
          "data": {
            "text/html": [
              "<div>\n",
              "<style scoped>\n",
              "    .dataframe tbody tr th:only-of-type {\n",
              "        vertical-align: middle;\n",
              "    }\n",
              "\n",
              "    .dataframe tbody tr th {\n",
              "        vertical-align: top;\n",
              "    }\n",
              "\n",
              "    .dataframe thead th {\n",
              "        text-align: right;\n",
              "    }\n",
              "</style>\n",
              "<table border=\"1\" class=\"dataframe\">\n",
              "  <thead>\n",
              "    <tr style=\"text-align: right;\">\n",
              "      <th></th>\n",
              "      <th>State_UT</th>\n",
              "      <th>Year</th>\n",
              "      <th>Primary_Boys</th>\n",
              "      <th>Primary_Girls</th>\n",
              "      <th>Primary_Total</th>\n",
              "      <th>Upper_Primary_Boys</th>\n",
              "      <th>Upper_Primary_Girls</th>\n",
              "      <th>Upper_Primary_Total</th>\n",
              "      <th>Secondary_Boys</th>\n",
              "      <th>Secondary_Girls</th>\n",
              "      <th>Secondary_Total</th>\n",
              "      <th>Higher_Secondary_Boys</th>\n",
              "      <th>Higher_Secondary_Girls</th>\n",
              "      <th>Higher_Secondary_Total</th>\n",
              "    </tr>\n",
              "  </thead>\n",
              "  <tbody>\n",
              "    <tr>\n",
              "      <th>0</th>\n",
              "      <td>All India</td>\n",
              "      <td>2013-14</td>\n",
              "      <td>100.20</td>\n",
              "      <td>102.65</td>\n",
              "      <td>101.36</td>\n",
              "      <td>86.31</td>\n",
              "      <td>92.75</td>\n",
              "      <td>89.33</td>\n",
              "      <td>76.80</td>\n",
              "      <td>76.47</td>\n",
              "      <td>76.64</td>\n",
              "      <td>52.77</td>\n",
              "      <td>51.58</td>\n",
              "      <td>52.21</td>\n",
              "    </tr>\n",
              "    <tr>\n",
              "      <th>1</th>\n",
              "      <td>All India</td>\n",
              "      <td>2014-15</td>\n",
              "      <td>98.85</td>\n",
              "      <td>101.43</td>\n",
              "      <td>100.08</td>\n",
              "      <td>87.71</td>\n",
              "      <td>95.29</td>\n",
              "      <td>91.24</td>\n",
              "      <td>78.13</td>\n",
              "      <td>78.94</td>\n",
              "      <td>78.51</td>\n",
              "      <td>54.57</td>\n",
              "      <td>53.81</td>\n",
              "      <td>54.21</td>\n",
              "    </tr>\n",
              "    <tr>\n",
              "      <th>2</th>\n",
              "      <td>All India</td>\n",
              "      <td>2015-16</td>\n",
              "      <td>97.87</td>\n",
              "      <td>100.69</td>\n",
              "      <td>99.21</td>\n",
              "      <td>88.72</td>\n",
              "      <td>97.57</td>\n",
              "      <td>92.81</td>\n",
              "      <td>79.16</td>\n",
              "      <td>80.97</td>\n",
              "      <td>80.01</td>\n",
              "      <td>55.95</td>\n",
              "      <td>56.41</td>\n",
              "      <td>56.16</td>\n",
              "    </tr>\n",
              "  </tbody>\n",
              "</table>\n",
              "</div>"
            ],
            "text/plain": [
              "    State_UT     Year  ...  Higher_Secondary_Girls  Higher_Secondary_Total\n",
              "0  All India  2013-14  ...                   51.58                   52.21\n",
              "1  All India  2014-15  ...                   53.81                   54.21\n",
              "2  All India  2015-16  ...                   56.41                   56.16\n",
              "\n",
              "[3 rows x 14 columns]"
            ]
          },
          "metadata": {
            "tags": []
          }
        }
      ]
    },
    {
      "cell_type": "code",
      "metadata": {
        "id": "F5HerK3Pd1rD"
      },
      "source": [
        "def drop_rows(dataframe,given_list,search_value):\n",
        "  for i in given_list:\n",
        "      dataframe = dataframe[~dataframe[i].str.contains(search_value)].reset_index(drop=True)\n",
        "  return dataframe\n",
        "\n",
        "\n",
        "ger_column_list = ['Higher_Secondary_Boys','Higher_Secondary_Girls','Higher_Secondary_Total']\n",
        "df_ger = drop_rows(df_ger,ger_column_list,'NR')\n",
        "df_ger = drop_rows(df_ger,ger_column_list,'@')\n"
      ],
      "execution_count": null,
      "outputs": []
    },
    {
      "cell_type": "code",
      "metadata": {
        "id": "bJVTYWLEfBwz"
      },
      "source": [
        "def convert_to_float(dataframe,given_list,which_type):\n",
        "  for i in given_list:\n",
        "    dataframe[i] = dataframe[i].astype(which_type)\n",
        "  return dataframe"
      ],
      "execution_count": null,
      "outputs": []
    },
    {
      "cell_type": "code",
      "metadata": {
        "id": "iVBA-7lUey5G"
      },
      "source": [
        "ger_girls_list = ['State_UT','Year','Primary_Girls','Upper_Primary_Girls','Secondary_Girls','Higher_Secondary_Girls']\n",
        "ger_boys_list = ['State_UT','Year','Primary_Boys','Upper_Primary_Boys','Secondary_Boys','Higher_Secondary_Boys']\n",
        "\n",
        "ger_girls = ger_ai.loc[:,ger_girls_list]\n",
        "ger_boys = ger_ai.loc[:,ger_boys_list]\n",
        "\n",
        "tidy_girls = pd.melt(ger_girls,id_vars=['Year','State_UT']).rename(columns=str.title)\n",
        "tidy_boys = pd.melt(ger_boys,id_vars=['Year','State_UT']).rename(columns=str.title)\n",
        "tidy_girls=convert_to_float(tidy_girls,['Value'],float)\n",
        "tidy_boys=convert_to_float(tidy_boys,['Value'],float)"
      ],
      "execution_count": null,
      "outputs": []
    },
    {
      "cell_type": "code",
      "metadata": {
        "colab": {
          "base_uri": "https://localhost:8080/"
        },
        "id": "Vbpr6wjUfTUh",
        "outputId": "4dcaf142-759f-4306-ee0b-8dcc03c81973"
      },
      "source": [
        "df_ger = convert_to_float(df_ger,ger_column_list,float)\n",
        "df_ger.info()"
      ],
      "execution_count": null,
      "outputs": [
        {
          "output_type": "stream",
          "text": [
            "<class 'pandas.core.frame.DataFrame'>\n",
            "RangeIndex: 108 entries, 0 to 107\n",
            "Data columns (total 14 columns):\n",
            " #   Column                  Non-Null Count  Dtype  \n",
            "---  ------                  --------------  -----  \n",
            " 0   State_UT                108 non-null    object \n",
            " 1   Year                    108 non-null    object \n",
            " 2   Primary_Boys            108 non-null    float64\n",
            " 3   Primary_Girls           108 non-null    float64\n",
            " 4   Primary_Total           108 non-null    float64\n",
            " 5   Upper_Primary_Boys      108 non-null    float64\n",
            " 6   Upper_Primary_Girls     108 non-null    float64\n",
            " 7   Upper_Primary_Total     108 non-null    float64\n",
            " 8   Secondary_Boys          108 non-null    float64\n",
            " 9   Secondary_Girls         108 non-null    float64\n",
            " 10  Secondary_Total         108 non-null    float64\n",
            " 11  Higher_Secondary_Boys   108 non-null    float64\n",
            " 12  Higher_Secondary_Girls  108 non-null    float64\n",
            " 13  Higher_Secondary_Total  108 non-null    float64\n",
            "dtypes: float64(12), object(2)\n",
            "memory usage: 11.9+ KB\n"
          ],
          "name": "stdout"
        }
      ]
    },
    {
      "cell_type": "code",
      "metadata": {
        "colab": {
          "base_uri": "https://localhost:8080/",
          "height": 651
        },
        "id": "olrEuoy_eN-C",
        "outputId": "d6ae83f0-3537-4c9c-ecbc-94f44e408fd2"
      },
      "source": [
        "# setting the plot styles and backgrounds\n",
        "sns.set(style=\"ticks\",context=\"talk\")\n",
        "plt.style.use('seaborn-paper')\n",
        "\n",
        "f, axes = plt.subplots(1, 2, figsize=(20, 10))\n",
        "\n",
        "colors=['lime','cyan','magenta','blue']\n",
        "\n",
        "\n",
        "ger_girls_bplot = sns.barplot(x=\"Year\",y='Value',hue='Variable',data=tidy_girls,edgecolor='black',palette=colors,ax=axes[0])\n",
        "ger_girls_bplot.set(ylim=(40, 130))\n",
        "\n",
        "axes[0].set_title('Gross Enrollment Ratio of Girls in India',size = 16)\n",
        "axes[0].set_ylabel('Gross Enrollment Ratio',size=13)\n",
        "axes[0].set_xlabel('Year',size=13)\n",
        "ger_girls_bplot.legend()\n",
        "\n",
        "\n",
        "\n",
        "\n",
        "\n",
        "ger_boys_bplot = sns.barplot(x=\"Year\",y='Value',hue='Variable',data=tidy_boys,palette=colors,edgecolor='black',ax=axes[1])\n",
        "ger_boys_bplot.set(ylim=(40, 130))\n",
        "\n",
        "axes[1].set_title('Gross Enrollment Ratio of Boys in India',size = 16)\n",
        "axes[1].set_ylabel('Gross Enrollment Ratio',size=13)\n",
        "axes[1].set_xlabel('Year',size=13)\n",
        "ger_boys_bplot.legend()\n",
        "\n"
      ],
      "execution_count": null,
      "outputs": [
        {
          "output_type": "execute_result",
          "data": {
            "text/plain": [
              "<matplotlib.legend.Legend at 0x7f8869a217f0>"
            ]
          },
          "metadata": {
            "tags": []
          },
          "execution_count": 100
        },
        {
          "output_type": "display_data",
          "data": {
            "image/png": "[encoded data removed]",
            "text/plain": [
              "<Figure size 1440x720 with 2 Axes>"
            ]
          },
          "metadata": {
            "tags": []
          }
        }
      ]
    },
    {
      "cell_type": "code",
      "metadata": {
        "colab": {
          "base_uri": "https://localhost:8080/",
          "height": 210
        },
        "id": "MM7Gs-ImvrfO",
        "outputId": "dfb3d02c-1d38-4d45-f35d-0aaa423ee49d"
      },
      "source": [
        "ger_ai"
      ],
      "execution_count": null,
      "outputs": [
        {
          "output_type": "execute_result",
          "data": {
            "text/html": [
              "<div>\n",
              "<style scoped>\n",
              "    .dataframe tbody tr th:only-of-type {\n",
              "        vertical-align: middle;\n",
              "    }\n",
              "\n",
              "    .dataframe tbody tr th {\n",
              "        vertical-align: top;\n",
              "    }\n",
              "\n",
              "    .dataframe thead th {\n",
              "        text-align: right;\n",
              "    }\n",
              "</style>\n",
              "<table border=\"1\" class=\"dataframe\">\n",
              "  <thead>\n",
              "    <tr style=\"text-align: right;\">\n",
              "      <th></th>\n",
              "      <th>State_UT</th>\n",
              "      <th>Year</th>\n",
              "      <th>Primary_Boys</th>\n",
              "      <th>Primary_Girls</th>\n",
              "      <th>Primary_Total</th>\n",
              "      <th>Upper_Primary_Boys</th>\n",
              "      <th>Upper_Primary_Girls</th>\n",
              "      <th>Upper_Primary_Total</th>\n",
              "      <th>Secondary_Boys</th>\n",
              "      <th>Secondary_Girls</th>\n",
              "      <th>Secondary_Total</th>\n",
              "      <th>Higher_Secondary_Boys</th>\n",
              "      <th>Higher_Secondary_Girls</th>\n",
              "      <th>Higher_Secondary_Total</th>\n",
              "    </tr>\n",
              "  </thead>\n",
              "  <tbody>\n",
              "    <tr>\n",
              "      <th>0</th>\n",
              "      <td>All India</td>\n",
              "      <td>2013-14</td>\n",
              "      <td>100.20</td>\n",
              "      <td>102.65</td>\n",
              "      <td>101.36</td>\n",
              "      <td>86.31</td>\n",
              "      <td>92.75</td>\n",
              "      <td>89.33</td>\n",
              "      <td>76.80</td>\n",
              "      <td>76.47</td>\n",
              "      <td>76.64</td>\n",
              "      <td>52.77</td>\n",
              "      <td>51.58</td>\n",
              "      <td>52.21</td>\n",
              "    </tr>\n",
              "    <tr>\n",
              "      <th>1</th>\n",
              "      <td>All India</td>\n",
              "      <td>2014-15</td>\n",
              "      <td>98.85</td>\n",
              "      <td>101.43</td>\n",
              "      <td>100.08</td>\n",
              "      <td>87.71</td>\n",
              "      <td>95.29</td>\n",
              "      <td>91.24</td>\n",
              "      <td>78.13</td>\n",
              "      <td>78.94</td>\n",
              "      <td>78.51</td>\n",
              "      <td>54.57</td>\n",
              "      <td>53.81</td>\n",
              "      <td>54.21</td>\n",
              "    </tr>\n",
              "    <tr>\n",
              "      <th>2</th>\n",
              "      <td>All India</td>\n",
              "      <td>2015-16</td>\n",
              "      <td>97.87</td>\n",
              "      <td>100.69</td>\n",
              "      <td>99.21</td>\n",
              "      <td>88.72</td>\n",
              "      <td>97.57</td>\n",
              "      <td>92.81</td>\n",
              "      <td>79.16</td>\n",
              "      <td>80.97</td>\n",
              "      <td>80.01</td>\n",
              "      <td>55.95</td>\n",
              "      <td>56.41</td>\n",
              "      <td>56.16</td>\n",
              "    </tr>\n",
              "  </tbody>\n",
              "</table>\n",
              "</div>"
            ],
            "text/plain": [
              "    State_UT     Year  ...  Higher_Secondary_Girls  Higher_Secondary_Total\n",
              "0  All India  2013-14  ...                   51.58                   52.21\n",
              "1  All India  2014-15  ...                   53.81                   54.21\n",
              "2  All India  2015-16  ...                   56.41                   56.16\n",
              "\n",
              "[3 rows x 14 columns]"
            ]
          },
          "metadata": {
            "tags": []
          },
          "execution_count": 103
        }
      ]
    },
    {
      "cell_type": "code",
      "metadata": {
        "colab": {
          "base_uri": "https://localhost:8080/",
          "height": 139
        },
        "id": "NhLunHpevK9B",
        "outputId": "f8b32322-170e-4b34-8d37-29882bee1fbe"
      },
      "source": [
        "ger_ai_total=ger_ai[['State_UT','Year','Primary_Total','Upper_Primary_Total','Secondary_Total','Higher_Secondary_Total'][:]]\n",
        "ger_ai_total"
      ],
      "execution_count": null,
      "outputs": [
        {
          "output_type": "execute_result",
          "data": {
            "text/html": [
              "<div>\n",
              "<style scoped>\n",
              "    .dataframe tbody tr th:only-of-type {\n",
              "        vertical-align: middle;\n",
              "    }\n",
              "\n",
              "    .dataframe tbody tr th {\n",
              "        vertical-align: top;\n",
              "    }\n",
              "\n",
              "    .dataframe thead th {\n",
              "        text-align: right;\n",
              "    }\n",
              "</style>\n",
              "<table border=\"1\" class=\"dataframe\">\n",
              "  <thead>\n",
              "    <tr style=\"text-align: right;\">\n",
              "      <th></th>\n",
              "      <th>State_UT</th>\n",
              "      <th>Year</th>\n",
              "      <th>Primary_Total</th>\n",
              "      <th>Upper_Primary_Total</th>\n",
              "      <th>Secondary_Total</th>\n",
              "      <th>Higher_Secondary_Total</th>\n",
              "    </tr>\n",
              "  </thead>\n",
              "  <tbody>\n",
              "    <tr>\n",
              "      <th>0</th>\n",
              "      <td>All India</td>\n",
              "      <td>2013-14</td>\n",
              "      <td>101.36</td>\n",
              "      <td>89.33</td>\n",
              "      <td>76.64</td>\n",
              "      <td>52.21</td>\n",
              "    </tr>\n",
              "    <tr>\n",
              "      <th>1</th>\n",
              "      <td>All India</td>\n",
              "      <td>2014-15</td>\n",
              "      <td>100.08</td>\n",
              "      <td>91.24</td>\n",
              "      <td>78.51</td>\n",
              "      <td>54.21</td>\n",
              "    </tr>\n",
              "    <tr>\n",
              "      <th>2</th>\n",
              "      <td>All India</td>\n",
              "      <td>2015-16</td>\n",
              "      <td>99.21</td>\n",
              "      <td>92.81</td>\n",
              "      <td>80.01</td>\n",
              "      <td>56.16</td>\n",
              "    </tr>\n",
              "  </tbody>\n",
              "</table>\n",
              "</div>"
            ],
            "text/plain": [
              "    State_UT     Year  ...  Secondary_Total  Higher_Secondary_Total\n",
              "0  All India  2013-14  ...            76.64                   52.21\n",
              "1  All India  2014-15  ...            78.51                   54.21\n",
              "2  All India  2015-16  ...            80.01                   56.16\n",
              "\n",
              "[3 rows x 6 columns]"
            ]
          },
          "metadata": {
            "tags": []
          },
          "execution_count": 104
        }
      ]
    },
    {
      "cell_type": "code",
      "metadata": {
        "id": "Plo2Y--qv8E9"
      },
      "source": [
        "ger_total_list = ['State_UT','Year','Primary_Total','Upper_Primary_Total','Secondary_Total','Higher_Secondary_Total']\n",
        "\n",
        "ger_total = ger_ai.loc[:,ger_total_list]\n",
        "tidy_total = pd.melt(ger_total,id_vars=['Year','State_UT']).rename(columns=str.title)\n",
        "tidy_total=convert_to_float(tidy_total,['Value'],float)"
      ],
      "execution_count": null,
      "outputs": []
    },
    {
      "cell_type": "code",
      "metadata": {
        "colab": {
          "base_uri": "https://localhost:8080/",
          "height": 307
        },
        "id": "Jq2bujxuwx3M",
        "outputId": "59a59fd1-a032-4822-9767-a72a213e72eb"
      },
      "source": [
        "colors=['orange','grey','skyblue','green']\n",
        "ger_total_bplot = sns.barplot(x=\"Year\",y='Value',hue='Variable',data=tidy_total,edgecolor='black',palette=colors,alpha=0.9)\n"
      ],
      "execution_count": null,
      "outputs": [
        {
          "output_type": "display_data",
          "data": {
            "image/png": "[encoded data removed]",
            "text/plain": [
              "<Figure size 460.8x316.8 with 1 Axes>"
            ]
          },
          "metadata": {
            "tags": []
          }
        }
      ]
    },
    {
      "cell_type": "markdown",
      "metadata": {
        "id": "MUTIild1ikvk"
      },
      "source": [
        "<br>\n",
        "<br>\n",
        "<br>\n",
        "\n",
        "\n"
      ]
    }
  ]
}