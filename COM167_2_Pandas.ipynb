{
  "nbformat": 4,
  "nbformat_minor": 0,
  "metadata": {
    "colab": {
      "name": "COM167_2_Pandas.ipynb",
      "provenance": [],
      "collapsed_sections": [],
      "include_colab_link": true
    },
    "kernelspec": {
      "name": "python3",
      "display_name": "Python 3"
    }
  },
  "cells": [
    {
      "cell_type": "markdown",
      "metadata": {
        "id": "view-in-github",
        "colab_type": "text"
      },
      "source": [
        "<a href=\"https://colab.research.google.com/github/Sanjeevuvs/DATAVisualization/blob/main/COM167_2_Pandas.ipynb\" target=\"_parent\"><img src=\"https://colab.research.google.com/assets/colab-badge.svg\" alt=\"Open In Colab\"/></a>"
      ]
    },
    {
      "cell_type": "markdown",
      "metadata": {
        "id": "gcG9-YE8yYKM"
      },
      "source": [
        "# **Pandas** \n",
        "\n",
        "## **Descriptive Statistics**\n",
        "\n",
        "\n",
        "---\n",
        "\n",
        "\n",
        "A large number of methods collectively compute descriptive statistics and other related operations on DataFrame. \n",
        "\n",
        "Most of these are aggregations like sum(), mean(), but some of them, like sumsum(), produce an object of the same size. \n",
        "\n",
        "Generally speaking, these methods take an axis argument, just like ndarray.{sum, std, ...}, but the axis can be specified by name or integer\n",
        "\n",
        "**DataFrame − “index” (axis=0, default), “columns” (axis=1)**"
      ]
    },
    {
      "cell_type": "code",
      "metadata": {
        "id": "4RQKo032y1H7",
        "colab": {
          "base_uri": "https://localhost:8080/",
          "height": 238
        },
        "outputId": "a6d44b52-d934-411e-e664-7a40410c87fb"
      },
      "source": [
        "import pandas as pd\n",
        "import numpy as np\n",
        " \n",
        "#Create a Dictionary of series\n",
        "d = {'Name':pd.Series(['Tom','James','Ricky','Vin','Steve','Smith','Jack',\n",
        "   'Lee','David','Gasper','Betina','Andres']),\n",
        "   'Age':pd.Series([25,26,25,23,30,29,23,34,40,30,51,46]),\n",
        "   'Rating':pd.Series([4.23,3.24,3.98,2.56,3.20,4.6,3.8,3.78,2.98,4.80,4.10,3.65])\n",
        "}\n",
        " \n",
        "#Create a DataFrame\n",
        "df = pd.DataFrame(d)\n",
        "print (df)"
      ],
      "execution_count": null,
      "outputs": [
        {
          "output_type": "stream",
          "text": [
            "      Name  Age  Rating\n",
            "0      Tom   25    4.23\n",
            "1    James   26    3.24\n",
            "2    Ricky   25    3.98\n",
            "3      Vin   23    2.56\n",
            "4    Steve   30    3.20\n",
            "5    Smith   29    4.60\n",
            "6     Jack   23    3.80\n",
            "7      Lee   34    3.78\n",
            "8    David   40    2.98\n",
            "9   Gasper   30    4.80\n",
            "10  Betina   51    4.10\n",
            "11  Andres   46    3.65\n"
          ],
          "name": "stdout"
        }
      ]
    },
    {
      "cell_type": "markdown",
      "metadata": {
        "id": "FgDMT5KUzBwL"
      },
      "source": [
        "### **sum()**\n",
        "\n",
        "Returns the sum of the values for the requested axis. By default, axis is index (axis=0)."
      ]
    },
    {
      "cell_type": "code",
      "metadata": {
        "id": "mCfefZunzGDZ",
        "colab": {
          "base_uri": "https://localhost:8080/",
          "height": 105
        },
        "outputId": "35d67766-831b-4a81-d7f6-3df6b8237573"
      },
      "source": [
        "print (df.sum())"
      ],
      "execution_count": null,
      "outputs": [
        {
          "output_type": "stream",
          "text": [
            "Name      TomJamesRickyVinSteveSmithJackLeeDavidGasperBe...\n",
            "Age                                                     382\n",
            "Rating                                                44.92\n",
            "dtype: object\n"
          ],
          "name": "stdout"
        }
      ]
    },
    {
      "cell_type": "markdown",
      "metadata": {
        "id": "AjyM3r4kzRQN"
      },
      "source": [
        "Each individual column is added individually (Strings are appended).\n",
        "\n",
        "### **axis=1**\n",
        "This syntax will give the output as shown below."
      ]
    },
    {
      "cell_type": "code",
      "metadata": {
        "id": "jbc4Dg1qzUuz",
        "colab": {
          "base_uri": "https://localhost:8080/",
          "height": 238
        },
        "outputId": "18807da8-3352-4fe4-8cbe-23ca0453e2db"
      },
      "source": [
        "print (df.sum(1))"
      ],
      "execution_count": null,
      "outputs": [
        {
          "output_type": "stream",
          "text": [
            "0     29.23\n",
            "1     29.24\n",
            "2     28.98\n",
            "3     25.56\n",
            "4     33.20\n",
            "5     33.60\n",
            "6     26.80\n",
            "7     37.78\n",
            "8     42.98\n",
            "9     34.80\n",
            "10    55.10\n",
            "11    49.65\n",
            "dtype: float64\n"
          ],
          "name": "stdout"
        }
      ]
    },
    {
      "cell_type": "markdown",
      "metadata": {
        "id": "IaCylNnlzpHR"
      },
      "source": [
        "### **mean()**\n",
        "Returns the average value"
      ]
    },
    {
      "cell_type": "code",
      "metadata": {
        "id": "ElyWxTVKzsrj",
        "colab": {
          "base_uri": "https://localhost:8080/",
          "height": 68
        },
        "outputId": "ad070e28-f332-4123-fbd5-228d5c430fcd"
      },
      "source": [
        "print (df.mean())"
      ],
      "execution_count": null,
      "outputs": [
        {
          "output_type": "stream",
          "text": [
            "Age       31.833333\n",
            "Rating     3.743333\n",
            "dtype: float64\n"
          ],
          "name": "stdout"
        }
      ]
    },
    {
      "cell_type": "markdown",
      "metadata": {
        "id": "FLZ93ZFTz7J9"
      },
      "source": [
        "### **std()**\n",
        "Returns the Bressel standard deviation of the numerical columns."
      ]
    },
    {
      "cell_type": "code",
      "metadata": {
        "id": "G216dpsaz9z7",
        "colab": {
          "base_uri": "https://localhost:8080/",
          "height": 68
        },
        "outputId": "3a23d01b-f5e1-4ff5-d624-db560683aad2"
      },
      "source": [
        "print (df.std())"
      ],
      "execution_count": null,
      "outputs": [
        {
          "output_type": "stream",
          "text": [
            "Age       9.232682\n",
            "Rating    0.661628\n",
            "dtype: float64\n"
          ],
          "name": "stdout"
        }
      ]
    },
    {
      "cell_type": "markdown",
      "metadata": {
        "id": "gfWgSUPS0IQm"
      },
      "source": [
        "### **Functions & Description**\n",
        "Let us now understand the functions under Descriptive Statistics in Python Pandas. \n",
        "\n",
        "The following table list down the important functions −\n",
        "\n",
        "Sr.No.\t| Function |\tDescription\n",
        ":---|:----|:----\n",
        "1 |\tcount() |\tNumber of non-null observations\n",
        "2 |\tsum() |\tSum of values\n",
        "3 |\tmean() |\tMean of Values\n",
        "4 |\tmedian() |\tMedian of Values\n",
        "5 |\tmode() |\tMode of values\n",
        "6 |\tstd() |\tStandard Deviation of the Values\n",
        "7 |\tmin() |\tMinimum Value\n",
        "8 |\tmax() |\tMaximum Value\n",
        "9 |\tabs() |\tAbsolute Value\n",
        "10 |\tprod() |\tProduct of Values\n",
        "11 |\tcumsum() |\tCumulative Sum\n",
        "12 |\tcumprod() |\tCumulative Product\n",
        "\n",
        "**Note** − Since DataFrame is a Heterogeneous data structure. Generic operations don’t work with all functions.\n",
        "\n",
        "Functions like **sum(), cumsum()** work with both numeric and character (or) string data elements without any error. Though **n** practice, character aggregations are never used generally, these functions do not throw any exception.\n",
        "\n",
        "Functions like a**bs(), cumprod()** throw exception when the DataFrame contains character or string data because such operations cannot be performed."
      ]
    },
    {
      "cell_type": "markdown",
      "metadata": {
        "id": "B5O-TRvP04_W"
      },
      "source": [
        "### **Summarizing Data**\n",
        "The describe() function computes a summary of statistics pertaining to the DataFrame columns."
      ]
    },
    {
      "cell_type": "code",
      "metadata": {
        "id": "jt7WeENX1AZi",
        "colab": {
          "base_uri": "https://localhost:8080/",
          "height": 170
        },
        "outputId": "23dd3f40-3187-4ca7-ffc0-a641eeaf48b9"
      },
      "source": [
        "print (df.describe())"
      ],
      "execution_count": null,
      "outputs": [
        {
          "output_type": "stream",
          "text": [
            "             Age     Rating\n",
            "count  12.000000  12.000000\n",
            "mean   31.833333   3.743333\n",
            "std     9.232682   0.661628\n",
            "min    23.000000   2.560000\n",
            "25%    25.000000   3.230000\n",
            "50%    29.500000   3.790000\n",
            "75%    35.500000   4.132500\n",
            "max    51.000000   4.800000\n"
          ],
          "name": "stdout"
        }
      ]
    },
    {
      "cell_type": "markdown",
      "metadata": {
        "id": "YdlEBotu1HGm"
      },
      "source": [
        "This function gives the **mean**, **std** and **IQR** values. \n",
        "\n",
        "And, function excludes the character columns and given summary about numeric columns.\n",
        "\n",
        " **'include'** is the argument which is used to pass necessary information regarding what columns need to be considered for summarizing. \n",
        " \n",
        "Takes the list of values; by default, 'number'.\n",
        "\n",
        "* **object** − Summarizes String columns\n",
        "* **number** − Summarizes Numeric columns\n",
        "* all − Summarizes all columns together (Should not pass it as a list value)\n",
        "\n",
        "Now, use the following statement in the program and check the output −"
      ]
    },
    {
      "cell_type": "code",
      "metadata": {
        "id": "DLhltSkE1YAW",
        "colab": {
          "base_uri": "https://localhost:8080/",
          "height": 102
        },
        "outputId": "1f1d96c0-0947-4ba3-dbf3-4e29e2abee89"
      },
      "source": [
        "print (df.describe(include=['object']))"
      ],
      "execution_count": null,
      "outputs": [
        {
          "output_type": "stream",
          "text": [
            "          Name\n",
            "count       12\n",
            "unique      12\n",
            "top     Gasper\n",
            "freq         1\n"
          ],
          "name": "stdout"
        }
      ]
    },
    {
      "cell_type": "code",
      "metadata": {
        "id": "cjCloxwj1gAm",
        "colab": {
          "base_uri": "https://localhost:8080/",
          "height": 241
        },
        "outputId": "86a92902-4168-432e-a351-3809d1bd147f"
      },
      "source": [
        "print (df. describe(include='all'))"
      ],
      "execution_count": null,
      "outputs": [
        {
          "output_type": "stream",
          "text": [
            "          Name        Age     Rating\n",
            "count       12  12.000000  12.000000\n",
            "unique      12        NaN        NaN\n",
            "top     Gasper        NaN        NaN\n",
            "freq         1        NaN        NaN\n",
            "mean       NaN  31.833333   3.743333\n",
            "std        NaN   9.232682   0.661628\n",
            "min        NaN  23.000000   2.560000\n",
            "25%        NaN  25.000000   3.230000\n",
            "50%        NaN  29.500000   3.790000\n",
            "75%        NaN  35.500000   4.132500\n",
            "max        NaN  51.000000   4.800000\n"
          ],
          "name": "stdout"
        }
      ]
    },
    {
      "cell_type": "markdown",
      "metadata": {
        "id": "1rjPp5Ei2kyx"
      },
      "source": [
        "\n",
        "### **Reindexing**\n",
        "---\n",
        "Reindexing changes the row labels and column labels of a DataFrame. To reindex means to conform the data to match a given set of labels along a particular axis.\n",
        "\n",
        "Multiple operations can be accomplished through indexing like −\n",
        "\n",
        "* Reorder the existing data to match a new set of labels.\n",
        "\n",
        "* Insert missing value (NA) markers in label locations where no data for the label existed.\n"
      ]
    },
    {
      "cell_type": "code",
      "metadata": {
        "id": "gTew-KVU2xqO",
        "colab": {
          "base_uri": "https://localhost:8080/",
          "height": 462
        },
        "outputId": "88ea2231-27b9-49f6-e35a-d7be064b56a4"
      },
      "source": [
        "import pandas as pd\n",
        "import numpy as np\n",
        " \n",
        "N=20\n",
        " \n",
        "df = pd.DataFrame({\n",
        "   'A': pd.date_range(start='2016-01-01',periods=N,freq='D'),\n",
        "   'x': np.linspace(0,stop=N-1,num=N),\n",
        "   'y': np.random.rand(N),\n",
        "   'C': np.random.choice(['Low','Medium','High'],N).tolist(),\n",
        "   'D': np.random.normal(100, 10, size=(N)).tolist()\n",
        "})\n",
        "print(df)\n",
        "#reindex the DataFrame\n",
        "df_reindexed = df.reindex(index=[0,2,5], columns=['A', 'C', 'B'])\n",
        " \n",
        "print (df_reindexed)"
      ],
      "execution_count": null,
      "outputs": [
        {
          "output_type": "stream",
          "text": [
            "            A     x         y       C           D\n",
            "0  2016-01-01   0.0  0.596279     Low   96.966444\n",
            "1  2016-01-02   1.0  0.465360  Medium  102.807429\n",
            "2  2016-01-03   2.0  0.130458  Medium   99.136195\n",
            "3  2016-01-04   3.0  0.578851    High  103.402639\n",
            "4  2016-01-05   4.0  0.488387     Low  106.829620\n",
            "5  2016-01-06   5.0  0.415212     Low  107.577507\n",
            "6  2016-01-07   6.0  0.691921    High   84.999077\n",
            "7  2016-01-08   7.0  0.782964  Medium  107.944863\n",
            "8  2016-01-09   8.0  0.308572    High   95.152707\n",
            "9  2016-01-10   9.0  0.608406  Medium  116.167901\n",
            "10 2016-01-11  10.0  0.918118  Medium   84.386860\n",
            "11 2016-01-12  11.0  0.164710     Low  108.831594\n",
            "12 2016-01-13  12.0  0.305058  Medium   98.042604\n",
            "13 2016-01-14  13.0  0.925457     Low   89.580616\n",
            "14 2016-01-15  14.0  0.772258  Medium   90.220278\n",
            "15 2016-01-16  15.0  0.379422     Low   79.944290\n",
            "16 2016-01-17  16.0  0.144606  Medium   92.793142\n",
            "17 2016-01-18  17.0  0.838892  Medium   98.258030\n",
            "18 2016-01-19  18.0  0.199778    High   99.817446\n",
            "19 2016-01-20  19.0  0.192973  Medium   91.485510\n",
            "           A       C   B\n",
            "0 2016-01-01     Low NaN\n",
            "2 2016-01-03  Medium NaN\n",
            "5 2016-01-06     Low NaN\n"
          ],
          "name": "stdout"
        }
      ]
    },
    {
      "cell_type": "markdown",
      "metadata": {
        "id": "PCLrmTM624Me"
      },
      "source": [
        "**Reindex to Align with Other Objects**\n",
        "\n",
        "You may wish to take an object and reindex its axes to be labeled the same as another object. Consider the following example to understand the same."
      ]
    },
    {
      "cell_type": "code",
      "metadata": {
        "id": "aLGjm6JY29S6",
        "colab": {
          "base_uri": "https://localhost:8080/",
          "height": 153
        },
        "outputId": "cc47e2ab-2dd2-4cda-845c-648e7e0570c0"
      },
      "source": [
        "import pandas as pd\n",
        "import numpy as np\n",
        " \n",
        "df1 = pd.DataFrame(np.random.randn(10,3),columns=['col1','col2','col3'])\n",
        "df2 = pd.DataFrame(np.random.randn(7,3),columns=['col1','col2','col3'])\n",
        " \n",
        "df1 = df1.reindex_like(df2)\n",
        "print (df1)"
      ],
      "execution_count": null,
      "outputs": [
        {
          "output_type": "stream",
          "text": [
            "       col1      col2      col3\n",
            "0  1.948740 -0.110155  1.076390\n",
            "1 -2.067672 -0.385034  0.041916\n",
            "2  1.312509 -1.340803 -0.206062\n",
            "3  1.660343  0.476717 -0.790884\n",
            "4  1.576077 -1.430255 -0.412776\n",
            "5 -0.528468  1.206081  0.368698\n",
            "6 -0.193200 -1.152565  0.821028\n"
          ],
          "name": "stdout"
        }
      ]
    },
    {
      "cell_type": "markdown",
      "metadata": {
        "id": "TCcmACL43DhW"
      },
      "source": [
        "**Note −** Here, the df1 DataFrame is altered and reindexed like df2. The column names should be matched or else NAN will be added for the entire column label.\n",
        "\n",
        "**Filling while ReIndexing**\n",
        "\n",
        "**reindex()** takes an optional parameter method which is a filling method with values as follows −\n",
        "\n",
        "* pad/ffill − Fill values forward\n",
        "\n",
        "* bfill/backfill − Fill values backward\n",
        "\n",
        "* nearest − Fill from the nearest index values"
      ]
    },
    {
      "cell_type": "code",
      "metadata": {
        "id": "4RWnqIZN3P5s",
        "colab": {
          "base_uri": "https://localhost:8080/",
          "height": 272
        },
        "outputId": "c9a90d05-2aef-4c86-a004-2756d2e3a9c7"
      },
      "source": [
        "import pandas as pd\n",
        "import numpy as np\n",
        " \n",
        "df1 = pd.DataFrame(np.random.randn(6,3),columns=['col1','col2','col3'])\n",
        "df2 = pd.DataFrame(np.random.randn(2,3),columns=['col1','col2','col3'])\n",
        " \n",
        "# Padding NAN's\n",
        "print (df2.reindex_like(df1))\n",
        " \n",
        "# Now Fill the NAN's with preceding Values\n",
        "print (\"Data Frame with Forward Fill:\")\n",
        "print (df2.reindex_like(df1,method='ffill'))"
      ],
      "execution_count": null,
      "outputs": [
        {
          "output_type": "stream",
          "text": [
            "       col1      col2      col3\n",
            "0  1.072788  0.474214  1.060543\n",
            "1 -2.199235  2.279088  1.162261\n",
            "2       NaN       NaN       NaN\n",
            "3       NaN       NaN       NaN\n",
            "4       NaN       NaN       NaN\n",
            "5       NaN       NaN       NaN\n",
            "Data Frame with Forward Fill:\n",
            "       col1      col2      col3\n",
            "0  1.072788  0.474214  1.060543\n",
            "1 -2.199235  2.279088  1.162261\n",
            "2 -2.199235  2.279088  1.162261\n",
            "3 -2.199235  2.279088  1.162261\n",
            "4 -2.199235  2.279088  1.162261\n",
            "5 -2.199235  2.279088  1.162261\n"
          ],
          "name": "stdout"
        }
      ]
    },
    {
      "cell_type": "markdown",
      "metadata": {
        "id": "O0uRRY5Z3gV5"
      },
      "source": [
        "**Note** − The last four rows are padded.\n",
        "\n",
        "**Limits on Filling while Reindexing**\n",
        "\n",
        "The limit argument provides additional control over filling while reindexing. Limit specifies the maximum count of consecutive matches. "
      ]
    },
    {
      "cell_type": "code",
      "metadata": {
        "id": "cNv_h3N23nka",
        "colab": {
          "base_uri": "https://localhost:8080/",
          "height": 292
        },
        "outputId": "7df4729b-fab4-4c39-ad35-83cdd930a67a"
      },
      "source": [
        "import pandas as pd\n",
        "import numpy as np\n",
        " \n",
        "df1 = pd.DataFrame(np.random.randn(6,3),columns=['col1','col2','col3'])\n",
        "df2 = pd.DataFrame(np.random.randn(2,3),columns=['col1','col2','col3'])\n",
        " \n",
        "# Padding NAN's\n",
        "print (df2.reindex_like(df1))\n",
        " \n",
        "# Now Fill the NAN's with preceding Values\n",
        "print (\"Data Frame with Forward Fill limiting to 1:\")\n",
        "print (df2.reindex_like(df1,method='ffill',limit=1))"
      ],
      "execution_count": null,
      "outputs": [
        {
          "output_type": "stream",
          "text": [
            "       col1      col2      col3\n",
            "0  0.161809  0.021698 -0.068214\n",
            "1  0.537260  0.917941 -0.256427\n",
            "2       NaN       NaN       NaN\n",
            "3       NaN       NaN       NaN\n",
            "4       NaN       NaN       NaN\n",
            "5       NaN       NaN       NaN\n",
            "Data Frame with Forward Fill limiting to 1:\n",
            "       col1      col2      col3\n",
            "0  0.161809  0.021698 -0.068214\n",
            "1  0.537260  0.917941 -0.256427\n",
            "2  0.537260  0.917941 -0.256427\n",
            "3       NaN       NaN       NaN\n",
            "4       NaN       NaN       NaN\n",
            "5       NaN       NaN       NaN\n"
          ],
          "name": "stdout"
        }
      ]
    },
    {
      "cell_type": "markdown",
      "metadata": {
        "id": "Hdsvw-Da3xGG"
      },
      "source": [
        "**Note** − Observe, only the 7th row is filled by the preceding 6th row. Then, the rows are left as they are.\n",
        "\n",
        "**Renaming**\n",
        "\n",
        "The rename() method allows you to relabel an axis based on some mapping (a dict or Series) or an arbitrary function.\n",
        "\n"
      ]
    },
    {
      "cell_type": "code",
      "metadata": {
        "id": "6xDm1auC35VH",
        "colab": {
          "base_uri": "https://localhost:8080/",
          "height": 292
        },
        "outputId": "be8ede2b-d1ff-48dd-d817-a2761a77ab2a"
      },
      "source": [
        "import pandas as pd\n",
        "import numpy as np\n",
        " \n",
        "df1 = pd.DataFrame(np.random.randn(6,3),columns=['col1','col2','col3'])\n",
        "print (df1)\n",
        " \n",
        "print (\"After renaming the rows and columns:\")\n",
        "print (df1.rename(columns={'col1' : 'c1', 'col2' : 'c2'},\n",
        "index = {0 : 'apple', 1 : 'banana', 2 : 'durian'}))"
      ],
      "execution_count": null,
      "outputs": [
        {
          "output_type": "stream",
          "text": [
            "       col1      col2      col3\n",
            "0  0.338082 -0.030888  0.563512\n",
            "1  0.491571  0.119794  0.207512\n",
            "2  0.154062  1.169741 -1.994683\n",
            "3 -0.755057  0.088438 -0.086876\n",
            "4  1.396772  1.395794  0.643098\n",
            "5 -0.411405 -0.900120  0.494318\n",
            "After renaming the rows and columns:\n",
            "              c1        c2      col3\n",
            "apple   0.338082 -0.030888  0.563512\n",
            "banana  0.491571  0.119794  0.207512\n",
            "durian  0.154062  1.169741 -1.994683\n",
            "3      -0.755057  0.088438 -0.086876\n",
            "4       1.396772  1.395794  0.643098\n",
            "5      -0.411405 -0.900120  0.494318\n"
          ],
          "name": "stdout"
        }
      ]
    },
    {
      "cell_type": "markdown",
      "metadata": {
        "id": "15-lxKBm4A8-"
      },
      "source": [
        "The rename() method provides an **inplace** named parameter, which by default is False and copies the underlying data. Pass inplace=True to rename the data in place."
      ]
    },
    {
      "cell_type": "markdown",
      "metadata": {
        "id": "qxUCB--V5Eis"
      },
      "source": [
        "## **Iteration**\n",
        "\n",
        "\n",
        "---\n",
        "\n",
        "The behavior of basic iteration over Pandas objects depends on the type. \n",
        "\n",
        "When iterating over a Series, it is regarded as array-like, and basic iteration produces the values. \n",
        "\n",
        "Other data structures, like DataFrame and Panel, follow the **dict-like** convention of iterating over the **keys** of the objects.\n",
        "\n",
        "In short, basic iteration (for i in object) produces −\n",
        "\n",
        "* Series − values\n",
        "\n",
        "* DataFrame − column labels\n",
        "\n",
        "* Panel − item labels\n",
        "\n",
        "**Iterating a DataFrame**\n",
        "\n",
        "Iterating a DataFrame gives column names. "
      ]
    },
    {
      "cell_type": "code",
      "metadata": {
        "id": "uoMJiUfq4GM4",
        "colab": {
          "base_uri": "https://localhost:8080/",
          "height": 102
        },
        "outputId": "1a0f1d79-bb22-4504-9d2b-2aa0cc04e372"
      },
      "source": [
        "import pandas as pd\n",
        "import numpy as np\n",
        " \n",
        "N=20\n",
        "df = pd.DataFrame({\n",
        "   'A': pd.date_range(start='2016-01-01',periods=N,freq='D'),\n",
        "   'x': np.linspace(0,stop=N-1,num=N),\n",
        "   'y': np.random.rand(N),\n",
        "   'C': np.random.choice(['Low','Medium','High'],N).tolist(),\n",
        "   'D': np.random.normal(100, 10, size=(N)).tolist()\n",
        "   })\n",
        " \n",
        " \n",
        "for col in df:\n",
        "   print (col) # Prints column names"
      ],
      "execution_count": null,
      "outputs": [
        {
          "output_type": "stream",
          "text": [
            "A\n",
            "x\n",
            "y\n",
            "C\n",
            "D\n"
          ],
          "name": "stdout"
        }
      ]
    },
    {
      "cell_type": "markdown",
      "metadata": {
        "id": "6HJy2H_b52lz"
      },
      "source": [
        "To iterate over the rows of the DataFrame, we can use the following functions −\n",
        "\n",
        "* **iteritems()** − to iterate over the (key,value) pairs\n",
        "\n",
        "* **iterrows()** − iterate over the rows as (index,series) pairs\n",
        "\n",
        "* **itertuples()** − iterate over the rows as namedtuples\n",
        "\n",
        "**iteritems()**\n",
        "\n",
        "Iterates over each column as key, value pair with label as key and column value as a Series object."
      ]
    },
    {
      "cell_type": "code",
      "metadata": {
        "id": "L4VAbIQn5-1-",
        "colab": {
          "base_uri": "https://localhost:8080/",
          "height": 272
        },
        "outputId": "906533ba-9243-49ae-cea5-a4bdefb7500a"
      },
      "source": [
        "import pandas as pd\n",
        "import numpy as np\n",
        " \n",
        "df = pd.DataFrame(np.random.randn(4,3),columns=['col1','col2','col3'])\n",
        "for key,value in df.iteritems():\n",
        "   print (key,value)"
      ],
      "execution_count": null,
      "outputs": [
        {
          "output_type": "stream",
          "text": [
            "col1 0    0.397422\n",
            "1    0.049216\n",
            "2    0.181037\n",
            "3    0.265547\n",
            "Name: col1, dtype: float64\n",
            "col2 0   -0.316693\n",
            "1    1.572868\n",
            "2   -0.011679\n",
            "3   -2.529440\n",
            "Name: col2, dtype: float64\n",
            "col3 0    0.524836\n",
            "1    0.084524\n",
            "2   -0.372685\n",
            "3    0.562975\n",
            "Name: col3, dtype: float64\n"
          ],
          "name": "stdout"
        }
      ]
    },
    {
      "cell_type": "markdown",
      "metadata": {
        "id": "xa8HJqGzMo6H"
      },
      "source": [
        "Observe, each column is iterated separately as a key-value pair in a Series.\n",
        "\n",
        "**iterrows()**\n",
        "\n",
        "iterrows() returns the iterator yielding each index value along with a series containing the data in each row."
      ]
    },
    {
      "cell_type": "code",
      "metadata": {
        "id": "7KMUP7hhMr2f",
        "colab": {
          "base_uri": "https://localhost:8080/",
          "height": 289
        },
        "outputId": "8ebf36ed-8a00-49d9-dc1d-ee470ea43f47"
      },
      "source": [
        "for row_index,row in df.iterrows():\n",
        "   print (row_index,row)"
      ],
      "execution_count": null,
      "outputs": [
        {
          "output_type": "stream",
          "text": [
            "0 col1    0.397422\n",
            "col2   -0.316693\n",
            "col3    0.524836\n",
            "Name: 0, dtype: float64\n",
            "1 col1    0.049216\n",
            "col2    1.572868\n",
            "col3    0.084524\n",
            "Name: 1, dtype: float64\n",
            "2 col1    0.181037\n",
            "col2   -0.011679\n",
            "col3   -0.372685\n",
            "Name: 2, dtype: float64\n",
            "3 col1    0.265547\n",
            "col2   -2.529440\n",
            "col3    0.562975\n",
            "Name: 3, dtype: float64\n"
          ],
          "name": "stdout"
        }
      ]
    },
    {
      "cell_type": "markdown",
      "metadata": {
        "id": "-Jo-u-ODM5LB"
      },
      "source": [
        "**Note** − Because iterrows() iterate over the rows, it doesn't preserve the data type across the row. 0,1,2 are the row indices and col1,col2,col3 are column indices.\n",
        "\n",
        "**itertuples()**\n",
        "\n",
        "itertuples() method will return an iterator yielding a named tuple for each row in the DataFrame. The first element of the tuple will be the row’s corresponding index value, while the remaining values are the row values."
      ]
    },
    {
      "cell_type": "code",
      "metadata": {
        "id": "OMuWgLcgM_lx",
        "colab": {
          "base_uri": "https://localhost:8080/",
          "height": 105
        },
        "outputId": "bec366c8-9752-49ba-d4e7-59560d8a61a7"
      },
      "source": [
        "for row in df.itertuples():\n",
        "    print (row)"
      ],
      "execution_count": null,
      "outputs": [
        {
          "output_type": "stream",
          "text": [
            "Pandas(Index=0, col1=0.397422392343423, col2=-0.31669253240292883, col3=0.524835612295341)\n",
            "Pandas(Index=1, col1=0.04921617089242713, col2=1.572867677720913, col3=0.08452419079234313)\n",
            "Pandas(Index=2, col1=0.18103726070372794, col2=-0.011678591112698278, col3=-0.37268531796869164)\n",
            "Pandas(Index=3, col1=0.2655474137138689, col2=-2.5294402775768208, col3=0.562975484526443)\n"
          ],
          "name": "stdout"
        }
      ]
    },
    {
      "cell_type": "markdown",
      "metadata": {
        "id": "tkeOw95pNIYp"
      },
      "source": [
        "**Note** − Do not try to modify any object while iterating. Iterating is meant for reading and the iterator returns a copy of the original object (a view), thus the changes will not reflect on the original object."
      ]
    },
    {
      "cell_type": "code",
      "metadata": {
        "id": "iQqEsFjKNLwy",
        "colab": {
          "base_uri": "https://localhost:8080/",
          "height": 102
        },
        "outputId": "5871c18f-7732-4ed7-c550-d43c8f10f02c"
      },
      "source": [
        "for index, row in df.iterrows():\n",
        "   row['a'] = 10\n",
        "print (df)"
      ],
      "execution_count": null,
      "outputs": [
        {
          "output_type": "stream",
          "text": [
            "       col1      col2      col3\n",
            "0  0.397422 -0.316693  0.524836\n",
            "1  0.049216  1.572868  0.084524\n",
            "2  0.181037 -0.011679 -0.372685\n",
            "3  0.265547 -2.529440  0.562975\n"
          ],
          "name": "stdout"
        }
      ]
    },
    {
      "cell_type": "markdown",
      "metadata": {
        "id": "0drs6l-ZNUk6"
      },
      "source": [
        "## **Sorting**\n",
        "\n",
        "\n",
        "---\n",
        "\n",
        "There are two kinds of sorting available in Pandas. They are −\n",
        "\n",
        "* By label\n",
        "* By Actual Value\n",
        "\n",
        "Let us consider an example with an output."
      ]
    },
    {
      "cell_type": "code",
      "metadata": {
        "id": "tjgl4XhbNghr",
        "colab": {
          "base_uri": "https://localhost:8080/",
          "height": 204
        },
        "outputId": "a62f04ba-a8ac-4bb2-f3ec-d31bcdaf71e2"
      },
      "source": [
        "unsorted_df=pd.DataFrame(np.random.randn(10,2),index=[1,4,6,2,3,5,9,8,0,7],columns=['col2','col1'])\n",
        "print (unsorted_df)"
      ],
      "execution_count": null,
      "outputs": [
        {
          "output_type": "stream",
          "text": [
            "       col2      col1\n",
            "1  1.639513 -0.933718\n",
            "4  0.130597  0.194048\n",
            "6  0.057882  1.242845\n",
            "2 -0.310099 -1.051568\n",
            "3 -1.097428 -0.080387\n",
            "5  1.154381  0.598918\n",
            "9  0.719102  1.857120\n",
            "8  0.469061  1.389437\n",
            "0  1.452905  0.483890\n",
            "7  1.948133  1.216126\n"
          ],
          "name": "stdout"
        }
      ]
    },
    {
      "cell_type": "markdown",
      "metadata": {
        "id": "NfwbmQALNsKn"
      },
      "source": [
        "In unsorted_df, the labels and the values are unsorted. Let us see how these can be sorted.\n",
        "\n",
        "**By Label**\n",
        "\n",
        "Using the sort_index() method, by passing the axis arguments and the order of sorting, DataFrame can be sorted. By default, sorting is done on row labels in ascending order."
      ]
    },
    {
      "cell_type": "code",
      "metadata": {
        "id": "Zna59XasNwwf",
        "colab": {
          "base_uri": "https://localhost:8080/",
          "height": 204
        },
        "outputId": "fe80c406-b07a-4da8-ce68-2c2b41208dc0"
      },
      "source": [
        "sorted_df=unsorted_df.sort_index()\n",
        "print (sorted_df)"
      ],
      "execution_count": null,
      "outputs": [
        {
          "output_type": "stream",
          "text": [
            "       col2      col1\n",
            "0  1.452905  0.483890\n",
            "1  1.639513 -0.933718\n",
            "2 -0.310099 -1.051568\n",
            "3 -1.097428 -0.080387\n",
            "4  0.130597  0.194048\n",
            "5  1.154381  0.598918\n",
            "6  0.057882  1.242845\n",
            "7  1.948133  1.216126\n",
            "8  0.469061  1.389437\n",
            "9  0.719102  1.857120\n"
          ],
          "name": "stdout"
        }
      ]
    },
    {
      "cell_type": "markdown",
      "metadata": {
        "id": "g_gpCzG0N8Do"
      },
      "source": [
        "**Order of Sorting**\n",
        "\n",
        "By passing the Boolean value to ascending parameter, the order of the sorting can be controlled. Let us consider the following example to understand the same."
      ]
    },
    {
      "cell_type": "code",
      "metadata": {
        "id": "UJUVPsQ4N-0l",
        "colab": {
          "base_uri": "https://localhost:8080/",
          "height": 204
        },
        "outputId": "461e1d59-d9d9-4ee7-83e2-9f3e11b06a22"
      },
      "source": [
        "sorted_df = unsorted_df.sort_index(ascending=False)\n",
        "print (sorted_df)"
      ],
      "execution_count": null,
      "outputs": [
        {
          "output_type": "stream",
          "text": [
            "       col2      col1\n",
            "9  0.719102  1.857120\n",
            "8  0.469061  1.389437\n",
            "7  1.948133  1.216126\n",
            "6  0.057882  1.242845\n",
            "5  1.154381  0.598918\n",
            "4  0.130597  0.194048\n",
            "3 -1.097428 -0.080387\n",
            "2 -0.310099 -1.051568\n",
            "1  1.639513 -0.933718\n",
            "0  1.452905  0.483890\n"
          ],
          "name": "stdout"
        }
      ]
    },
    {
      "cell_type": "markdown",
      "metadata": {
        "id": "F8iQySZos1TL"
      },
      "source": [
        "**Sort the Columns**\n",
        "\n",
        "By passing the axis argument with a value 0 or 1, the sorting can be done on the column labels. By default, axis=0, sort by row. "
      ]
    },
    {
      "cell_type": "code",
      "metadata": {
        "id": "Pk_VP3dus6nE",
        "colab": {
          "base_uri": "https://localhost:8080/",
          "height": 204
        },
        "outputId": "7daf659b-4f75-4dd5-e099-8b6b908764b4"
      },
      "source": [
        "sorted_df=unsorted_df.sort_index(axis=1)\n",
        " \n",
        "print (sorted_df)"
      ],
      "execution_count": null,
      "outputs": [
        {
          "output_type": "stream",
          "text": [
            "       col1      col2\n",
            "1 -0.933718  1.639513\n",
            "4  0.194048  0.130597\n",
            "6  1.242845  0.057882\n",
            "2 -1.051568 -0.310099\n",
            "3 -0.080387 -1.097428\n",
            "5  0.598918  1.154381\n",
            "9  1.857120  0.719102\n",
            "8  1.389437  0.469061\n",
            "0  0.483890  1.452905\n",
            "7  1.216126  1.948133\n"
          ],
          "name": "stdout"
        }
      ]
    },
    {
      "cell_type": "markdown",
      "metadata": {
        "id": "ZZFlOWDutP4A"
      },
      "source": [
        "**By Value**\n",
        "\n",
        "Like index sorting, **sort_values()** is the method for sorting by values. \n",
        "\n",
        "It accepts a '**by**' argument which will use the column name of the DataFrame with which the values are to be sorted."
      ]
    },
    {
      "cell_type": "code",
      "metadata": {
        "id": "ehSKuw3WtWWv",
        "colab": {
          "base_uri": "https://localhost:8080/",
          "height": 102
        },
        "outputId": "16b1a0ff-eff6-46f2-935f-a3fdd0f28936"
      },
      "source": [
        "unsorted_df = pd.DataFrame({'col1':[2,1,1,1],'col2':[1,3,2,4]})\n",
        "sorted_df = unsorted_df.sort_values(by='col1')\n",
        " \n",
        "print (sorted_df)"
      ],
      "execution_count": null,
      "outputs": [
        {
          "output_type": "stream",
          "text": [
            "   col1  col2\n",
            "1     1     3\n",
            "2     1     2\n",
            "3     1     4\n",
            "0     2     1\n"
          ],
          "name": "stdout"
        }
      ]
    },
    {
      "cell_type": "markdown",
      "metadata": {
        "id": "L107tnzStn1q"
      },
      "source": [
        "Observe, **col1** values are sorted and the respective **col2** value and row index will alter along with col1. Thus, they look unsorted.\n",
        "\n",
        "'**by**' argument takes a list of column values."
      ]
    },
    {
      "cell_type": "code",
      "metadata": {
        "id": "RDLAVS-AtsE9",
        "colab": {
          "base_uri": "https://localhost:8080/",
          "height": 102
        },
        "outputId": "a8b281b5-a4ff-47df-949b-0f19c9bee5d6"
      },
      "source": [
        "sorted_df = unsorted_df.sort_values(by=['col1','col2'])\n",
        " \n",
        "print (sorted_df)"
      ],
      "execution_count": null,
      "outputs": [
        {
          "output_type": "stream",
          "text": [
            "   col1  col2\n",
            "2     1     2\n",
            "1     1     3\n",
            "3     1     4\n",
            "0     2     1\n"
          ],
          "name": "stdout"
        }
      ]
    },
    {
      "cell_type": "markdown",
      "metadata": {
        "id": "sQM04lOMt0_A"
      },
      "source": [
        "**Sorting Algorithm**\n",
        "\n",
        "sort_values() provides a provision to choose the algorithm from mergesort, heapsort and quicksort. \n",
        "\n",
        "Mergesort is the only stable algorithm."
      ]
    },
    {
      "cell_type": "code",
      "metadata": {
        "id": "gKRotD8bt6dd",
        "colab": {
          "base_uri": "https://localhost:8080/",
          "height": 102
        },
        "outputId": "7a47f23f-eb5a-4c8e-dbd0-dfdb87e896e7"
      },
      "source": [
        "unsorted_df = pd.DataFrame({'col1':[2,1,1,1],'col2':[1,3,2,4]})\n",
        "sorted_df = unsorted_df.sort_values(by='col1' ,kind='mergesort')\n",
        " \n",
        "print (sorted_df)"
      ],
      "execution_count": null,
      "outputs": [
        {
          "output_type": "stream",
          "text": [
            "   col1  col2\n",
            "1     1     3\n",
            "2     1     2\n",
            "3     1     4\n",
            "0     2     1\n"
          ],
          "name": "stdout"
        }
      ]
    },
    {
      "cell_type": "markdown",
      "metadata": {
        "id": "kDC6uMQsuHqk"
      },
      "source": [
        "### **Working with Text Data**\n",
        "\n",
        "---\n",
        "\n",
        "Pandas provides a set of string functions which make it easy to operate on string data. \n",
        "\n",
        "Most importantly, these functions ignore (or exclude) missing/NaN values.\n",
        "\n",
        "Almost, all of these methods work with Python string functions (refer: https://docs.python.org/3/library/stdtypes.html#string-methods). \n",
        "\n",
        "So, convert the Series Object to String Object and then perform the operation."
      ]
    },
    {
      "cell_type": "markdown",
      "metadata": {
        "id": "TDZ9hcwxupCH"
      },
      "source": [
        "Sr.No\t| Function |  Description\n",
        ":------|:------|:------\n",
        "1\t\t| lower()\t| Converts strings in the Series/Index to lower case.\n",
        "2\t| upper()| Converts strings in the Series/Index to upper case.\n",
        "3\t| len()| Computes String length().\n",
        "4\t| strip()| Helps strip whitespace(including newline) from each string in the Series/index from both the sides.\n",
        "5\t| split(' ')| Splits each string with the given pattern.\n",
        "6\t| cat(sep=' ')| Concatenates the series/index elements with given separator.\n",
        "7\t| get_dummies()| Returns the DataFrame with One-Hot Encoded values.\n",
        "8\t| contains(pattern)| Returns a Boolean value True for each element if the substring contains in the element, else False.\n",
        "9\t| replace(a,b)| Replaces the value a with the value b.\n",
        "10\t| repeat(value)| Repeats each element with specified number of times.\n",
        "11\t| count(pattern)| Returns count of appearance of pattern in each element.\n",
        "12\t| startswith(pattern)| Returns true if the element in the Series/Index starts with the pattern.\n",
        "13\t| endswith(pattern)| Returns true if the element in the Series/Index ends with the pattern.\n",
        "14\t| find(pattern)| Returns the first position of the first occurrence of the pattern.\n",
        "15\t| findall(pattern)| Returns a list of all occurrence of the pattern.\n",
        "16\t| swapcase| Swaps the case lower/upper.\n",
        "17\t| islower()| Checks whether all characters in each string in the Series/Index in lower case or not. Returns Boolean\n",
        "18\t| isupper()| Checks whether all characters in each string in the Series/Index in upper case or not. Returns Boolean.\n",
        "19\t| isnumeric()| Checks whether all characters in each string in the Series/Index are numeric. Returns Boolean.\n",
        "\n",
        "Let us now create a Series and see how all the above functions work."
      ]
    },
    {
      "cell_type": "code",
      "metadata": {
        "id": "TA_q7e9-vgF2",
        "colab": {
          "base_uri": "https://localhost:8080/",
          "height": 153
        },
        "outputId": "6392ef8a-9555-4f39-bdc4-4eff89ab397a"
      },
      "source": [
        "s = pd.Series(['Tom', 'William Rick', 'John', 'Alber@t', np.nan, '1234','SteveSmith'])\n",
        " \n",
        "print (s)"
      ],
      "execution_count": null,
      "outputs": [
        {
          "output_type": "stream",
          "text": [
            "0             Tom\n",
            "1    William Rick\n",
            "2            John\n",
            "3         Alber@t\n",
            "4             NaN\n",
            "5            1234\n",
            "6      SteveSmith\n",
            "dtype: object\n"
          ],
          "name": "stdout"
        }
      ]
    },
    {
      "cell_type": "markdown",
      "metadata": {
        "id": "IyoUDQSH0DXm"
      },
      "source": [
        "**lower()**"
      ]
    },
    {
      "cell_type": "code",
      "metadata": {
        "id": "M2bEToQo0BSL",
        "colab": {
          "base_uri": "https://localhost:8080/",
          "height": 153
        },
        "outputId": "917e3a41-f2c9-4254-cd5b-9a25a02a2420"
      },
      "source": [
        "print (s.str.lower())"
      ],
      "execution_count": null,
      "outputs": [
        {
          "output_type": "stream",
          "text": [
            "0             tom\n",
            "1    william rick\n",
            "2            john\n",
            "3         alber@t\n",
            "4             NaN\n",
            "5            1234\n",
            "6      stevesmith\n",
            "dtype: object\n"
          ],
          "name": "stdout"
        }
      ]
    },
    {
      "cell_type": "markdown",
      "metadata": {
        "id": "mdn_ckaL0KXe"
      },
      "source": [
        "**upper()**"
      ]
    },
    {
      "cell_type": "code",
      "metadata": {
        "id": "dSmi7-vT0Lly",
        "colab": {
          "base_uri": "https://localhost:8080/",
          "height": 153
        },
        "outputId": "0ca1ab44-64b7-4b4f-e6aa-4ca1ed8f55aa"
      },
      "source": [
        "print (s.str.upper())"
      ],
      "execution_count": null,
      "outputs": [
        {
          "output_type": "stream",
          "text": [
            "0             TOM\n",
            "1    WILLIAM RICK\n",
            "2            JOHN\n",
            "3         ALBER@T\n",
            "4             NaN\n",
            "5            1234\n",
            "6      STEVESMITH\n",
            "dtype: object\n"
          ],
          "name": "stdout"
        }
      ]
    },
    {
      "cell_type": "markdown",
      "metadata": {
        "id": "wUWZPk7B0SP8"
      },
      "source": [
        "**len()**"
      ]
    },
    {
      "cell_type": "code",
      "metadata": {
        "id": "SqjIhHqz0T0Y",
        "colab": {
          "base_uri": "https://localhost:8080/",
          "height": 153
        },
        "outputId": "134dda5a-bc81-4111-ab7a-35e3befec019"
      },
      "source": [
        "print (s.str.len())"
      ],
      "execution_count": null,
      "outputs": [
        {
          "output_type": "stream",
          "text": [
            "0     3.0\n",
            "1    12.0\n",
            "2     4.0\n",
            "3     7.0\n",
            "4     NaN\n",
            "5     4.0\n",
            "6    10.0\n",
            "dtype: float64\n"
          ],
          "name": "stdout"
        }
      ]
    },
    {
      "cell_type": "markdown",
      "metadata": {
        "id": "tGDyPCJi0e3t"
      },
      "source": [
        "#**Exercises** "
      ]
    },
    {
      "cell_type": "markdown",
      "metadata": {
        "id": "mG5YiLy_2Ejg"
      },
      "source": [
        "1. **Write a Python program to add, subtract, multiple and divide two Pandas Series.** \n",
        "\n",
        "Sample Series: [2, 4, 6, 8, 10], [1, 3, 5, 7, 9]"
      ]
    },
    {
      "cell_type": "code",
      "metadata": {
        "id": "D4OUC-xd2Q0v",
        "colab": {
          "base_uri": "https://localhost:8080/",
          "height": 493
        },
        "outputId": "97993ae8-ed03-40f7-e9ca-47663fa1bcc3"
      },
      "source": [
        "import pandas as pd\n",
        "A=pd.Series([2, 4, 6, 8, 10])\n",
        "B=pd.Series([1,3,5,7,9])\n",
        "Add=A+B\n",
        "Sub=A-B\n",
        "Mult=A*B\n",
        "Div=A/B\n",
        "print(\"addition of A and B is \\n\",Add)\n",
        "print(\"subtraction of A and B is\\n\",Sub)\n",
        "print(\"multiple of A and B is \\n\",Mult)\n",
        "print(\"division of A and B is\\n \",Div)"
      ],
      "execution_count": null,
      "outputs": [
        {
          "output_type": "stream",
          "text": [
            "addition of A and B is \n",
            " 0     3\n",
            "1     7\n",
            "2    11\n",
            "3    15\n",
            "4    19\n",
            "dtype: int64\n",
            "subtraction of A and B is\n",
            " 0    1\n",
            "1    1\n",
            "2    1\n",
            "3    1\n",
            "4    1\n",
            "dtype: int64\n",
            "multiple of A and B is \n",
            " 0     2\n",
            "1    12\n",
            "2    30\n",
            "3    56\n",
            "4    90\n",
            "dtype: int64\n",
            "division of A and B is\n",
            "  0    2.000000\n",
            "1    1.333333\n",
            "2    1.200000\n",
            "3    1.142857\n",
            "4    1.111111\n",
            "dtype: float64\n"
          ],
          "name": "stdout"
        }
      ]
    },
    {
      "cell_type": "markdown",
      "metadata": {
        "id": "9-umwkRG2RSg"
      },
      "source": [
        "2. **Write a Pandas program to sort a given Series.** \n",
        "\n",
        "*Sample Output:*\n",
        "\n",
        "Original Data Series: \n",
        "0 100\n",
        "\n",
        "1 200\n",
        "\n",
        "2 python\n",
        "\n",
        "3 300.12\n",
        "\n",
        "4 400\n",
        "\n",
        "Output Data Series:\n",
        "\n",
        "0 100\n",
        "\n",
        "1 200\n",
        "\n",
        "3 300.12\n",
        "\n",
        "4 400\n",
        "\n",
        "2 python\n"
      ]
    },
    {
      "cell_type": "code",
      "metadata": {
        "id": "MQrFbKY621qm",
        "colab": {
          "base_uri": "https://localhost:8080/",
          "height": 204
        },
        "outputId": "591f7a2f-46c1-48d4-d2df-be13eba728f4"
      },
      "source": [
        "S=pd.Series(['100','200','python','300.12','400'])\n",
        "S=pd.DataFrame(S,columns=['values'])\n",
        "S.sort_values('values',kind='mergesort')"
      ],
      "execution_count": null,
      "outputs": [
        {
          "output_type": "execute_result",
          "data": {
            "text/html": [
              "<div>\n",
              "<style scoped>\n",
              "    .dataframe tbody tr th:only-of-type {\n",
              "        vertical-align: middle;\n",
              "    }\n",
              "\n",
              "    .dataframe tbody tr th {\n",
              "        vertical-align: top;\n",
              "    }\n",
              "\n",
              "    .dataframe thead th {\n",
              "        text-align: right;\n",
              "    }\n",
              "</style>\n",
              "<table border=\"1\" class=\"dataframe\">\n",
              "  <thead>\n",
              "    <tr style=\"text-align: right;\">\n",
              "      <th></th>\n",
              "      <th>values</th>\n",
              "    </tr>\n",
              "  </thead>\n",
              "  <tbody>\n",
              "    <tr>\n",
              "      <th>0</th>\n",
              "      <td>100</td>\n",
              "    </tr>\n",
              "    <tr>\n",
              "      <th>1</th>\n",
              "      <td>200</td>\n",
              "    </tr>\n",
              "    <tr>\n",
              "      <th>3</th>\n",
              "      <td>300.12</td>\n",
              "    </tr>\n",
              "    <tr>\n",
              "      <th>4</th>\n",
              "      <td>400</td>\n",
              "    </tr>\n",
              "    <tr>\n",
              "      <th>2</th>\n",
              "      <td>python</td>\n",
              "    </tr>\n",
              "  </tbody>\n",
              "</table>\n",
              "</div>"
            ],
            "text/plain": [
              "   values\n",
              "0     100\n",
              "1     200\n",
              "3  300.12\n",
              "4     400\n",
              "2  python"
            ]
          },
          "metadata": {
            "tags": []
          },
          "execution_count": 5
        }
      ]
    },
    {
      "cell_type": "markdown",
      "metadata": {
        "id": "l5KwLZrj226y"
      },
      "source": [
        "3. **Write a Pandas program to compute the minimum, 25th percentile, median, 75th, and maximum of a given series.**"
      ]
    },
    {
      "cell_type": "code",
      "metadata": {
        "id": "cyZztLro3ESP",
        "colab": {
          "base_uri": "https://localhost:8080/",
          "height": 632
        },
        "outputId": "e75b8ef3-9416-4bc8-a0dc-4b283ca9bc63"
      },
      "source": [
        " \n",
        "import numpy as np\n",
        "Rad=pd.Series(np.arange(20,50))\n",
        "print(Rad)\n",
        "print(\"the minimum value is\",min(Rad))\n",
        " \n",
        "Pad=np.percentile(Rad, q=[ 25,50, 75])\n",
        " \n",
        "print(\"The 25th,median and 75 th percentile are\")\n",
        "print(Pad)\n",
        "print(\"the maximum value is\",max(Rad))"
      ],
      "execution_count": null,
      "outputs": [
        {
          "output_type": "stream",
          "text": [
            "0     20\n",
            "1     21\n",
            "2     22\n",
            "3     23\n",
            "4     24\n",
            "5     25\n",
            "6     26\n",
            "7     27\n",
            "8     28\n",
            "9     29\n",
            "10    30\n",
            "11    31\n",
            "12    32\n",
            "13    33\n",
            "14    34\n",
            "15    35\n",
            "16    36\n",
            "17    37\n",
            "18    38\n",
            "19    39\n",
            "20    40\n",
            "21    41\n",
            "22    42\n",
            "23    43\n",
            "24    44\n",
            "25    45\n",
            "26    46\n",
            "27    47\n",
            "28    48\n",
            "29    49\n",
            "dtype: int64\n",
            "the minimum value is 20\n",
            "The 25th,median and 75 th percentile are\n",
            "[27.25 34.5  41.75]\n",
            "the maximum value is 49\n"
          ],
          "name": "stdout"
        }
      ]
    },
    {
      "cell_type": "markdown",
      "metadata": {
        "id": "PLTfRK043EvS"
      },
      "source": [
        "4.  **Write a Pandas program to find the positions of numbers that are multiples of 5 of a given series.**"
      ]
    },
    {
      "cell_type": "code",
      "metadata": {
        "id": "Z1iOKCsD3hG0",
        "colab": {
          "base_uri": "https://localhost:8080/",
          "height": 258
        },
        "outputId": "d7ae3e79-99a0-4ac2-c977-82d29d14a8f2"
      },
      "source": [
        "import pandas as pd\n",
        "import numpy as np\n",
        "num_series = pd.Series(np.random.randint(1, 30, 9))\n",
        "print(\"Original Series:\")\n",
        "print(num_series)\n",
        "result=[]\n",
        "for i in range(len(num_series)):\n",
        "   if num_series[i] % 5 == 0:\n",
        "        result.append(i)\n",
        "#result =np.argwhere(num_series % 5 == 0)\n",
        "print(\"Positions of numbers that are multiples of 5:\")\n",
        "print(result)"
      ],
      "execution_count": null,
      "outputs": [
        {
          "output_type": "stream",
          "text": [
            "Original Series:\n",
            "0     6\n",
            "1    26\n",
            "2    14\n",
            "3    11\n",
            "4    25\n",
            "5    19\n",
            "6    11\n",
            "7    16\n",
            "8    28\n",
            "dtype: int64\n",
            "Positions of numbers that are multiples of 5:\n",
            "[4]\n"
          ],
          "name": "stdout"
        }
      ]
    },
    {
      "cell_type": "markdown",
      "metadata": {
        "id": "Oihkq7jT3hlf"
      },
      "source": [
        "5. **Write a Pandas program to display a summary of the basic information about a specified DataFrame and its data.**\n",
        "\n",
        "*Sample Python dictionary data and list labels:*\n",
        "\n",
        "exam_data = {'name': ['Anastasia', 'Dima', 'Katherine', 'James', 'Emily', 'Michael', 'Matthew', 'Laura', 'Kevin', 'Jonas'],\n",
        "'score': [12.5, 9, 16.5, np.nan, 9, 20, 14.5, np.nan, 8, 19],\n",
        "'attempts': [1, 3, 2, 3, 2, 3, 1, 1, 2, 1],\n",
        "'qualify': ['yes', 'no', 'yes', 'no', 'no', 'yes', 'yes', 'no', 'no', 'yes']}\n",
        "labels = ['a', 'b', 'c', 'd', 'e', 'f', 'g', 'h', 'i', 'j']"
      ]
    },
    {
      "cell_type": "code",
      "metadata": {
        "id": "G7A1EtkF3zVW",
        "colab": {
          "base_uri": "https://localhost:8080/",
          "height": 819
        },
        "outputId": "e7bdb0d7-aef2-4c69-c11d-10c96a2540c7"
      },
      "source": [
        "exam_data = {'name': ['Anastasia', 'Dima', 'Katherine', 'James', 'Emily', 'Michael', 'Matthew', 'Laura', 'Kevin', 'Jonas'], 'score': [12.5, 9, 16.5, np.nan, 9, 20, 14.5, np.nan, 8, 19], 'attempts': [1, 3, 2, 3, 2, 3, 1, 1, 2, 1], 'qualify': ['yes', 'no', 'yes', 'no', 'no', 'yes', 'yes', 'no', 'no', 'yes']} \n",
        "df=pd.DataFrame(exam_data,index=['a', 'b', 'c', 'd', 'e', 'f', 'g', 'h', 'i', 'j'])\n",
        "print(df)\n",
        "print(\"\\n only object datatypes  \\n \\n\",df.describe(include=['object']))\n",
        "print(\"\\n all datatypes \\n \\n\",df.describe(include='all'))\n",
        "print(\"\\n without object datattpes \\n \\n\",df.describe())"
      ],
      "execution_count": null,
      "outputs": [
        {
          "output_type": "stream",
          "text": [
            "        name  score  attempts qualify\n",
            "a  Anastasia   12.5         1     yes\n",
            "b       Dima    9.0         3      no\n",
            "c  Katherine   16.5         2     yes\n",
            "d      James    NaN         3      no\n",
            "e      Emily    9.0         2      no\n",
            "f    Michael   20.0         3     yes\n",
            "g    Matthew   14.5         1     yes\n",
            "h      Laura    NaN         1      no\n",
            "i      Kevin    8.0         2      no\n",
            "j      Jonas   19.0         1     yes\n",
            "\n",
            " only object datatypes  \n",
            " \n",
            "            name qualify\n",
            "count        10      10\n",
            "unique       10       2\n",
            "top     Michael      no\n",
            "freq          1       5\n",
            "\n",
            " all datatypes \n",
            " \n",
            "            name      score   attempts qualify\n",
            "count        10   8.000000  10.000000      10\n",
            "unique       10        NaN        NaN       2\n",
            "top     Michael        NaN        NaN      no\n",
            "freq          1        NaN        NaN       5\n",
            "mean        NaN  13.562500   1.900000     NaN\n",
            "std         NaN   4.693746   0.875595     NaN\n",
            "min         NaN   8.000000   1.000000     NaN\n",
            "25%         NaN   9.000000   1.000000     NaN\n",
            "50%         NaN  13.500000   2.000000     NaN\n",
            "75%         NaN  17.125000   2.750000     NaN\n",
            "max         NaN  20.000000   3.000000     NaN\n",
            "\n",
            " without object datattpes \n",
            " \n",
            "            score   attempts\n",
            "count   8.000000  10.000000\n",
            "mean   13.562500   1.900000\n",
            "std     4.693746   0.875595\n",
            "min     8.000000   1.000000\n",
            "25%     9.000000   1.000000\n",
            "50%    13.500000   2.000000\n",
            "75%    17.125000   2.750000\n",
            "max    20.000000   3.000000\n"
          ],
          "name": "stdout"
        }
      ]
    },
    {
      "cell_type": "markdown",
      "metadata": {
        "id": "nFmRb2WB3zzh"
      },
      "source": [
        "6. **Write a Pandas program to convert all the string values to upper, lower cases in a given pandas series. Also find the length of the string values.**"
      ]
    },
    {
      "cell_type": "code",
      "metadata": {
        "id": "UjFG27-e4Bl1",
        "colab": {
          "base_uri": "https://localhost:8080/",
          "height": 493
        },
        "outputId": "9320302a-b459-4ae7-d3d4-66149466a810"
      },
      "source": [
        " \n",
        "s = pd.Series(['Tom', 'johnwick', 'John', 'Alber@t', '1234','Steve'])\n",
        " \n",
        "print (s)\n",
        "print(s.str.upper())\n",
        "print(s.str.lower())\n",
        "print(s.str.len())"
      ],
      "execution_count": null,
      "outputs": [
        {
          "output_type": "stream",
          "text": [
            "0         Tom\n",
            "1    johnwick\n",
            "2        John\n",
            "3     Alber@t\n",
            "4        1234\n",
            "5       Steve\n",
            "dtype: object\n",
            "0         TOM\n",
            "1    JOHNWICK\n",
            "2        JOHN\n",
            "3     ALBER@T\n",
            "4        1234\n",
            "5       STEVE\n",
            "dtype: object\n",
            "0         tom\n",
            "1    johnwick\n",
            "2        john\n",
            "3     alber@t\n",
            "4        1234\n",
            "5       steve\n",
            "dtype: object\n",
            "0    3\n",
            "1    8\n",
            "2    4\n",
            "3    7\n",
            "4    4\n",
            "5    5\n",
            "dtype: int64\n"
          ],
          "name": "stdout"
        }
      ]
    },
    {
      "cell_type": "markdown",
      "metadata": {
        "id": "ACbbZmJ24B5y"
      },
      "source": [
        "7. **Write a Pandas program to check whether only numeric values present in a given column of a DataFrame.**"
      ]
    },
    {
      "cell_type": "code",
      "metadata": {
        "id": "kfRNseOu4S60",
        "colab": {
          "base_uri": "https://localhost:8080/",
          "height": 292
        },
        "outputId": "89bd9628-dbfc-40b7-98b4-d28283347e6a"
      },
      "source": [
        " \n",
        "import pandas as pd\n",
        "df = pd.DataFrame({\n",
        "    'company_code': ['Company','Company a001', '2055', 'abcd', '123345'],\n",
        "    'date_of_sale ': ['12/05/2002','16/02/1999','25/09/1998','12/02/2022','15/09/1997'],\n",
        "    'sale_amount': [12348.5, 233331.2, 22.5, 2566552.0, 23.0]})\n",
        "    \n",
        "print(\"Original DataFrame:\")\n",
        "print(df)\n",
        "print(\"\\nNumeric values present in company_code column:\")\n",
        "df['company_code_is_digit'] = list(map(lambda x: x.isnumeric(), df['company_code']))\n",
        "print(df)"
      ],
      "execution_count": null,
      "outputs": [
        {
          "output_type": "stream",
          "text": [
            "Original DataFrame:\n",
            "   company_code date_of_sale   sale_amount\n",
            "0       Company    12/05/2002      12348.5\n",
            "1  Company a001    16/02/1999     233331.2\n",
            "2          2055    25/09/1998         22.5\n",
            "3          abcd    12/02/2022    2566552.0\n",
            "4        123345    15/09/1997         23.0\n",
            "\n",
            "Numeric values present in company_code column:\n",
            "   company_code date_of_sale   sale_amount  company_code_is_digit\n",
            "0       Company    12/05/2002      12348.5                  False\n",
            "1  Company a001    16/02/1999     233331.2                  False\n",
            "2          2055    25/09/1998         22.5                   True\n",
            "3          abcd    12/02/2022    2566552.0                  False\n",
            "4        123345    15/09/1997         23.0                   True\n"
          ],
          "name": "stdout"
        }
      ]
    },
    {
      "cell_type": "code",
      "metadata": {
        "id": "haP2ZNk7pAeU",
        "colab": {
          "base_uri": "https://localhost:8080/",
          "height": 173
        },
        "outputId": "536d8b85-9fac-4431-dc27-851046b89b36"
      },
      "source": [
        "a={'name':['ravi','123','gov'],'age':['15','thirty two','25'],'sex':[\"M\",\"F\",\"M\"]}\n",
        "df=pd.DataFrame(a)\n",
        "print(df)\n",
        "df['age_digit'] = list(map(lambda x: x.isdigit(), df['age']))\n",
        "print(df)"
      ],
      "execution_count": null,
      "outputs": [
        {
          "output_type": "stream",
          "text": [
            "   name         age sex\n",
            "0  ravi          15   M\n",
            "1   123  thirty two   F\n",
            "2   gov          25   M\n",
            "   name         age sex  age_digit\n",
            "0  ravi          15   M       True\n",
            "1   123  thirty two   F      False\n",
            "2   gov          25   M       True\n"
          ],
          "name": "stdout"
        }
      ]
    }
  ]
}