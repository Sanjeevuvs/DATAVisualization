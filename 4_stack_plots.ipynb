{
  "nbformat": 4,
  "nbformat_minor": 0,
  "metadata": {
    "kernelspec": {
      "display_name": "Python 3",
      "language": "python",
      "name": "python3"
    },
    "language_info": {
      "codemirror_mode": {
        "name": "ipython",
        "version": 3
      },
      "file_extension": ".py",
      "mimetype": "text/x-python",
      "name": "python",
      "nbconvert_exporter": "python",
      "pygments_lexer": "ipython3",
      "version": "3.7.7"
    },
    "colab": {
      "name": "4_stack_plots.ipynb",
      "provenance": [],
      "collapsed_sections": [],
      "include_colab_link": true
    }
  },
  "cells": [
    {
      "cell_type": "markdown",
      "metadata": {
        "id": "view-in-github",
        "colab_type": "text"
      },
      "source": [
        "<a href=\"https://colab.research.google.com/github/Sanjeevuvs/DATAVisualization/blob/main/4_stack_plots.ipynb\" target=\"_parent\"><img src=\"https://colab.research.google.com/assets/colab-badge.svg\" alt=\"Open In Colab\"/></a>"
      ]
    },
    {
      "cell_type": "code",
      "metadata": {
        "id": "fR3UsQIpKDYZ"
      },
      "source": [
        "from matplotlib import pyplot as plt"
      ],
      "execution_count": null,
      "outputs": []
    },
    {
      "cell_type": "code",
      "metadata": {
        "id": "m9n96MIvKDYf"
      },
      "source": [
        "minutes = [1, 2, 3, 4, 5, 6, 7, 8, 9]"
      ],
      "execution_count": null,
      "outputs": []
    },
    {
      "cell_type": "code",
      "metadata": {
        "id": "106k2dKWKDYk"
      },
      "source": [
        "player1 = [1, 2, 3, 3, 4, 4, 4, 4, 5]\n",
        "player2 = [1, 1, 1, 1, 2, 2, 2, 3, 4]\n",
        "player3 = [1, 1, 1, 2, 2, 2, 3, 3, 3]"
      ],
      "execution_count": null,
      "outputs": []
    },
    {
      "cell_type": "markdown",
      "metadata": {
        "id": "by8vf4yFKDYo"
      },
      "source": [
        "### 1. Pie Chart of the first minute"
      ]
    },
    {
      "cell_type": "code",
      "metadata": {
        "id": "09iD46B7KDYp",
        "colab": {
          "base_uri": "https://localhost:8080/",
          "height": 248
        },
        "outputId": "43e9489d-1ec4-45f9-e8a3-8888179a3285"
      },
      "source": [
        "plt.pie([1,1,1], labels=['Player 1', 'Player 2', 'Player 3'])\n",
        "plt.show()"
      ],
      "execution_count": null,
      "outputs": [
        {
          "output_type": "display_data",
          "data": {
            "image/png": "[encoded data removed]",
            "text/plain": [
              "<Figure size 432x288 with 1 Axes>"
            ]
          },
          "metadata": {
            "tags": []
          }
        }
      ]
    },
    {
      "cell_type": "markdown",
      "metadata": {
        "id": "yK0-XxEcKDYv"
      },
      "source": [
        "### 2. Pie Chart for the last minute"
      ]
    },
    {
      "cell_type": "code",
      "metadata": {
        "id": "C54zeYH4KDYv",
        "colab": {
          "base_uri": "https://localhost:8080/",
          "height": 248
        },
        "outputId": "69ffcb72-464e-45ee-b324-d4ff757a4052"
      },
      "source": [
        "plt.pie([5,4,3], labels=['Player 1', 'Player 2', 'Player 3'])\n",
        "plt.show()"
      ],
      "execution_count": null,
      "outputs": [
        {
          "output_type": "display_data",
          "data": {
            "image/png": "[encoded data removed]",
            "text/plain": [
              "<Figure size 432x288 with 1 Axes>"
            ]
          },
          "metadata": {
            "tags": []
          }
        }
      ]
    },
    {
      "cell_type": "markdown",
      "metadata": {
        "id": "5nCbAptsKDY0"
      },
      "source": [
        "### 3. Plotting the stack plot"
      ]
    },
    {
      "cell_type": "code",
      "metadata": {
        "id": "7GJfQ4KnKDY1",
        "colab": {
          "base_uri": "https://localhost:8080/",
          "height": 211
        },
        "outputId": "1a412f8a-21b4-41e2-bd39-5de04a3c1be2"
      },
      "source": [
        "plt.stackplot(minutes, player1, player2, player3)\n",
        "plt.title(\"Stack Plot\")\n",
        "plt.show()"
      ],
      "execution_count": null,
      "outputs": [
        {
          "output_type": "display_data",
          "data": {
            "image/png": "[encoded data removed]",
            "text/plain": [
              "<Figure size 432x288 with 1 Axes>"
            ]
          },
          "metadata": {
            "tags": [],
            "needs_background": "light"
          }
        }
      ]
    },
    {
      "cell_type": "markdown",
      "metadata": {
        "id": "ANphPEYVKDY6"
      },
      "source": [
        "### 4. Adding legend to the stack plot"
      ]
    },
    {
      "cell_type": "code",
      "metadata": {
        "id": "daNsW_byKDY7",
        "colab": {
          "base_uri": "https://localhost:8080/",
          "height": 211
        },
        "outputId": "7cc00085-273c-401d-976d-56ea057e7159"
      },
      "source": [
        "labels = [\"Player 1\", \"Player 2\", \"Player 3\"]\n",
        " \n",
        "plt.stackplot(minutes, player1, player2, player3, labels=labels)\n",
        "plt.title(\"Stack Plot\")\n",
        "plt.legend()\n",
        "plt.show()"
      ],
      "execution_count": null,
      "outputs": [
        {
          "output_type": "display_data",
          "data": {
            "image/png": "[encoded data removed]",
            "text/plain": [
              "<Figure size 432x288 with 1 Axes>"
            ]
          },
          "metadata": {
            "tags": [],
            "needs_background": "light"
          }
        }
      ]
    },
    {
      "cell_type": "markdown",
      "metadata": {
        "id": "kuT78R0eKDY_"
      },
      "source": [
        "### 5. shifting the legend position"
      ]
    },
    {
      "cell_type": "code",
      "metadata": {
        "id": "T5OkNgmQKDZA",
        "colab": {
          "base_uri": "https://localhost:8080/",
          "height": 211
        },
        "outputId": "cb245951-4f1a-4141-e8b9-87987cd5afe0"
      },
      "source": [
        "plt.stackplot(minutes, player1, player2, player3, labels=labels)\n",
        "plt.title(\"Stack Plot\")\n",
        "plt.legend(loc=\"upper left\")\n",
        "plt.show()"
      ],
      "execution_count": null,
      "outputs": [
        {
          "output_type": "display_data",
          "data": {
            "image/png": "[encoded data removed]",
            "text/plain": [
              "<Figure size 432x288 with 1 Axes>"
            ]
          },
          "metadata": {
            "tags": [],
            "needs_background": "light"
          }
        }
      ]
    },
    {
      "cell_type": "markdown",
      "metadata": {
        "id": "xzeh7UI9KDZH"
      },
      "source": [
        "### 6. Changing the plot color"
      ]
    },
    {
      "cell_type": "code",
      "metadata": {
        "id": "JZ8dxuupKDZI",
        "colab": {
          "base_uri": "https://localhost:8080/",
          "height": 211
        },
        "outputId": "98197c45-ea7b-4385-c3bc-568c6f0f9785"
      },
      "source": [
        "colors = [\"#6d904f\",\"#fc4f30\",\"#008fd5\"]\n",
        " \n",
        "plt.stackplot(minutes, player1, player2, player3, colors=colors, labels=labels)\n",
        "plt.title(\"Stack Plot\")\n",
        "plt.legend(loc=\"upper left\")\n",
        "plt.show()"
      ],
      "execution_count": null,
      "outputs": [
        {
          "output_type": "display_data",
          "data": {
            "image/png": "[encoded data removed]",
            "text/plain": [
              "<Figure size 432x288 with 1 Axes>"
            ]
          },
          "metadata": {
            "tags": [],
            "needs_background": "light"
          }
        }
      ]
    },
    {
      "cell_type": "code",
      "metadata": {
        "id": "uI-Y1R5W9pj8"
      },
      "source": [
        "import matplotlib.pyplot as plt\n",
        "import pandas as pd"
      ],
      "execution_count": null,
      "outputs": []
    },
    {
      "cell_type": "code",
      "metadata": {
        "id": "B4XG8rPe9tBJ",
        "colab": {
          "base_uri": "https://localhost:8080/",
          "height": 34
        },
        "outputId": "3347a27f-3bdd-4845-8842-2ebbc9a2d35b"
      },
      "source": [
        "from google.colab import drive\n",
        "drive.mount('/content/drive')"
      ],
      "execution_count": null,
      "outputs": [
        {
          "output_type": "stream",
          "text": [
            "Mounted at /content/drive\n"
          ],
          "name": "stdout"
        }
      ]
    },
    {
      "cell_type": "code",
      "metadata": {
        "id": "LfPKgHnO91KF"
      },
      "source": [
        "data = pd.read_csv('/content/drive/My Drive/data/Covid_19.csv')"
      ],
      "execution_count": null,
      "outputs": []
    },
    {
      "cell_type": "code",
      "metadata": {
        "id": "5hzV-CY2912C",
        "colab": {
          "base_uri": "https://localhost:8080/",
          "height": 309
        },
        "outputId": "4018d5f2-6cac-4693-b9af-7aecc210bac9"
      },
      "source": [
        "data.head()"
      ],
      "execution_count": null,
      "outputs": [
        {
          "output_type": "execute_result",
          "data": {
            "text/html": [
              "<div>\n",
              "<style scoped>\n",
              "    .dataframe tbody tr th:only-of-type {\n",
              "        vertical-align: middle;\n",
              "    }\n",
              "\n",
              "    .dataframe tbody tr th {\n",
              "        vertical-align: top;\n",
              "    }\n",
              "\n",
              "    .dataframe thead th {\n",
              "        text-align: right;\n",
              "    }\n",
              "</style>\n",
              "<table border=\"1\" class=\"dataframe\">\n",
              "  <thead>\n",
              "    <tr style=\"text-align: right;\">\n",
              "      <th></th>\n",
              "      <th>State</th>\n",
              "      <th>last_updated</th>\n",
              "      <th>population</th>\n",
              "      <th>tested__last_updated</th>\n",
              "      <th>total__confirmed</th>\n",
              "      <th>total__deceased</th>\n",
              "      <th>total__recovered</th>\n",
              "      <th>total__tested</th>\n",
              "    </tr>\n",
              "  </thead>\n",
              "  <tbody>\n",
              "    <tr>\n",
              "      <th>0</th>\n",
              "      <td>AN</td>\n",
              "      <td>2020-09-05T22:09:31+05:30</td>\n",
              "      <td>397000</td>\n",
              "      <td>9/4/2020</td>\n",
              "      <td>3292</td>\n",
              "      <td>50.0</td>\n",
              "      <td>2904</td>\n",
              "      <td>37825</td>\n",
              "    </tr>\n",
              "    <tr>\n",
              "      <th>1</th>\n",
              "      <td>AP</td>\n",
              "      <td>2020-09-05T20:15:29+05:30</td>\n",
              "      <td>52221000</td>\n",
              "      <td>9/5/2020</td>\n",
              "      <td>487331</td>\n",
              "      <td>4347.0</td>\n",
              "      <td>382104</td>\n",
              "      <td>4035317</td>\n",
              "    </tr>\n",
              "    <tr>\n",
              "      <th>2</th>\n",
              "      <td>AR</td>\n",
              "      <td>2020-09-06T00:53:37+05:30</td>\n",
              "      <td>1504000</td>\n",
              "      <td>9/5/2020</td>\n",
              "      <td>4914</td>\n",
              "      <td>8.0</td>\n",
              "      <td>3381</td>\n",
              "      <td>183390</td>\n",
              "    </tr>\n",
              "    <tr>\n",
              "      <th>3</th>\n",
              "      <td>AS</td>\n",
              "      <td>2020-09-05T22:39:27+05:30</td>\n",
              "      <td>34293000</td>\n",
              "      <td>9/5/2020</td>\n",
              "      <td>123923</td>\n",
              "      <td>352.0</td>\n",
              "      <td>95061</td>\n",
              "      <td>2471274</td>\n",
              "    </tr>\n",
              "    <tr>\n",
              "      <th>4</th>\n",
              "      <td>BR</td>\n",
              "      <td>2020-09-05T18:43:27+05:30</td>\n",
              "      <td>119520000</td>\n",
              "      <td>9/5/2020</td>\n",
              "      <td>145861</td>\n",
              "      <td>750.0</td>\n",
              "      <td>128376</td>\n",
              "      <td>3871733</td>\n",
              "    </tr>\n",
              "  </tbody>\n",
              "</table>\n",
              "</div>"
            ],
            "text/plain": [
              "  State               last_updated  ...  total__recovered total__tested\n",
              "0    AN  2020-09-05T22:09:31+05:30  ...              2904         37825\n",
              "1    AP  2020-09-05T20:15:29+05:30  ...            382104       4035317\n",
              "2    AR  2020-09-06T00:53:37+05:30  ...              3381        183390\n",
              "3    AS  2020-09-05T22:39:27+05:30  ...             95061       2471274\n",
              "4    BR  2020-09-05T18:43:27+05:30  ...            128376       3871733\n",
              "\n",
              "[5 rows x 8 columns]"
            ]
          },
          "metadata": {
            "tags": []
          },
          "execution_count": 13
        }
      ]
    },
    {
      "cell_type": "code",
      "metadata": {
        "id": "SP6utE100xBH"
      },
      "source": [
        "k=data.head(6)"
      ],
      "execution_count": null,
      "outputs": []
    },
    {
      "cell_type": "code",
      "metadata": {
        "id": "mhib56C6z73N",
        "colab": {
          "base_uri": "https://localhost:8080/",
          "height": 710
        },
        "outputId": "bf17799a-3b08-418d-e4c6-88945c25bb79"
      },
      "source": [
        " \n",
        "two=k['State']\n",
        "one=k['total__confirmed']\n",
        "three=k['total__recovered']\n",
        "four=k['total__tested']\n",
        "x=list(one)\n",
        "y=list(two)\n",
        "z=list(three)\n",
        "t=list(four)\n",
        "plt.pie(x,labels=y,autopct=\"%0.1f%%\")\n",
        "plt.show()\n",
        "plt.pie(z,labels=y,autopct=\"%0.1f%%\")\n",
        "plt.show()\n",
        "plt.pie(t,labels=y,autopct=\"%0.1f%%\")\n",
        "plt.show()"
      ],
      "execution_count": null,
      "outputs": [
        {
          "output_type": "display_data",
          "data": {
            "image/png": "[encoded data removed]",
            "text/plain": [
              "<Figure size 432x288 with 1 Axes>"
            ]
          },
          "metadata": {
            "tags": []
          }
        },
        {
          "output_type": "display_data",
          "data": {
            "image/png": "[encoded data removed]",
            "text/plain": [
              "<Figure size 432x288 with 1 Axes>"
            ]
          },
          "metadata": {
            "tags": []
          }
        },
        {
          "output_type": "display_data",
          "data": {
            "image/png": "[encoded data removed]",
            "text/plain": [
              "<Figure size 432x288 with 1 Axes>"
            ]
          },
          "metadata": {
            "tags": []
          }
        }
      ]
    },
    {
      "cell_type": "code",
      "metadata": {
        "id": "4UIsPdZUlJZW"
      },
      "source": [
        "confirmed=data[\"total__confirmed\"]\n",
        "deceased=data[\"total__deceased\"]\n",
        "recovered=data[\"total__recovered\"]\n",
        "active= (confirmed-(deceased+recovered))"
      ],
      "execution_count": null,
      "outputs": []
    },
    {
      "cell_type": "markdown",
      "metadata": {
        "id": "DXoyolk3HXql"
      },
      "source": [
        "### **Total Active, Recovered and Deceased in India as on 5th Sept, 2020**"
      ]
    },
    {
      "cell_type": "code",
      "metadata": {
        "id": "jUMm0Krjl21L",
        "colab": {
          "base_uri": "https://localhost:8080/",
          "height": 233
        },
        "outputId": "11ddb797-5f5c-48fe-ce64-66a5fef14341"
      },
      "source": [
        "plt.pie([active.sum(),recovered.sum(),deceased.sum()], labels=['Active', 'Recovered', 'Deceased'],autopct=\"%0.1f%%\")\n",
        "plt.show()"
      ],
      "execution_count": null,
      "outputs": [
        {
          "output_type": "display_data",
          "data": {
            "image/png": "[encoded data removed]",
            "text/plain": [
              "<Figure size 432x288 with 1 Axes>"
            ]
          },
          "metadata": {
            "tags": []
          }
        }
      ]
    },
    {
      "cell_type": "markdown",
      "metadata": {
        "id": "fW5zBOeWGM43"
      },
      "source": [
        "### **For Top 5 States**"
      ]
    },
    {
      "cell_type": "code",
      "metadata": {
        "id": "H862l32kDnhz",
        "colab": {
          "base_uri": "https://localhost:8080/",
          "height": 309
        },
        "outputId": "e4d2a68f-f060-43dc-cb6a-03a8382da794"
      },
      "source": [
        "data1=data.sort_values(by='total__confirmed',ascending=False).head(5)\n",
        " \n",
        "data1"
      ],
      "execution_count": null,
      "outputs": [
        {
          "output_type": "execute_result",
          "data": {
            "text/html": [
              "<div>\n",
              "<style scoped>\n",
              "    .dataframe tbody tr th:only-of-type {\n",
              "        vertical-align: middle;\n",
              "    }\n",
              "\n",
              "    .dataframe tbody tr th {\n",
              "        vertical-align: top;\n",
              "    }\n",
              "\n",
              "    .dataframe thead th {\n",
              "        text-align: right;\n",
              "    }\n",
              "</style>\n",
              "<table border=\"1\" class=\"dataframe\">\n",
              "  <thead>\n",
              "    <tr style=\"text-align: right;\">\n",
              "      <th></th>\n",
              "      <th>State</th>\n",
              "      <th>last_updated</th>\n",
              "      <th>population</th>\n",
              "      <th>tested__last_updated</th>\n",
              "      <th>total__confirmed</th>\n",
              "      <th>total__deceased</th>\n",
              "      <th>total__recovered</th>\n",
              "      <th>total__tested</th>\n",
              "    </tr>\n",
              "  </thead>\n",
              "  <tbody>\n",
              "    <tr>\n",
              "      <th>18</th>\n",
              "      <td>MH</td>\n",
              "      <td>2020-09-05T20:52:26+05:30</td>\n",
              "      <td>122153000</td>\n",
              "      <td>9/5/2020</td>\n",
              "      <td>883862</td>\n",
              "      <td>26276.0</td>\n",
              "      <td>636574</td>\n",
              "      <td>4565368</td>\n",
              "    </tr>\n",
              "    <tr>\n",
              "      <th>1</th>\n",
              "      <td>AP</td>\n",
              "      <td>2020-09-05T20:15:29+05:30</td>\n",
              "      <td>52221000</td>\n",
              "      <td>9/5/2020</td>\n",
              "      <td>487331</td>\n",
              "      <td>4347.0</td>\n",
              "      <td>382104</td>\n",
              "      <td>4035317</td>\n",
              "    </tr>\n",
              "    <tr>\n",
              "      <th>30</th>\n",
              "      <td>TN</td>\n",
              "      <td>2020-09-05T22:06:30+05:30</td>\n",
              "      <td>75695000</td>\n",
              "      <td>9/5/2020</td>\n",
              "      <td>457697</td>\n",
              "      <td>7751.0</td>\n",
              "      <td>398366</td>\n",
              "      <td>5212534</td>\n",
              "    </tr>\n",
              "    <tr>\n",
              "      <th>15</th>\n",
              "      <td>KA</td>\n",
              "      <td>2020-09-05T19:27:22+05:30</td>\n",
              "      <td>65798000</td>\n",
              "      <td>9/5/2020</td>\n",
              "      <td>389232</td>\n",
              "      <td>6298.0</td>\n",
              "      <td>283298</td>\n",
              "      <td>3273871</td>\n",
              "    </tr>\n",
              "    <tr>\n",
              "      <th>32</th>\n",
              "      <td>UP</td>\n",
              "      <td>2020-09-05T16:14:24+05:30</td>\n",
              "      <td>224979000</td>\n",
              "      <td>9/5/2020</td>\n",
              "      <td>259765</td>\n",
              "      <td>3843.0</td>\n",
              "      <td>195959</td>\n",
              "      <td>6345223</td>\n",
              "    </tr>\n",
              "  </tbody>\n",
              "</table>\n",
              "</div>"
            ],
            "text/plain": [
              "   State               last_updated  ...  total__recovered total__tested\n",
              "18    MH  2020-09-05T20:52:26+05:30  ...            636574       4565368\n",
              "1     AP  2020-09-05T20:15:29+05:30  ...            382104       4035317\n",
              "30    TN  2020-09-05T22:06:30+05:30  ...            398366       5212534\n",
              "15    KA  2020-09-05T19:27:22+05:30  ...            283298       3273871\n",
              "32    UP  2020-09-05T16:14:24+05:30  ...            195959       6345223\n",
              "\n",
              "[5 rows x 8 columns]"
            ]
          },
          "metadata": {
            "tags": []
          },
          "execution_count": 18
        }
      ]
    },
    {
      "cell_type": "code",
      "metadata": {
        "id": "BKIqnnEfFzTd",
        "colab": {
          "base_uri": "https://localhost:8080/",
          "height": 561
        },
        "outputId": "8213a99f-d5fe-4f1b-dd7a-d5681bbbf389"
      },
      "source": [
        "topState=data1['total__confirmed']\n",
        "topLabel=data1['State']\n",
        " \n",
        "plt.pie(topState, labels=topLabel,autopct=\"%0.1f%%\",pctdistance=1.2,labeldistance=1.5)\n",
        "plt.show()\n",
        " \n",
        "data1.describe()"
      ],
      "execution_count": null,
      "outputs": [
        {
          "output_type": "display_data",
          "data": {
            "image/png": "[encoded data removed]",
            "text/plain": [
              "<Figure size 432x288 with 1 Axes>"
            ]
          },
          "metadata": {
            "tags": []
          }
        },
        {
          "output_type": "execute_result",
          "data": {
            "text/html": [
              "<div>\n",
              "<style scoped>\n",
              "    .dataframe tbody tr th:only-of-type {\n",
              "        vertical-align: middle;\n",
              "    }\n",
              "\n",
              "    .dataframe tbody tr th {\n",
              "        vertical-align: top;\n",
              "    }\n",
              "\n",
              "    .dataframe thead th {\n",
              "        text-align: right;\n",
              "    }\n",
              "</style>\n",
              "<table border=\"1\" class=\"dataframe\">\n",
              "  <thead>\n",
              "    <tr style=\"text-align: right;\">\n",
              "      <th></th>\n",
              "      <th>population</th>\n",
              "      <th>total__confirmed</th>\n",
              "      <th>total__deceased</th>\n",
              "      <th>total__recovered</th>\n",
              "      <th>total__tested</th>\n",
              "    </tr>\n",
              "  </thead>\n",
              "  <tbody>\n",
              "    <tr>\n",
              "      <th>count</th>\n",
              "      <td>5.000000e+00</td>\n",
              "      <td>5.000000</td>\n",
              "      <td>5.000000</td>\n",
              "      <td>5.000000</td>\n",
              "      <td>5.000000e+00</td>\n",
              "    </tr>\n",
              "    <tr>\n",
              "      <th>mean</th>\n",
              "      <td>1.081692e+08</td>\n",
              "      <td>495577.400000</td>\n",
              "      <td>9703.000000</td>\n",
              "      <td>379260.200000</td>\n",
              "      <td>4.686463e+06</td>\n",
              "    </tr>\n",
              "    <tr>\n",
              "      <th>std</th>\n",
              "      <td>7.039206e+07</td>\n",
              "      <td>234085.823209</td>\n",
              "      <td>9395.411034</td>\n",
              "      <td>165371.992953</td>\n",
              "      <td>1.168579e+06</td>\n",
              "    </tr>\n",
              "    <tr>\n",
              "      <th>min</th>\n",
              "      <td>5.222100e+07</td>\n",
              "      <td>259765.000000</td>\n",
              "      <td>3843.000000</td>\n",
              "      <td>195959.000000</td>\n",
              "      <td>3.273871e+06</td>\n",
              "    </tr>\n",
              "    <tr>\n",
              "      <th>25%</th>\n",
              "      <td>6.579800e+07</td>\n",
              "      <td>389232.000000</td>\n",
              "      <td>4347.000000</td>\n",
              "      <td>283298.000000</td>\n",
              "      <td>4.035317e+06</td>\n",
              "    </tr>\n",
              "    <tr>\n",
              "      <th>50%</th>\n",
              "      <td>7.569500e+07</td>\n",
              "      <td>457697.000000</td>\n",
              "      <td>6298.000000</td>\n",
              "      <td>382104.000000</td>\n",
              "      <td>4.565368e+06</td>\n",
              "    </tr>\n",
              "    <tr>\n",
              "      <th>75%</th>\n",
              "      <td>1.221530e+08</td>\n",
              "      <td>487331.000000</td>\n",
              "      <td>7751.000000</td>\n",
              "      <td>398366.000000</td>\n",
              "      <td>5.212534e+06</td>\n",
              "    </tr>\n",
              "    <tr>\n",
              "      <th>max</th>\n",
              "      <td>2.249790e+08</td>\n",
              "      <td>883862.000000</td>\n",
              "      <td>26276.000000</td>\n",
              "      <td>636574.000000</td>\n",
              "      <td>6.345223e+06</td>\n",
              "    </tr>\n",
              "  </tbody>\n",
              "</table>\n",
              "</div>"
            ],
            "text/plain": [
              "         population  total__confirmed  ...  total__recovered  total__tested\n",
              "count  5.000000e+00          5.000000  ...          5.000000   5.000000e+00\n",
              "mean   1.081692e+08     495577.400000  ...     379260.200000   4.686463e+06\n",
              "std    7.039206e+07     234085.823209  ...     165371.992953   1.168579e+06\n",
              "min    5.222100e+07     259765.000000  ...     195959.000000   3.273871e+06\n",
              "25%    6.579800e+07     389232.000000  ...     283298.000000   4.035317e+06\n",
              "50%    7.569500e+07     457697.000000  ...     382104.000000   4.565368e+06\n",
              "75%    1.221530e+08     487331.000000  ...     398366.000000   5.212534e+06\n",
              "max    2.249790e+08     883862.000000  ...     636574.000000   6.345223e+06\n",
              "\n",
              "[8 rows x 5 columns]"
            ]
          },
          "metadata": {
            "tags": []
          },
          "execution_count": 19
        }
      ]
    },
    {
      "cell_type": "markdown",
      "metadata": {
        "id": "STuDZ8SZGkQ7"
      },
      "source": [
        "### **Least Five States**"
      ]
    },
    {
      "cell_type": "code",
      "metadata": {
        "id": "1vi73oFaGn8J",
        "colab": {
          "base_uri": "https://localhost:8080/",
          "height": 309
        },
        "outputId": "c016dcc9-1ad6-48ce-a4f9-0f1f0488bed6"
      },
      "source": [
        "data2=data.sort_values(by='total__confirmed').head(5)\n",
        " \n",
        "data2"
      ],
      "execution_count": null,
      "outputs": [
        {
          "output_type": "execute_result",
          "data": {
            "text/html": [
              "<div>\n",
              "<style scoped>\n",
              "    .dataframe tbody tr th:only-of-type {\n",
              "        vertical-align: middle;\n",
              "    }\n",
              "\n",
              "    .dataframe tbody tr th {\n",
              "        vertical-align: top;\n",
              "    }\n",
              "\n",
              "    .dataframe thead th {\n",
              "        text-align: right;\n",
              "    }\n",
              "</style>\n",
              "<table border=\"1\" class=\"dataframe\">\n",
              "  <thead>\n",
              "    <tr style=\"text-align: right;\">\n",
              "      <th></th>\n",
              "      <th>State</th>\n",
              "      <th>last_updated</th>\n",
              "      <th>population</th>\n",
              "      <th>tested__last_updated</th>\n",
              "      <th>total__confirmed</th>\n",
              "      <th>total__deceased</th>\n",
              "      <th>total__recovered</th>\n",
              "      <th>total__tested</th>\n",
              "    </tr>\n",
              "  </thead>\n",
              "  <tbody>\n",
              "    <tr>\n",
              "      <th>22</th>\n",
              "      <td>MZ</td>\n",
              "      <td>2020-09-06T09:06:33+05:30</td>\n",
              "      <td>1192000</td>\n",
              "      <td>9/5/2020</td>\n",
              "      <td>1093</td>\n",
              "      <td>NaN</td>\n",
              "      <td>713</td>\n",
              "      <td>44803</td>\n",
              "    </tr>\n",
              "    <tr>\n",
              "      <th>28</th>\n",
              "      <td>SK</td>\n",
              "      <td>2020-09-06T00:53:43+05:30</td>\n",
              "      <td>664000</td>\n",
              "      <td>9/5/2020</td>\n",
              "      <td>1901</td>\n",
              "      <td>5.0</td>\n",
              "      <td>1347</td>\n",
              "      <td>43125</td>\n",
              "    </tr>\n",
              "    <tr>\n",
              "      <th>8</th>\n",
              "      <td>DN</td>\n",
              "      <td>2020-09-05T19:27:27+05:30</td>\n",
              "      <td>959000</td>\n",
              "      <td>9/3/2020</td>\n",
              "      <td>2531</td>\n",
              "      <td>2.0</td>\n",
              "      <td>2230</td>\n",
              "      <td>55345</td>\n",
              "    </tr>\n",
              "    <tr>\n",
              "      <th>19</th>\n",
              "      <td>ML</td>\n",
              "      <td>2020-09-06T00:53:40+05:30</td>\n",
              "      <td>3224000</td>\n",
              "      <td>9/4/2020</td>\n",
              "      <td>2916</td>\n",
              "      <td>15.0</td>\n",
              "      <td>1527</td>\n",
              "      <td>95457</td>\n",
              "    </tr>\n",
              "    <tr>\n",
              "      <th>17</th>\n",
              "      <td>LA</td>\n",
              "      <td>2020-09-05T22:55:34+05:30</td>\n",
              "      <td>293000</td>\n",
              "      <td>9/5/2020</td>\n",
              "      <td>2996</td>\n",
              "      <td>35.0</td>\n",
              "      <td>2127</td>\n",
              "      <td>31470</td>\n",
              "    </tr>\n",
              "  </tbody>\n",
              "</table>\n",
              "</div>"
            ],
            "text/plain": [
              "   State               last_updated  ...  total__recovered total__tested\n",
              "22    MZ  2020-09-06T09:06:33+05:30  ...               713         44803\n",
              "28    SK  2020-09-06T00:53:43+05:30  ...              1347         43125\n",
              "8     DN  2020-09-05T19:27:27+05:30  ...              2230         55345\n",
              "19    ML  2020-09-06T00:53:40+05:30  ...              1527         95457\n",
              "17    LA  2020-09-05T22:55:34+05:30  ...              2127         31470\n",
              "\n",
              "[5 rows x 8 columns]"
            ]
          },
          "metadata": {
            "tags": []
          },
          "execution_count": 20
        }
      ]
    },
    {
      "cell_type": "code",
      "metadata": {
        "id": "WebDAE6XGuvU",
        "colab": {
          "base_uri": "https://localhost:8080/",
          "height": 548
        },
        "outputId": "8825d028-6eac-4907-b1b8-452064fd4654"
      },
      "source": [
        "leastState=data2['total__confirmed']\n",
        "leastLabel=data2['State']\n",
        " \n",
        "plt.pie(leastState, labels=leastLabel,autopct=\"%0.1f%%\")\n",
        "plt.show()\n",
        " \n",
        "data2.describe()"
      ],
      "execution_count": null,
      "outputs": [
        {
          "output_type": "display_data",
          "data": {
            "image/png": "[encoded data removed]",
            "text/plain": [
              "<Figure size 432x288 with 1 Axes>"
            ]
          },
          "metadata": {
            "tags": []
          }
        },
        {
          "output_type": "execute_result",
          "data": {
            "text/html": [
              "<div>\n",
              "<style scoped>\n",
              "    .dataframe tbody tr th:only-of-type {\n",
              "        vertical-align: middle;\n",
              "    }\n",
              "\n",
              "    .dataframe tbody tr th {\n",
              "        vertical-align: top;\n",
              "    }\n",
              "\n",
              "    .dataframe thead th {\n",
              "        text-align: right;\n",
              "    }\n",
              "</style>\n",
              "<table border=\"1\" class=\"dataframe\">\n",
              "  <thead>\n",
              "    <tr style=\"text-align: right;\">\n",
              "      <th></th>\n",
              "      <th>population</th>\n",
              "      <th>total__confirmed</th>\n",
              "      <th>total__deceased</th>\n",
              "      <th>total__recovered</th>\n",
              "      <th>total__tested</th>\n",
              "    </tr>\n",
              "  </thead>\n",
              "  <tbody>\n",
              "    <tr>\n",
              "      <th>count</th>\n",
              "      <td>5.000000e+00</td>\n",
              "      <td>5.000000</td>\n",
              "      <td>4.000000</td>\n",
              "      <td>5.000000</td>\n",
              "      <td>5.000000</td>\n",
              "    </tr>\n",
              "    <tr>\n",
              "      <th>mean</th>\n",
              "      <td>1.266400e+06</td>\n",
              "      <td>2287.400000</td>\n",
              "      <td>14.250000</td>\n",
              "      <td>1588.800000</td>\n",
              "      <td>54040.000000</td>\n",
              "    </tr>\n",
              "    <tr>\n",
              "      <th>std</th>\n",
              "      <td>1.144839e+06</td>\n",
              "      <td>795.689827</td>\n",
              "      <td>14.908052</td>\n",
              "      <td>618.487833</td>\n",
              "      <td>24652.257544</td>\n",
              "    </tr>\n",
              "    <tr>\n",
              "      <th>min</th>\n",
              "      <td>2.930000e+05</td>\n",
              "      <td>1093.000000</td>\n",
              "      <td>2.000000</td>\n",
              "      <td>713.000000</td>\n",
              "      <td>31470.000000</td>\n",
              "    </tr>\n",
              "    <tr>\n",
              "      <th>25%</th>\n",
              "      <td>6.640000e+05</td>\n",
              "      <td>1901.000000</td>\n",
              "      <td>4.250000</td>\n",
              "      <td>1347.000000</td>\n",
              "      <td>43125.000000</td>\n",
              "    </tr>\n",
              "    <tr>\n",
              "      <th>50%</th>\n",
              "      <td>9.590000e+05</td>\n",
              "      <td>2531.000000</td>\n",
              "      <td>10.000000</td>\n",
              "      <td>1527.000000</td>\n",
              "      <td>44803.000000</td>\n",
              "    </tr>\n",
              "    <tr>\n",
              "      <th>75%</th>\n",
              "      <td>1.192000e+06</td>\n",
              "      <td>2916.000000</td>\n",
              "      <td>20.000000</td>\n",
              "      <td>2127.000000</td>\n",
              "      <td>55345.000000</td>\n",
              "    </tr>\n",
              "    <tr>\n",
              "      <th>max</th>\n",
              "      <td>3.224000e+06</td>\n",
              "      <td>2996.000000</td>\n",
              "      <td>35.000000</td>\n",
              "      <td>2230.000000</td>\n",
              "      <td>95457.000000</td>\n",
              "    </tr>\n",
              "  </tbody>\n",
              "</table>\n",
              "</div>"
            ],
            "text/plain": [
              "         population  total__confirmed  ...  total__recovered  total__tested\n",
              "count  5.000000e+00          5.000000  ...          5.000000       5.000000\n",
              "mean   1.266400e+06       2287.400000  ...       1588.800000   54040.000000\n",
              "std    1.144839e+06        795.689827  ...        618.487833   24652.257544\n",
              "min    2.930000e+05       1093.000000  ...        713.000000   31470.000000\n",
              "25%    6.640000e+05       1901.000000  ...       1347.000000   43125.000000\n",
              "50%    9.590000e+05       2531.000000  ...       1527.000000   44803.000000\n",
              "75%    1.192000e+06       2916.000000  ...       2127.000000   55345.000000\n",
              "max    3.224000e+06       2996.000000  ...       2230.000000   95457.000000\n",
              "\n",
              "[8 rows x 5 columns]"
            ]
          },
          "metadata": {
            "tags": []
          },
          "execution_count": 21
        }
      ]
    },
    {
      "cell_type": "code",
      "metadata": {
        "id": "0t-4i_zi4V_9"
      },
      "source": [
        " data = pd.read_csv('/content/drive/My Drive/data/Covid_19.csv')"
      ],
      "execution_count": null,
      "outputs": []
    },
    {
      "cell_type": "code",
      "metadata": {
        "id": "alL7S9FR5Ac9",
        "colab": {
          "base_uri": "https://localhost:8080/",
          "height": 405
        },
        "outputId": "82bbeaeb-58aa-4c02-f0e1-4d9cf1b1d82f"
      },
      "source": [
        "k=data.sort_values(by='total__confirmed',ascending=True).head(7)\n",
        "k"
      ],
      "execution_count": null,
      "outputs": [
        {
          "output_type": "execute_result",
          "data": {
            "text/html": [
              "<div>\n",
              "<style scoped>\n",
              "    .dataframe tbody tr th:only-of-type {\n",
              "        vertical-align: middle;\n",
              "    }\n",
              "\n",
              "    .dataframe tbody tr th {\n",
              "        vertical-align: top;\n",
              "    }\n",
              "\n",
              "    .dataframe thead th {\n",
              "        text-align: right;\n",
              "    }\n",
              "</style>\n",
              "<table border=\"1\" class=\"dataframe\">\n",
              "  <thead>\n",
              "    <tr style=\"text-align: right;\">\n",
              "      <th></th>\n",
              "      <th>State</th>\n",
              "      <th>last_updated</th>\n",
              "      <th>population</th>\n",
              "      <th>tested__last_updated</th>\n",
              "      <th>total__confirmed</th>\n",
              "      <th>total__deceased</th>\n",
              "      <th>total__recovered</th>\n",
              "      <th>total__tested</th>\n",
              "    </tr>\n",
              "  </thead>\n",
              "  <tbody>\n",
              "    <tr>\n",
              "      <th>22</th>\n",
              "      <td>MZ</td>\n",
              "      <td>2020-09-06T09:06:33+05:30</td>\n",
              "      <td>1192000</td>\n",
              "      <td>9/5/2020</td>\n",
              "      <td>1093</td>\n",
              "      <td>NaN</td>\n",
              "      <td>713</td>\n",
              "      <td>44803</td>\n",
              "    </tr>\n",
              "    <tr>\n",
              "      <th>28</th>\n",
              "      <td>SK</td>\n",
              "      <td>2020-09-06T00:53:43+05:30</td>\n",
              "      <td>664000</td>\n",
              "      <td>9/5/2020</td>\n",
              "      <td>1901</td>\n",
              "      <td>5.0</td>\n",
              "      <td>1347</td>\n",
              "      <td>43125</td>\n",
              "    </tr>\n",
              "    <tr>\n",
              "      <th>8</th>\n",
              "      <td>DN</td>\n",
              "      <td>2020-09-05T19:27:27+05:30</td>\n",
              "      <td>959000</td>\n",
              "      <td>9/3/2020</td>\n",
              "      <td>2531</td>\n",
              "      <td>2.0</td>\n",
              "      <td>2230</td>\n",
              "      <td>55345</td>\n",
              "    </tr>\n",
              "    <tr>\n",
              "      <th>19</th>\n",
              "      <td>ML</td>\n",
              "      <td>2020-09-06T00:53:40+05:30</td>\n",
              "      <td>3224000</td>\n",
              "      <td>9/4/2020</td>\n",
              "      <td>2916</td>\n",
              "      <td>15.0</td>\n",
              "      <td>1527</td>\n",
              "      <td>95457</td>\n",
              "    </tr>\n",
              "    <tr>\n",
              "      <th>17</th>\n",
              "      <td>LA</td>\n",
              "      <td>2020-09-05T22:55:34+05:30</td>\n",
              "      <td>293000</td>\n",
              "      <td>9/5/2020</td>\n",
              "      <td>2996</td>\n",
              "      <td>35.0</td>\n",
              "      <td>2127</td>\n",
              "      <td>31470</td>\n",
              "    </tr>\n",
              "    <tr>\n",
              "      <th>0</th>\n",
              "      <td>AN</td>\n",
              "      <td>2020-09-05T22:09:31+05:30</td>\n",
              "      <td>397000</td>\n",
              "      <td>9/4/2020</td>\n",
              "      <td>3292</td>\n",
              "      <td>50.0</td>\n",
              "      <td>2904</td>\n",
              "      <td>37825</td>\n",
              "    </tr>\n",
              "    <tr>\n",
              "      <th>23</th>\n",
              "      <td>NL</td>\n",
              "      <td>2020-09-05T16:14:27+05:30</td>\n",
              "      <td>2150000</td>\n",
              "      <td>9/5/2020</td>\n",
              "      <td>4128</td>\n",
              "      <td>8.0</td>\n",
              "      <td>3419</td>\n",
              "      <td>64803</td>\n",
              "    </tr>\n",
              "  </tbody>\n",
              "</table>\n",
              "</div>"
            ],
            "text/plain": [
              "   State               last_updated  ...  total__recovered total__tested\n",
              "22    MZ  2020-09-06T09:06:33+05:30  ...               713         44803\n",
              "28    SK  2020-09-06T00:53:43+05:30  ...              1347         43125\n",
              "8     DN  2020-09-05T19:27:27+05:30  ...              2230         55345\n",
              "19    ML  2020-09-06T00:53:40+05:30  ...              1527         95457\n",
              "17    LA  2020-09-05T22:55:34+05:30  ...              2127         31470\n",
              "0     AN  2020-09-05T22:09:31+05:30  ...              2904         37825\n",
              "23    NL  2020-09-05T16:14:27+05:30  ...              3419         64803\n",
              "\n",
              "[7 rows x 8 columns]"
            ]
          },
          "metadata": {
            "tags": []
          },
          "execution_count": 25
        }
      ]
    },
    {
      "cell_type": "code",
      "metadata": {
        "id": "yqRWR9x84qMN"
      },
      "source": [
        "state=k['State']\n",
        "confirmed=k['total__confirmed']\n",
        "recovered=k['total__recovered']\n",
        "tested=k['total__tested']\n",
        "deceased=k['total__deceased']"
      ],
      "execution_count": null,
      "outputs": []
    },
    {
      "cell_type": "code",
      "metadata": {
        "id": "BWFSA4x-4BJM",
        "colab": {
          "base_uri": "https://localhost:8080/",
          "height": 208
        },
        "outputId": "2be22c9f-2ce1-432d-bd58-0d55a019f1d2"
      },
      "source": [
        "labels=['confirmed','recovered','tested','deceased']\n",
        "plt.stackplot(state,tested,confirmed,recovered,tested,deceased, labels=labels)\n",
        "plt.title(\"Stack Plot\")\n",
        "plt.xlabel(\"STATES\")\n",
        "plt.legend(loc=\"upper left\")\n",
        "plt.show()"
      ],
      "execution_count": null,
      "outputs": [
        {
          "output_type": "display_data",
          "data": {
            "image/png": "[encoded data removed]",
            "text/plain": [
              "<Figure size 432x288 with 1 Axes>"
            ]
          },
          "metadata": {
            "tags": [],
            "needs_background": "light"
          }
        }
      ]
    },
    {
      "cell_type": "code",
      "metadata": {
        "id": "nCAE6BC1BhLj",
        "colab": {
          "base_uri": "https://localhost:8080/",
          "height": 219
        },
        "outputId": "b1c0aeb9-791c-4565-865e-fb1550b83083"
      },
      "source": [
        "state=data['State']\n",
        "confirmed=data['total__confirmed']\n",
        "recovered=data['total__recovered']\n",
        "labels=['confirmed','recovered']\n",
        "plt.stackplot(state,confirmed,recovered,labels=labels)\n",
        "plt.title(\"Stack Plot\")\n",
        "plt.xlabel(\"STATES\")\n",
        "plt.legend(loc=\"upper left\")\n",
        "plt.show()"
      ],
      "execution_count": null,
      "outputs": [
        {
          "output_type": "display_data",
          "data": {
            "image/png": "[encoded data removed]",
            "text/plain": [
              "<Figure size 432x288 with 1 Axes>"
            ]
          },
          "metadata": {
            "tags": [],
            "needs_background": "light"
          }
        }
      ]
    },
    {
      "cell_type": "code",
      "metadata": {
        "id": "jNRKjqCYKZkr",
        "colab": {
          "base_uri": "https://localhost:8080/",
          "height": 357
        },
        "outputId": "7ef270bd-bf1b-450b-820b-21c59228638f"
      },
      "source": [
        "k=data.sort_values(by='total__deceased',ascending=False).head(6)\n",
        "k"
      ],
      "execution_count": null,
      "outputs": [
        {
          "output_type": "execute_result",
          "data": {
            "text/html": [
              "<div>\n",
              "<style scoped>\n",
              "    .dataframe tbody tr th:only-of-type {\n",
              "        vertical-align: middle;\n",
              "    }\n",
              "\n",
              "    .dataframe tbody tr th {\n",
              "        vertical-align: top;\n",
              "    }\n",
              "\n",
              "    .dataframe thead th {\n",
              "        text-align: right;\n",
              "    }\n",
              "</style>\n",
              "<table border=\"1\" class=\"dataframe\">\n",
              "  <thead>\n",
              "    <tr style=\"text-align: right;\">\n",
              "      <th></th>\n",
              "      <th>State</th>\n",
              "      <th>last_updated</th>\n",
              "      <th>population</th>\n",
              "      <th>tested__last_updated</th>\n",
              "      <th>total__confirmed</th>\n",
              "      <th>total__deceased</th>\n",
              "      <th>total__recovered</th>\n",
              "      <th>total__tested</th>\n",
              "    </tr>\n",
              "  </thead>\n",
              "  <tbody>\n",
              "    <tr>\n",
              "      <th>18</th>\n",
              "      <td>MH</td>\n",
              "      <td>2020-09-05T20:52:26+05:30</td>\n",
              "      <td>122153000</td>\n",
              "      <td>9/5/2020</td>\n",
              "      <td>883862</td>\n",
              "      <td>26276.0</td>\n",
              "      <td>636574</td>\n",
              "      <td>4565368</td>\n",
              "    </tr>\n",
              "    <tr>\n",
              "      <th>30</th>\n",
              "      <td>TN</td>\n",
              "      <td>2020-09-05T22:06:30+05:30</td>\n",
              "      <td>75695000</td>\n",
              "      <td>9/5/2020</td>\n",
              "      <td>457697</td>\n",
              "      <td>7751.0</td>\n",
              "      <td>398366</td>\n",
              "      <td>5212534</td>\n",
              "    </tr>\n",
              "    <tr>\n",
              "      <th>15</th>\n",
              "      <td>KA</td>\n",
              "      <td>2020-09-05T19:27:22+05:30</td>\n",
              "      <td>65798000</td>\n",
              "      <td>9/5/2020</td>\n",
              "      <td>389232</td>\n",
              "      <td>6298.0</td>\n",
              "      <td>283298</td>\n",
              "      <td>3273871</td>\n",
              "    </tr>\n",
              "    <tr>\n",
              "      <th>7</th>\n",
              "      <td>DL</td>\n",
              "      <td>2020-09-05T21:31:26+05:30</td>\n",
              "      <td>19814000</td>\n",
              "      <td>9/5/2020</td>\n",
              "      <td>188193</td>\n",
              "      <td>4538.0</td>\n",
              "      <td>163785</td>\n",
              "      <td>1744466</td>\n",
              "    </tr>\n",
              "    <tr>\n",
              "      <th>1</th>\n",
              "      <td>AP</td>\n",
              "      <td>2020-09-05T20:15:29+05:30</td>\n",
              "      <td>52221000</td>\n",
              "      <td>9/5/2020</td>\n",
              "      <td>487331</td>\n",
              "      <td>4347.0</td>\n",
              "      <td>382104</td>\n",
              "      <td>4035317</td>\n",
              "    </tr>\n",
              "    <tr>\n",
              "      <th>32</th>\n",
              "      <td>UP</td>\n",
              "      <td>2020-09-05T16:14:24+05:30</td>\n",
              "      <td>224979000</td>\n",
              "      <td>9/5/2020</td>\n",
              "      <td>259765</td>\n",
              "      <td>3843.0</td>\n",
              "      <td>195959</td>\n",
              "      <td>6345223</td>\n",
              "    </tr>\n",
              "  </tbody>\n",
              "</table>\n",
              "</div>"
            ],
            "text/plain": [
              "   State               last_updated  ...  total__recovered total__tested\n",
              "18    MH  2020-09-05T20:52:26+05:30  ...            636574       4565368\n",
              "30    TN  2020-09-05T22:06:30+05:30  ...            398366       5212534\n",
              "15    KA  2020-09-05T19:27:22+05:30  ...            283298       3273871\n",
              "7     DL  2020-09-05T21:31:26+05:30  ...            163785       1744466\n",
              "1     AP  2020-09-05T20:15:29+05:30  ...            382104       4035317\n",
              "32    UP  2020-09-05T16:14:24+05:30  ...            195959       6345223\n",
              "\n",
              "[6 rows x 8 columns]"
            ]
          },
          "metadata": {
            "tags": []
          },
          "execution_count": 29
        }
      ]
    },
    {
      "cell_type": "code",
      "metadata": {
        "id": "TIhUt06HKN5D"
      },
      "source": [
        "state=k['State']\n",
        "confirmed=k['total__confirmed']\n",
        "recovered=k['total__recovered']\n",
        "tested=k['total__tested']\n",
        "active=(confirmed-(tested+recovered))"
      ],
      "execution_count": null,
      "outputs": []
    },
    {
      "cell_type": "code",
      "metadata": {
        "id": "V7bWTswgIUH_",
        "colab": {
          "base_uri": "https://localhost:8080/",
          "height": 225
        },
        "outputId": "bd7f5d61-81b7-498a-fc37-59a40f82fb51"
      },
      "source": [
        " \n",
        "label=['confirmed','tested','active','recovered']\n",
        "plt.stackplot(state,confirmed,tested,active,recovered,colors=['green','orange','red','blue'],labels=label)\n",
        "plt.title(\"Stack Plot\")\n",
        "plt.xlabel(\"STATES\")\n",
        "plt.legend(loc=\"upper left\")\n",
        "plt.show()"
      ],
      "execution_count": null,
      "outputs": [
        {
          "output_type": "display_data",
          "data": {
            "image/png": "[encoded data removed]",
            "text/plain": [
              "<Figure size 432x288 with 1 Axes>"
            ]
          },
          "metadata": {
            "tags": [],
            "needs_background": "light"
          }
        }
      ]
    }
  ]
}