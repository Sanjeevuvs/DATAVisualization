{
  "nbformat": 4,
  "nbformat_minor": 0,
  "metadata": {
    "kernelspec": {
      "display_name": "Python 3",
      "language": "python",
      "name": "python3"
    },
    "language_info": {
      "codemirror_mode": {
        "name": "ipython",
        "version": 3
      },
      "file_extension": ".py",
      "mimetype": "text/x-python",
      "name": "python",
      "nbconvert_exporter": "python",
      "pygments_lexer": "ipython3",
      "version": "3.7.7"
    },
    "colab": {
      "name": "Graphviz.ipynb",
      "provenance": [],
      "collapsed_sections": [],
      "include_colab_link": true
    }
  },
  "cells": [
    {
      "cell_type": "markdown",
      "metadata": {
        "id": "view-in-github",
        "colab_type": "text"
      },
      "source": [
        "<a href=\"https://colab.research.google.com/github/Sanjeevuvs/DATAVisualization/blob/main/Graphviz.ipynb\" target=\"_parent\"><img src=\"https://colab.research.google.com/assets/colab-badge.svg\" alt=\"Open In Colab\"/></a>"
      ]
    },
    {
      "cell_type": "markdown",
      "metadata": {
        "id": "tboR7vdzVoOk"
      },
      "source": [
        "<h1> <center> Displaying Arbitary Graphs/ Networks using graphviz </center> </h1>"
      ]
    },
    {
      "cell_type": "markdown",
      "metadata": {
        "id": "vG_-J6nwVoOn"
      },
      "source": [
        "### Installation"
      ]
    },
    {
      "cell_type": "markdown",
      "metadata": {
        "id": "ZX0me8jlVoOo"
      },
      "source": [
        "!pip install graphviz\n",
        "ADD to PATH (Environment Variables in OS)"
      ]
    },
    {
      "cell_type": "markdown",
      "metadata": {
        "id": "fnV1bJYtVoOq"
      },
      "source": [
        "* Graphviz is open source graph visualization software.\n",
        "* Graph visualization is a way of representing structural information as diagrams of abstract graphs and networks. \n",
        "* It has important applications in networking, bioinformatics, software engineering, database and web design, machine learning, and in visual interfaces for other technical domains.\n",
        "\n",
        "* The graphviz module provides two classes: Graph and Digraph. \n",
        "* They create graph descriptions in the DOT language for undirected and directed graphs respectively."
      ]
    },
    {
      "cell_type": "markdown",
      "metadata": {
        "id": "TBC7dzbYVoOr"
      },
      "source": [
        "### Parameters\n",
        "\n",
        "* name – Graph name used in the source code.\n",
        "* comment – Comment added to the first line of the source.\n",
        "* filename – Filename for saving the source (defaults to name + '.gv').\n",
        "* directory – (Sub)directory for source saving and rendering.\n",
        "* format – Rendering output format ('pdf', 'png', …).\n",
        "* engine – Layout command used ('dot', 'neato', …).\n",
        "* encoding – Encoding for saving the source.\n",
        "* graph_attr – Mapping of (attribute, value) pairs for the graph.\n",
        "* node_attr – Mapping of (attribute, value) pairs set for all nodes.\n",
        "* edge_attr – Mapping of (attribute, value) pairs set for all edges.\n",
        "* body – Iterable of verbatim lines to add to the graph body.\n",
        "* strict (bool) – Rendering should merge multi-edges."
      ]
    },
    {
      "cell_type": "markdown",
      "metadata": {
        "id": "N5WezLR7VoOv"
      },
      "source": [
        "### engine\n",
        "\n",
        "* dot - filter for drawing directed graphs\n",
        "* neato - filter for drawing undirected graphs\n",
        "* twopi - filter for radial layouts of graphs\n",
        "* circo - filter for circular layout of graphs\n",
        "* fdp - filter for drawing undirected graphs\n",
        "* sfdp - filter for drawing large undirected graphs\n",
        "* patchwork - filter for tree maps"
      ]
    },
    {
      "cell_type": "markdown",
      "metadata": {
        "id": "5PnOE_eHVoOw"
      },
      "source": [
        "### Importing the Libraries"
      ]
    },
    {
      "cell_type": "code",
      "metadata": {
        "id": "6sNe7i-dVoOx"
      },
      "source": [
        "from graphviz import Digraph, Graph"
      ],
      "execution_count": null,
      "outputs": []
    },
    {
      "cell_type": "markdown",
      "metadata": {
        "id": "SLspOOkSVoO4"
      },
      "source": [
        "## 1. Simple Directed Graph"
      ]
    },
    {
      "cell_type": "code",
      "metadata": {
        "id": "wJwiFVk7Z9sQ",
        "colab": {
          "base_uri": "https://localhost:8080/",
          "height": 176
        },
        "outputId": "6a560bf8-1e68-4383-99cf-fd8bb6fe98f1"
      },
      "source": [
        "from IPython.core.display import SVG\n",
        "SVG('/content/hello.svg')"
      ],
      "execution_count": null,
      "outputs": [
        {
          "output_type": "execute_result",
          "data": {
            "text/plain": [
              "<IPython.core.display.SVG object>"
            ],
            "image/svg+xml": "<svg height=\"116pt\" viewBox=\"0.00 0.00 76.89 116.00\" width=\"77pt\" xmlns=\"http://www.w3.org/2000/svg\" xmlns:xlink=\"http://www.w3.org/1999/xlink\">\n<g class=\"graph\" id=\"graph0\" transform=\"scale(1 1) rotate(0) translate(4 112)\">\n<title>G</title>\n<polygon fill=\"white\" points=\"-4,4 -4,-112 72.8939,-112 72.8939,4 -4,4\" stroke=\"none\"/>\n<!-- Hello -->\n<g class=\"node\" id=\"node1\"><title>Hello</title>\n<ellipse cx=\"34.4469\" cy=\"-90\" fill=\"none\" rx=\"29.795\" ry=\"18\" stroke=\"black\"/>\n<text font-family=\"Times New Roman,serif\" font-size=\"14.00\" text-anchor=\"middle\" x=\"34.4469\" y=\"-86.3\">Hello</text>\n</g>\n<!-- World -->\n<g class=\"node\" id=\"node2\"><title>World</title>\n<ellipse cx=\"34.4469\" cy=\"-18\" fill=\"none\" rx=\"34.394\" ry=\"18\" stroke=\"black\"/>\n<text font-family=\"Times New Roman,serif\" font-size=\"14.00\" text-anchor=\"middle\" x=\"34.4469\" y=\"-14.3\">World</text>\n</g>\n<!-- Hello&#45;&gt;World -->\n<g class=\"edge\" id=\"edge1\"><title>Hello-&gt;World</title>\n<path d=\"M34.4469,-71.6966C34.4469,-63.9827 34.4469,-54.7125 34.4469,-46.1124\" fill=\"none\" stroke=\"black\"/>\n<polygon fill=\"black\" points=\"37.947,-46.1043 34.4469,-36.1043 30.947,-46.1044 37.947,-46.1043\" stroke=\"black\"/>\n</g>\n</g>\n</svg>"
          },
          "metadata": {
            "tags": []
          },
          "execution_count": 2
        }
      ]
    },
    {
      "cell_type": "code",
      "metadata": {
        "scrolled": false,
        "id": "eNQKX6g7VoO6",
        "colab": {
          "base_uri": "https://localhost:8080/",
          "height": 35
        },
        "outputId": "23e852cf-fcc2-44f5-fa08-cad08a190c58"
      },
      "source": [
        "g1 = Digraph('G1', filename='G1.gv')\n",
        "g1.edge('Hello', 'World')\n",
        "g1.view()"
      ],
      "execution_count": null,
      "outputs": [
        {
          "output_type": "execute_result",
          "data": {
            "application/vnd.google.colaboratory.intrinsic+json": {
              "type": "string"
            },
            "text/plain": [
              "'G1.gv.pdf'"
            ]
          },
          "metadata": {
            "tags": []
          },
          "execution_count": 3
        }
      ]
    },
    {
      "cell_type": "code",
      "metadata": {
        "id": "riavi8FCePQJ",
        "colab": {
          "base_uri": "https://localhost:8080/",
          "height": 35
        },
        "outputId": "bbc50bee-6125-4785-cd2f-9ae9660be2f3"
      },
      "source": [
        "g1 = Digraph('G1', filename='G1.new.gv')\n",
        "g1.edge('SRINU', 'SANJEEV')\n",
        "g1.view()"
      ],
      "execution_count": null,
      "outputs": [
        {
          "output_type": "execute_result",
          "data": {
            "application/vnd.google.colaboratory.intrinsic+json": {
              "type": "string"
            },
            "text/plain": [
              "'G1.new.gv.pdf'"
            ]
          },
          "metadata": {
            "tags": []
          },
          "execution_count": 9
        }
      ]
    },
    {
      "cell_type": "markdown",
      "metadata": {
        "id": "nWqE7ALsVoPA"
      },
      "source": [
        "## 2. Simple Undirected Graph"
      ]
    },
    {
      "cell_type": "code",
      "metadata": {
        "id": "2uVff5a2arRV",
        "colab": {
          "base_uri": "https://localhost:8080/",
          "height": 377
        },
        "outputId": "4c3317d5-1259-40de-fbbf-db6d9c872807"
      },
      "source": [
        "SVG('/content/process.svg')"
      ],
      "execution_count": null,
      "outputs": [
        {
          "output_type": "execute_result",
          "data": {
            "text/plain": [
              "<IPython.core.display.SVG object>"
            ],
            "image/svg+xml": "<svg height=\"252pt\" viewBox=\"0.00 0.00 693.30 251.93\" width=\"693pt\" xmlns=\"http://www.w3.org/2000/svg\" xmlns:xlink=\"http://www.w3.org/1999/xlink\">\n<g class=\"graph\" id=\"graph0\" transform=\"scale(1 1) rotate(0) translate(4 247.926)\">\n<title>G</title>\n<polygon fill=\"white\" points=\"-4,4 -4,-247.926 689.304,-247.926 689.304,4 -4,4\" stroke=\"none\"/>\n<!-- run -->\n<g class=\"node\" id=\"node1\"><title>run</title>\n<ellipse cx=\"156.628\" cy=\"-113.566\" fill=\"none\" rx=\"27\" ry=\"18\" stroke=\"black\"/>\n<text font-family=\"Times New Roman,serif\" font-size=\"14.00\" text-anchor=\"middle\" x=\"156.628\" y=\"-109.866\">run</text>\n</g>\n<!-- intr -->\n<g class=\"node\" id=\"node2\"><title>intr</title>\n<ellipse cx=\"34.2576\" cy=\"-75.4583\" fill=\"none\" rx=\"27\" ry=\"18\" stroke=\"black\"/>\n<text font-family=\"Times New Roman,serif\" font-size=\"14.00\" text-anchor=\"middle\" x=\"34.2576\" y=\"-71.7583\">intr</text>\n</g>\n<!-- run&#45;&#45;intr -->\n<g class=\"edge\" id=\"edge1\"><title>run--intr</title>\n<path d=\"M132.159,-105.946C110.955,-99.3429 80.4171,-89.8329 59.104,-83.1958\" fill=\"none\" stroke=\"black\"/>\n</g>\n<!-- kernel -->\n<g class=\"node\" id=\"node4\"><title>kernel</title>\n<ellipse cx=\"350.756\" cy=\"-125.195\" fill=\"none\" rx=\"32.4942\" ry=\"18\" stroke=\"black\"/>\n<text font-family=\"Times New Roman,serif\" font-size=\"14.00\" text-anchor=\"middle\" x=\"350.756\" y=\"-121.495\">kernel</text>\n</g>\n<!-- run&#45;&#45;kernel -->\n<g class=\"edge\" id=\"edge4\"><title>run--kernel</title>\n<path d=\"M183.621,-115.183C218.834,-117.292 280.394,-120.98 318.168,-123.243\" fill=\"none\" stroke=\"black\"/>\n</g>\n<!-- runbl -->\n<g class=\"node\" id=\"node3\"><title>runbl</title>\n<ellipse cx=\"29.2474\" cy=\"-153.272\" fill=\"none\" rx=\"29.4969\" ry=\"18\" stroke=\"black\"/>\n<text font-family=\"Times New Roman,serif\" font-size=\"14.00\" text-anchor=\"middle\" x=\"29.2474\" y=\"-149.572\">runbl</text>\n</g>\n<!-- intr&#45;&#45;runbl -->\n<g class=\"edge\" id=\"edge2\"><title>intr--runbl</title>\n<path d=\"M33.0956,-93.5059C32.2919,-105.987 31.2265,-122.534 30.4205,-135.053\" fill=\"none\" stroke=\"black\"/>\n</g>\n<!-- runbl&#45;&#45;run -->\n<g class=\"edge\" id=\"edge3\"><title>runbl--run</title>\n<path d=\"M55.6408,-145.045C78.0854,-138.049 110.071,-128.078 131.997,-121.244\" fill=\"none\" stroke=\"black\"/>\n</g>\n<!-- zombie -->\n<g class=\"node\" id=\"node5\"><title>zombie</title>\n<ellipse cx=\"294.131\" cy=\"-221.131\" fill=\"none\" rx=\"37.0935\" ry=\"18\" stroke=\"black\"/>\n<text font-family=\"Times New Roman,serif\" font-size=\"14.00\" text-anchor=\"middle\" x=\"294.131\" y=\"-217.431\">zombie</text>\n</g>\n<!-- kernel&#45;&#45;zombie -->\n<g class=\"edge\" id=\"edge5\"><title>kernel--zombie</title>\n<path d=\"M340.633,-142.346C330.389,-159.701 314.638,-186.388 304.357,-203.804\" fill=\"none\" stroke=\"black\"/>\n</g>\n<!-- sleep -->\n<g class=\"node\" id=\"node6\"><title>sleep</title>\n<ellipse cx=\"482.705\" cy=\"-58.875\" fill=\"none\" rx=\"29.4969\" ry=\"18\" stroke=\"black\"/>\n<text font-family=\"Times New Roman,serif\" font-size=\"14.00\" text-anchor=\"middle\" x=\"482.705\" y=\"-55.175\">sleep</text>\n</g>\n<!-- kernel&#45;&#45;sleep -->\n<g class=\"edge\" id=\"edge6\"><title>kernel--sleep</title>\n<path d=\"M374.958,-113.031C399.212,-100.84 436.262,-82.2182 459.98,-70.297\" fill=\"none\" stroke=\"black\"/>\n</g>\n<!-- runmem -->\n<g class=\"node\" id=\"node7\"><title>runmem</title>\n<ellipse cx=\"519.307\" cy=\"-154.788\" fill=\"none\" rx=\"40.0939\" ry=\"18\" stroke=\"black\"/>\n<text font-family=\"Times New Roman,serif\" font-size=\"14.00\" text-anchor=\"middle\" x=\"519.307\" y=\"-151.088\">runmem</text>\n</g>\n<!-- kernel&#45;&#45;runmem -->\n<g class=\"edge\" id=\"edge7\"><title>kernel--runmem</title>\n<path d=\"M382.064,-130.692C410.244,-135.639 451.711,-142.92 481.684,-148.182\" fill=\"none\" stroke=\"black\"/>\n</g>\n<!-- sleep&#45;&#45;runmem -->\n<g class=\"edge\" id=\"edge13\"><title>sleep--runmem</title>\n<path d=\"M489.419,-76.4669C495.981,-93.6645 505.922,-119.712 512.512,-136.983\" fill=\"none\" stroke=\"black\"/>\n</g>\n<!-- swap -->\n<g class=\"node\" id=\"node8\"><title>swap</title>\n<ellipse cx=\"611.563\" cy=\"-18\" fill=\"none\" rx=\"29.795\" ry=\"18\" stroke=\"black\"/>\n<text font-family=\"Times New Roman,serif\" font-size=\"14.00\" text-anchor=\"middle\" x=\"611.563\" y=\"-14.3\">swap</text>\n</g>\n<!-- sleep&#45;&#45;swap -->\n<g class=\"edge\" id=\"edge8\"><title>sleep--swap</title>\n<path d=\"M508.782,-50.6033C530.991,-43.5583 562.759,-33.481 585.083,-26.3997\" fill=\"none\" stroke=\"black\"/>\n</g>\n<!-- runswap -->\n<g class=\"node\" id=\"node9\"><title>runswap</title>\n<ellipse cx=\"643.708\" cy=\"-126.795\" fill=\"none\" rx=\"41.6928\" ry=\"18\" stroke=\"black\"/>\n<text font-family=\"Times New Roman,serif\" font-size=\"14.00\" text-anchor=\"middle\" x=\"643.708\" y=\"-123.095\">runswap</text>\n</g>\n<!-- swap&#45;&#45;runswap -->\n<g class=\"edge\" id=\"edge9\"><title>swap--runswap</title>\n<path d=\"M616.871,-35.9653C622.827,-56.1233 632.433,-88.6343 638.392,-108.803\" fill=\"none\" stroke=\"black\"/>\n</g>\n<!-- runswap&#45;&#45;runmem -->\n<g class=\"edge\" id=\"edge11\"><title>runswap--runmem</title>\n<path d=\"M606.72,-135.118C590.534,-138.76 571.605,-143.02 555.509,-146.642\" fill=\"none\" stroke=\"black\"/>\n</g>\n<!-- new -->\n<g class=\"node\" id=\"node10\"><title>new</title>\n<ellipse cx=\"630.999\" cy=\"-225.926\" fill=\"none\" rx=\"27\" ry=\"18\" stroke=\"black\"/>\n<text font-family=\"Times New Roman,serif\" font-size=\"14.00\" text-anchor=\"middle\" x=\"630.999\" y=\"-222.226\">new</text>\n</g>\n<!-- runswap&#45;&#45;new -->\n<g class=\"edge\" id=\"edge10\"><title>runswap--new</title>\n<path d=\"M641.377,-144.977C639.084,-162.864 635.603,-190.013 633.315,-207.859\" fill=\"none\" stroke=\"black\"/>\n</g>\n<!-- new&#45;&#45;runmem -->\n<g class=\"edge\" id=\"edge12\"><title>new--runmem</title>\n<path d=\"M611.288,-213.372C592.124,-201.166 563.012,-182.624 542.688,-169.68\" fill=\"none\" stroke=\"black\"/>\n</g>\n</g>\n</svg>"
          },
          "metadata": {
            "tags": []
          },
          "execution_count": 4
        }
      ]
    },
    {
      "cell_type": "code",
      "metadata": {
        "id": "xujR1oI8VoPC",
        "colab": {
          "base_uri": "https://localhost:8080/",
          "height": 35
        },
        "outputId": "40dc8d99-3285-44a1-f059-d679e5c99ce6"
      },
      "source": [
        "g2 = Graph('G', filename='G2.gv', engine='sfdp')\n",
        "\n",
        "g2.edge('run', 'intr')\n",
        "g2.edge('intr', 'runbl')\n",
        "g2.edge('runbl', 'run')\n",
        "g2.edge('run', 'kernel')\n",
        "g2.edge('kernel', 'zombie')\n",
        "g2.edge('kernel', 'sleep')\n",
        "g2.edge('kernel', 'runmem')\n",
        "g2.edge('sleep', 'swap')\n",
        "g2.edge('swap', 'runswap')\n",
        "g2.edge('runswap', 'new')\n",
        "g2.edge('runswap', 'runmem')\n",
        "g2.edge('new', 'runmem')\n",
        "g2.edge('sleep', 'runmem')\n",
        "\n",
        "g2.view()"
      ],
      "execution_count": null,
      "outputs": [
        {
          "output_type": "execute_result",
          "data": {
            "application/vnd.google.colaboratory.intrinsic+json": {
              "type": "string"
            },
            "text/plain": [
              "'G2.gv.pdf'"
            ]
          },
          "metadata": {
            "tags": []
          },
          "execution_count": 5
        }
      ]
    },
    {
      "cell_type": "markdown",
      "metadata": {
        "id": "EXDSli68VoPL"
      },
      "source": [
        "## 3. Finite state machine"
      ]
    },
    {
      "cell_type": "code",
      "metadata": {
        "id": "1fwojbCBa3N9",
        "colab": {
          "base_uri": "https://localhost:8080/",
          "height": 365
        },
        "outputId": "1ae78f55-f72b-4283-cf93-ef41f5c0cb09"
      },
      "source": [
        "SVG('/content/fsm.svg')"
      ],
      "execution_count": null,
      "outputs": [
        {
          "output_type": "execute_result",
          "data": {
            "text/plain": [
              "<IPython.core.display.SVG object>"
            ],
            "image/svg+xml": "<svg height=\"258pt\" viewBox=\"0.00 0.00 576.00 258.45\" width=\"576pt\" xmlns=\"http://www.w3.org/2000/svg\" xmlns:xlink=\"http://www.w3.org/1999/xlink\">\n<g class=\"graph\" id=\"graph0\" transform=\"scale(0.769883 0.769883) rotate(0) translate(4 331.694)\">\n<title>finite_state_machine</title>\n<polygon fill=\"white\" points=\"-4,4 -4,-331.694 744.166,-331.694 744.166,4 -4,4\" stroke=\"none\"/>\n<!-- LR_0 -->\n<g class=\"node\" id=\"node1\"><title>LR_0</title>\n<ellipse cx=\"35.8472\" cy=\"-106.847\" fill=\"none\" rx=\"31.712\" ry=\"31.712\" stroke=\"black\"/>\n<ellipse cx=\"35.8472\" cy=\"-106.847\" fill=\"none\" rx=\"35.695\" ry=\"35.695\" stroke=\"black\"/>\n<text font-family=\"Times New Roman,serif\" font-size=\"14.00\" text-anchor=\"middle\" x=\"35.8472\" y=\"-103.147\">LR_0</text>\n</g>\n<!-- LR_2 -->\n<g class=\"node\" id=\"node5\"><title>LR_2</title>\n<ellipse cx=\"174.542\" cy=\"-146.847\" fill=\"none\" rx=\"31.6951\" ry=\"31.6951\" stroke=\"black\"/>\n<text font-family=\"Times New Roman,serif\" font-size=\"14.00\" text-anchor=\"middle\" x=\"174.542\" y=\"-143.147\">LR_2</text>\n</g>\n<!-- LR_0&#45;&gt;LR_2 -->\n<g class=\"edge\" id=\"edge1\"><title>LR_0-&gt;LR_2</title>\n<path d=\"M70.6368,-116.735C89.8449,-122.356 113.995,-129.422 134.071,-135.297\" fill=\"none\" stroke=\"black\"/>\n<polygon fill=\"black\" points=\"133.274,-138.711 143.855,-138.16 135.24,-131.992 133.274,-138.711\" stroke=\"black\"/>\n<text font-family=\"Times New Roman,serif\" font-size=\"14.00\" text-anchor=\"middle\" x=\"107.194\" y=\"-135.647\">SS(B)</text>\n</g>\n<!-- LR_1 -->\n<g class=\"node\" id=\"node6\"><title>LR_1</title>\n<ellipse cx=\"174.542\" cy=\"-54.8472\" fill=\"none\" rx=\"31.6951\" ry=\"31.6951\" stroke=\"black\"/>\n<text font-family=\"Times New Roman,serif\" font-size=\"14.00\" text-anchor=\"middle\" x=\"174.542\" y=\"-51.1472\">LR_1</text>\n</g>\n<!-- LR_0&#45;&gt;LR_1 -->\n<g class=\"edge\" id=\"edge2\"><title>LR_0-&gt;LR_1</title>\n<path d=\"M69.5889,-94.3919C89.2263,-86.9216 114.304,-77.3816 134.909,-69.5435\" fill=\"none\" stroke=\"black\"/>\n<polygon fill=\"black\" points=\"136.22,-72.7895 144.322,-65.9626 133.731,-66.2469 136.22,-72.7895\" stroke=\"black\"/>\n<text font-family=\"Times New Roman,serif\" font-size=\"14.00\" text-anchor=\"middle\" x=\"107.194\" y=\"-89.6472\">SS(S)</text>\n</g>\n<!-- LR_3 -->\n<g class=\"node\" id=\"node2\"><title>LR_3</title>\n<ellipse cx=\"323.236\" cy=\"-35.8472\" fill=\"none\" rx=\"31.712\" ry=\"31.712\" stroke=\"black\"/>\n<ellipse cx=\"323.236\" cy=\"-35.8472\" fill=\"none\" rx=\"35.695\" ry=\"35.695\" stroke=\"black\"/>\n<text font-family=\"Times New Roman,serif\" font-size=\"14.00\" text-anchor=\"middle\" x=\"323.236\" y=\"-32.1472\">LR_3</text>\n</g>\n<!-- LR_4 -->\n<g class=\"node\" id=\"node3\"><title>LR_4</title>\n<ellipse cx=\"323.236\" cy=\"-291.847\" fill=\"none\" rx=\"31.712\" ry=\"31.712\" stroke=\"black\"/>\n<ellipse cx=\"323.236\" cy=\"-291.847\" fill=\"none\" rx=\"35.695\" ry=\"35.695\" stroke=\"black\"/>\n<text font-family=\"Times New Roman,serif\" font-size=\"14.00\" text-anchor=\"middle\" x=\"323.236\" y=\"-288.147\">LR_4</text>\n</g>\n<!-- LR_8 -->\n<g class=\"node\" id=\"node4\"><title>LR_8</title>\n<ellipse cx=\"704.319\" cy=\"-147.847\" fill=\"none\" rx=\"31.712\" ry=\"31.712\" stroke=\"black\"/>\n<ellipse cx=\"704.319\" cy=\"-147.847\" fill=\"none\" rx=\"35.695\" ry=\"35.695\" stroke=\"black\"/>\n<text font-family=\"Times New Roman,serif\" font-size=\"14.00\" text-anchor=\"middle\" x=\"704.319\" y=\"-144.147\">LR_8</text>\n</g>\n<!-- LR_6 -->\n<g class=\"node\" id=\"node7\"><title>LR_6</title>\n<ellipse cx=\"323.236\" cy=\"-172.847\" fill=\"none\" rx=\"31.6951\" ry=\"31.6951\" stroke=\"black\"/>\n<text font-family=\"Times New Roman,serif\" font-size=\"14.00\" text-anchor=\"middle\" x=\"323.236\" y=\"-169.147\">LR_6</text>\n</g>\n<!-- LR_8&#45;&gt;LR_6 -->\n<g class=\"edge\" id=\"edge13\"><title>LR_8-&gt;LR_6</title>\n<path d=\"M669.127,-154.782C625.934,-163.158 549.217,-176.756 482.777,-181.847 454.552,-184.01 447.36,-183.186 419.083,-181.847 401.296,-181.005 381.696,-179.28 364.953,-177.563\" fill=\"none\" stroke=\"black\"/>\n<polygon fill=\"black\" points=\"365.251,-174.075 354.939,-176.503 364.515,-181.036 365.251,-174.075\" stroke=\"black\"/>\n<text font-family=\"Times New Roman,serif\" font-size=\"14.00\" text-anchor=\"middle\" x=\"513.277\" y=\"-184.647\">S(b)</text>\n</g>\n<!-- LR_5 -->\n<g class=\"node\" id=\"node8\"><title>LR_5</title>\n<ellipse cx=\"450.93\" cy=\"-107.847\" fill=\"none\" rx=\"31.6951\" ry=\"31.6951\" stroke=\"black\"/>\n<text font-family=\"Times New Roman,serif\" font-size=\"14.00\" text-anchor=\"middle\" x=\"450.93\" y=\"-104.147\">LR_5</text>\n</g>\n<!-- LR_8&#45;&gt;LR_5 -->\n<g class=\"edge\" id=\"edge14\"><title>LR_8-&gt;LR_5</title>\n<path d=\"M668.545,-142.414C628.191,-136.095 559.65,-125.319 500.777,-115.847 498.086,-115.414 495.312,-114.966 492.517,-114.512\" fill=\"none\" stroke=\"black\"/>\n<polygon fill=\"black\" points=\"492.845,-111.02 482.413,-112.867 491.72,-117.929 492.845,-111.02\" stroke=\"black\"/>\n<text font-family=\"Times New Roman,serif\" font-size=\"14.00\" text-anchor=\"middle\" x=\"575.625\" y=\"-137.647\">S(a)</text>\n</g>\n<!-- LR_2&#45;&gt;LR_4 -->\n<g class=\"edge\" id=\"edge6\"><title>LR_2-&gt;LR_4</title>\n<path d=\"M197.821,-168.87C222.322,-193.087 261.915,-232.223 289.846,-259.831\" fill=\"none\" stroke=\"black\"/>\n<polygon fill=\"black\" points=\"287.463,-262.397 297.035,-266.938 292.384,-257.418 287.463,-262.397\" stroke=\"black\"/>\n<text font-family=\"Times New Roman,serif\" font-size=\"14.00\" text-anchor=\"middle\" x=\"246.889\" y=\"-239.647\">S(A)</text>\n</g>\n<!-- LR_2&#45;&gt;LR_6 -->\n<g class=\"edge\" id=\"edge4\"><title>LR_2-&gt;LR_6</title>\n<path d=\"M205.937,-152.234C227.893,-156.126 257.777,-161.422 281.754,-165.672\" fill=\"none\" stroke=\"black\"/>\n<polygon fill=\"black\" points=\"281.17,-169.123 291.628,-167.422 282.392,-162.231 281.17,-169.123\" stroke=\"black\"/>\n<text font-family=\"Times New Roman,serif\" font-size=\"14.00\" text-anchor=\"middle\" x=\"246.889\" y=\"-167.647\">SS(b)</text>\n</g>\n<!-- LR_2&#45;&gt;LR_5 -->\n<g class=\"edge\" id=\"edge5\"><title>LR_2-&gt;LR_5</title>\n<path d=\"M205.087,-137.127C227.428,-130.219 259.001,-121.39 287.389,-116.847 328.309,-110.299 375.679,-108.299 408.684,-107.786\" fill=\"none\" stroke=\"black\"/>\n<polygon fill=\"black\" points=\"408.911,-111.284 418.87,-107.668 408.829,-104.284 408.911,-111.284\" stroke=\"black\"/>\n<text font-family=\"Times New Roman,serif\" font-size=\"14.00\" text-anchor=\"middle\" x=\"323.236\" y=\"-120.647\">SS(a)</text>\n</g>\n<!-- LR_1&#45;&gt;LR_3 -->\n<g class=\"edge\" id=\"edge3\"><title>LR_1-&gt;LR_3</title>\n<path d=\"M206.293,-50.8642C226.839,-48.2031 254.208,-44.6582 277.196,-41.6808\" fill=\"none\" stroke=\"black\"/>\n<polygon fill=\"black\" points=\"277.941,-45.1136 287.409,-40.358 277.042,-38.1716 277.941,-45.1136\" stroke=\"black\"/>\n<text font-family=\"Times New Roman,serif\" font-size=\"14.00\" text-anchor=\"middle\" x=\"246.889\" y=\"-52.6472\">S($end)</text>\n</g>\n<!-- LR_6&#45;&gt;LR_6 -->\n<g class=\"edge\" id=\"edge9\"><title>LR_6-&gt;LR_6</title>\n<path d=\"M311.262,-202.528C310.87,-213.589 314.861,-222.694 323.236,-222.694 328.863,-222.694 332.511,-218.584 334.18,-212.532\" fill=\"none\" stroke=\"black\"/>\n<polygon fill=\"black\" points=\"337.667,-212.834 335.21,-202.528 330.704,-212.117 337.667,-212.834\" stroke=\"black\"/>\n<text font-family=\"Times New Roman,serif\" font-size=\"14.00\" text-anchor=\"middle\" x=\"323.236\" y=\"-226.494\">S(b)</text>\n</g>\n<!-- LR_6&#45;&gt;LR_5 -->\n<g class=\"edge\" id=\"edge10\"><title>LR_6-&gt;LR_5</title>\n<path d=\"M351.82,-158.583C369.912,-149.227 393.768,-136.89 413.426,-126.724\" fill=\"none\" stroke=\"black\"/>\n<polygon fill=\"black\" points=\"415.136,-129.781 422.41,-122.078 411.92,-123.563 415.136,-129.781\" stroke=\"black\"/>\n<text font-family=\"Times New Roman,serif\" font-size=\"14.00\" text-anchor=\"middle\" x=\"389.083\" y=\"-148.647\">S(a)</text>\n</g>\n<!-- LR_5&#45;&gt;LR_5 -->\n<g class=\"edge\" id=\"edge8\"><title>LR_5-&gt;LR_5</title>\n<path d=\"M439.691,-138.022C439.45,-148.859 443.196,-157.694 450.93,-157.694 456.006,-157.694 459.364,-153.889 461.005,-148.211\" fill=\"none\" stroke=\"black\"/>\n<polygon fill=\"black\" points=\"464.511,-148.355 462.169,-138.022 457.556,-147.56 464.511,-148.355\" stroke=\"black\"/>\n<text font-family=\"Times New Roman,serif\" font-size=\"14.00\" text-anchor=\"middle\" x=\"450.93\" y=\"-161.494\">S(a)</text>\n</g>\n<!-- LR_7 -->\n<g class=\"node\" id=\"node9\"><title>LR_7</title>\n<ellipse cx=\"575.625\" cy=\"-79.8472\" fill=\"none\" rx=\"31.6951\" ry=\"31.6951\" stroke=\"black\"/>\n<text font-family=\"Times New Roman,serif\" font-size=\"14.00\" text-anchor=\"middle\" x=\"575.625\" y=\"-76.1472\">LR_7</text>\n</g>\n<!-- LR_5&#45;&gt;LR_7 -->\n<g class=\"edge\" id=\"edge7\"><title>LR_5-&gt;LR_7</title>\n<path d=\"M482.259,-100.926C497.891,-97.3585 517.169,-92.959 534.063,-89.1037\" fill=\"none\" stroke=\"black\"/>\n<polygon fill=\"black\" points=\"535.249,-92.4232 544.219,-86.7859 533.691,-85.5986 535.249,-92.4232\" stroke=\"black\"/>\n<text font-family=\"Times New Roman,serif\" font-size=\"14.00\" text-anchor=\"middle\" x=\"513.277\" y=\"-100.647\">S(b)</text>\n</g>\n<!-- LR_7&#45;&gt;LR_8 -->\n<g class=\"edge\" id=\"edge11\"><title>LR_7-&gt;LR_8</title>\n<path d=\"M604.384,-94.3732C618.255,-101.666 635.28,-110.668 650.472,-118.847 654.739,-121.145 659.192,-123.56 663.624,-125.976\" fill=\"none\" stroke=\"black\"/>\n<polygon fill=\"black\" points=\"662.172,-129.17 672.625,-130.896 665.529,-123.028 662.172,-129.17\" stroke=\"black\"/>\n<text font-family=\"Times New Roman,serif\" font-size=\"14.00\" text-anchor=\"middle\" x=\"637.972\" y=\"-122.647\">S(b)</text>\n</g>\n<!-- LR_7&#45;&gt;LR_5 -->\n<g class=\"edge\" id=\"edge12\"><title>LR_7-&gt;LR_5</title>\n<path d=\"M544.569,-71.6302C530.928,-69.2535 514.755,-68.3565 500.777,-72.8472 494.781,-74.7738 488.895,-77.7384 483.403,-81.1443\" fill=\"none\" stroke=\"black\"/>\n<polygon fill=\"black\" points=\"481.431,-78.2524 475.135,-86.7737 485.371,-84.0385 481.431,-78.2524\" stroke=\"black\"/>\n<text font-family=\"Times New Roman,serif\" font-size=\"14.00\" text-anchor=\"middle\" x=\"513.277\" y=\"-76.6472\">S(a)</text>\n</g>\n</g>\n</svg>"
          },
          "metadata": {
            "tags": []
          },
          "execution_count": 6
        }
      ]
    },
    {
      "cell_type": "code",
      "metadata": {
        "id": "_M7mBa22VoPN",
        "colab": {
          "base_uri": "https://localhost:8080/",
          "height": 35
        },
        "outputId": "23ff255a-b38a-450c-b43b-2687a2777622"
      },
      "source": [
        "g3 = Digraph('finite_state_machine', filename='G3.gv')\n",
        "g3.attr(rankdir='LR', size='8,5')\n",
        "\n",
        "g3.attr('node', shape='doublecircle')\n",
        "g3.node('LR_0')\n",
        "g3.node('LR_3')\n",
        "g3.node('LR_4')\n",
        "g3.node('LR_8')\n",
        "\n",
        "g3.attr('node', shape='circle')\n",
        "g3.edge('LR_0', 'LR_2', label='SS(B)')\n",
        "g3.edge('LR_0', 'LR_1', label='SS(S)')\n",
        "g3.edge('LR_1', 'LR_3', label='S($end)')\n",
        "g3.edge('LR_2', 'LR_6', label='SS(b)')\n",
        "g3.edge('LR_2', 'LR_5', label='SS(a)')\n",
        "g3.edge('LR_2', 'LR_4', label='S(A)')\n",
        "g3.edge('LR_5', 'LR_7', label='S(b)')\n",
        "g3.edge('LR_5', 'LR_5', label='S(a)')\n",
        "g3.edge('LR_6', 'LR_6', label='S(b)')\n",
        "g3.edge('LR_6', 'LR_5', label='S(a)')\n",
        "g3.edge('LR_7', 'LR_8', label='S(b)')\n",
        "g3.edge('LR_7', 'LR_5', label='S(a)')\n",
        "g3.edge('LR_8', 'LR_6', label='S(b)')\n",
        "g3.edge('LR_8', 'LR_5', label='S(a)')\n",
        "\n",
        "g3.view()"
      ],
      "execution_count": null,
      "outputs": [
        {
          "output_type": "execute_result",
          "data": {
            "application/vnd.google.colaboratory.intrinsic+json": {
              "type": "string"
            },
            "text/plain": [
              "'G3.gv.pdf'"
            ]
          },
          "metadata": {
            "tags": []
          },
          "execution_count": 12
        }
      ]
    },
    {
      "cell_type": "markdown",
      "metadata": {
        "id": "rAUPmzvrVoPS"
      },
      "source": [
        "## 4. Cluster Graph"
      ]
    },
    {
      "cell_type": "code",
      "metadata": {
        "id": "WuDmB-dGa_v2",
        "colab": {
          "base_uri": "https://localhost:8080/",
          "height": 565
        },
        "outputId": "c59377a2-4a8a-44bd-9092-e7e87fd59d6f"
      },
      "source": [
        "SVG('/content/cluster.svg')"
      ],
      "execution_count": null,
      "outputs": [
        {
          "output_type": "execute_result",
          "data": {
            "text/plain": [
              "<IPython.core.display.SVG object>"
            ],
            "image/svg+xml": "<svg height=\"408pt\" viewBox=\"0.00 0.00 224.00 408.00\" width=\"224pt\" xmlns=\"http://www.w3.org/2000/svg\" xmlns:xlink=\"http://www.w3.org/1999/xlink\">\n<g class=\"graph\" id=\"graph0\" transform=\"scale(1 1) rotate(0) translate(4 404)\">\n<title>G</title>\n<polygon fill=\"white\" points=\"-4,4 -4,-404 220,-404 220,4 -4,4\" stroke=\"none\"/>\n<g class=\"cluster\" id=\"clust1\"><title>cluster_0</title>\n<polygon fill=\"lightgrey\" points=\"8,-65 8,-356 98,-356 98,-65 8,-65\" stroke=\"lightgrey\"/>\n<text font-family=\"Times New Roman,serif\" font-size=\"14.00\" text-anchor=\"middle\" x=\"53\" y=\"-340.8\">process #1</text>\n</g>\n<g class=\"cluster\" id=\"clust2\"><title>cluster_1</title>\n<polygon fill=\"none\" points=\"129,-65 129,-356 208,-356 208,-65 129,-65\" stroke=\"blue\"/>\n<text font-family=\"Times New Roman,serif\" font-size=\"14.00\" text-anchor=\"middle\" x=\"168.5\" y=\"-340.8\">process #2</text>\n</g>\n<!-- a0 -->\n<g class=\"node\" id=\"node1\"><title>a0</title>\n<ellipse cx=\"63\" cy=\"-307\" fill=\"white\" rx=\"27\" ry=\"18\" stroke=\"white\"/>\n<text font-family=\"Times New Roman,serif\" font-size=\"14.00\" text-anchor=\"middle\" x=\"63\" y=\"-303.3\">a0</text>\n</g>\n<!-- a1 -->\n<g class=\"node\" id=\"node2\"><title>a1</title>\n<ellipse cx=\"63\" cy=\"-235\" fill=\"white\" rx=\"27\" ry=\"18\" stroke=\"white\"/>\n<text font-family=\"Times New Roman,serif\" font-size=\"14.00\" text-anchor=\"middle\" x=\"63\" y=\"-231.3\">a1</text>\n</g>\n<!-- a0&#45;&gt;a1 -->\n<g class=\"edge\" id=\"edge1\"><title>a0-&gt;a1</title>\n<path d=\"M63,-288.697C63,-280.983 63,-271.712 63,-263.112\" fill=\"none\" stroke=\"black\"/>\n<polygon fill=\"black\" points=\"66.5001,-263.104 63,-253.104 59.5001,-263.104 66.5001,-263.104\" stroke=\"black\"/>\n</g>\n<!-- a2 -->\n<g class=\"node\" id=\"node3\"><title>a2</title>\n<ellipse cx=\"63\" cy=\"-163\" fill=\"white\" rx=\"27\" ry=\"18\" stroke=\"white\"/>\n<text font-family=\"Times New Roman,serif\" font-size=\"14.00\" text-anchor=\"middle\" x=\"63\" y=\"-159.3\">a2</text>\n</g>\n<!-- a1&#45;&gt;a2 -->\n<g class=\"edge\" id=\"edge2\"><title>a1-&gt;a2</title>\n<path d=\"M63,-216.697C63,-208.983 63,-199.712 63,-191.112\" fill=\"none\" stroke=\"black\"/>\n<polygon fill=\"black\" points=\"66.5001,-191.104 63,-181.104 59.5001,-191.104 66.5001,-191.104\" stroke=\"black\"/>\n</g>\n<!-- b3 -->\n<g class=\"node\" id=\"node8\"><title>b3</title>\n<ellipse cx=\"164\" cy=\"-91\" fill=\"lightgrey\" rx=\"27\" ry=\"18\" stroke=\"black\"/>\n<text font-family=\"Times New Roman,serif\" font-size=\"14.00\" text-anchor=\"middle\" x=\"164\" y=\"-87.3\">b3</text>\n</g>\n<!-- a1&#45;&gt;b3 -->\n<g class=\"edge\" id=\"edge9\"><title>a1-&gt;b3</title>\n<path d=\"M74.001,-218.533C91.6079,-193.779 126.245,-145.081 147.038,-115.847\" fill=\"none\" stroke=\"black\"/>\n<polygon fill=\"black\" points=\"150.069,-117.625 153.013,-107.448 144.364,-113.568 150.069,-117.625\" stroke=\"black\"/>\n</g>\n<!-- a3 -->\n<g class=\"node\" id=\"node4\"><title>a3</title>\n<ellipse cx=\"63\" cy=\"-91\" fill=\"white\" rx=\"27\" ry=\"18\" stroke=\"white\"/>\n<text font-family=\"Times New Roman,serif\" font-size=\"14.00\" text-anchor=\"middle\" x=\"63\" y=\"-87.3\">a3</text>\n</g>\n<!-- a2&#45;&gt;a3 -->\n<g class=\"edge\" id=\"edge3\"><title>a2-&gt;a3</title>\n<path d=\"M63,-144.697C63,-136.983 63,-127.712 63,-119.112\" fill=\"none\" stroke=\"black\"/>\n<polygon fill=\"black\" points=\"66.5001,-119.104 63,-109.104 59.5001,-119.104 66.5001,-119.104\" stroke=\"black\"/>\n</g>\n<!-- a3&#45;&gt;a0 -->\n<g class=\"edge\" id=\"edge11\"><title>a3-&gt;a0</title>\n<path d=\"M49.2496,-106.931C41.0392,-116.9 31.381,-130.753 27,-145 12.8916,-190.88 12.8916,-207.12 27,-253 30.2858,-263.685 36.5399,-274.149 42.9254,-282.919\" fill=\"none\" stroke=\"black\"/>\n<polygon fill=\"black\" points=\"40.354,-285.314 49.2496,-291.069 45.8844,-281.023 40.354,-285.314\" stroke=\"black\"/>\n</g>\n<!-- end -->\n<g class=\"node\" id=\"node10\"><title>end</title>\n<polygon fill=\"none\" points=\"131.5,-37 94.5,-37 94.5,-0 131.5,-0 131.5,-37\" stroke=\"black\"/>\n<polyline fill=\"none\" points=\"106.5,-37 94.5,-25 \" stroke=\"black\"/>\n<polyline fill=\"none\" points=\"94.5,-12 106.5,-0 \" stroke=\"black\"/>\n<polyline fill=\"none\" points=\"119.5,-0 131.5,-12 \" stroke=\"black\"/>\n<polyline fill=\"none\" points=\"131.5,-25 119.5,-37 \" stroke=\"black\"/>\n<text font-family=\"Times New Roman,serif\" font-size=\"14.00\" text-anchor=\"middle\" x=\"113\" y=\"-14.8\">end</text>\n</g>\n<!-- a3&#45;&gt;end -->\n<g class=\"edge\" id=\"edge12\"><title>a3-&gt;end</title>\n<path d=\"M74.0966,-74.3538C80.1492,-65.8197 87.7959,-55.0378 94.7049,-45.2961\" fill=\"none\" stroke=\"black\"/>\n<polygon fill=\"black\" points=\"97.5978,-47.2672 100.528,-37.0856 91.888,-43.2177 97.5978,-47.2672\" stroke=\"black\"/>\n</g>\n<!-- b0 -->\n<g class=\"node\" id=\"node5\"><title>b0</title>\n<ellipse cx=\"168\" cy=\"-307\" fill=\"lightgrey\" rx=\"27\" ry=\"18\" stroke=\"black\"/>\n<text font-family=\"Times New Roman,serif\" font-size=\"14.00\" text-anchor=\"middle\" x=\"168\" y=\"-303.3\">b0</text>\n</g>\n<!-- b1 -->\n<g class=\"node\" id=\"node6\"><title>b1</title>\n<ellipse cx=\"170\" cy=\"-235\" fill=\"lightgrey\" rx=\"27\" ry=\"18\" stroke=\"black\"/>\n<text font-family=\"Times New Roman,serif\" font-size=\"14.00\" text-anchor=\"middle\" x=\"170\" y=\"-231.3\">b1</text>\n</g>\n<!-- b0&#45;&gt;b1 -->\n<g class=\"edge\" id=\"edge4\"><title>b0-&gt;b1</title>\n<path d=\"M168.494,-288.697C168.715,-280.983 168.98,-271.712 169.225,-263.112\" fill=\"none\" stroke=\"black\"/>\n<polygon fill=\"black\" points=\"172.724,-263.2 169.511,-253.104 165.727,-263 172.724,-263.2\" stroke=\"black\"/>\n</g>\n<!-- b2 -->\n<g class=\"node\" id=\"node7\"><title>b2</title>\n<ellipse cx=\"173\" cy=\"-163\" fill=\"lightgrey\" rx=\"27\" ry=\"18\" stroke=\"black\"/>\n<text font-family=\"Times New Roman,serif\" font-size=\"14.00\" text-anchor=\"middle\" x=\"173\" y=\"-159.3\">b2</text>\n</g>\n<!-- b1&#45;&gt;b2 -->\n<g class=\"edge\" id=\"edge5\"><title>b1-&gt;b2</title>\n<path d=\"M170.742,-216.697C171.072,-208.983 171.469,-199.712 171.838,-191.112\" fill=\"none\" stroke=\"black\"/>\n<polygon fill=\"black\" points=\"175.335,-191.245 172.267,-181.104 168.342,-190.945 175.335,-191.245\" stroke=\"black\"/>\n</g>\n<!-- b2&#45;&gt;a3 -->\n<g class=\"edge\" id=\"edge10\"><title>b2-&gt;a3</title>\n<path d=\"M153.839,-149.807C136.331,-138.665 110.241,-122.062 90.5068,-109.504\" fill=\"none\" stroke=\"black\"/>\n<polygon fill=\"black\" points=\"92.2567,-106.469 81.941,-104.053 88.4985,-112.375 92.2567,-106.469\" stroke=\"black\"/>\n</g>\n<!-- b2&#45;&gt;b3 -->\n<g class=\"edge\" id=\"edge6\"><title>b2-&gt;b3</title>\n<path d=\"M170.821,-145.055C169.83,-137.346 168.632,-128.027 167.518,-119.364\" fill=\"none\" stroke=\"black\"/>\n<polygon fill=\"black\" points=\"170.968,-118.747 166.221,-109.275 164.025,-119.64 170.968,-118.747\" stroke=\"black\"/>\n</g>\n<!-- b3&#45;&gt;end -->\n<g class=\"edge\" id=\"edge13\"><title>b3-&gt;end</title>\n<path d=\"M152.681,-74.3538C146.508,-65.8197 138.708,-55.0378 131.661,-45.2961\" fill=\"none\" stroke=\"black\"/>\n<polygon fill=\"black\" points=\"134.419,-43.1364 125.721,-37.0856 128.747,-47.2393 134.419,-43.1364\" stroke=\"black\"/>\n</g>\n<!-- start -->\n<g class=\"node\" id=\"node9\"><title>start</title>\n<polygon fill=\"none\" points=\"115,-400 77.1282,-382 115,-364 152.872,-382 115,-400\" stroke=\"black\"/>\n<polyline fill=\"none\" points=\"87.9663,-387.151 87.9663,-376.849 \" stroke=\"black\"/>\n<polyline fill=\"none\" points=\"104.162,-369.151 125.838,-369.151 \" stroke=\"black\"/>\n<polyline fill=\"none\" points=\"142.034,-376.849 142.034,-387.151 \" stroke=\"black\"/>\n<polyline fill=\"none\" points=\"125.838,-394.849 104.162,-394.849 \" stroke=\"black\"/>\n<text font-family=\"Times New Roman,serif\" font-size=\"14.00\" text-anchor=\"middle\" x=\"115\" y=\"-378.3\">start</text>\n</g>\n<!-- start&#45;&gt;a0 -->\n<g class=\"edge\" id=\"edge7\"><title>start-&gt;a0</title>\n<path d=\"M105.942,-368.284C98.8241,-358.292 88.7051,-344.086 80.0777,-331.974\" fill=\"none\" stroke=\"black\"/>\n<polygon fill=\"black\" points=\"82.776,-329.73 74.1234,-323.616 77.0746,-333.791 82.776,-329.73\" stroke=\"black\"/>\n</g>\n<!-- start&#45;&gt;b0 -->\n<g class=\"edge\" id=\"edge8\"><title>start-&gt;b0</title>\n<path d=\"M124.232,-368.284C131.487,-358.292 141.801,-344.086 150.594,-331.974\" fill=\"none\" stroke=\"black\"/>\n<polygon fill=\"black\" points=\"153.62,-333.764 156.663,-323.616 147.955,-329.651 153.62,-333.764\" stroke=\"black\"/>\n</g>\n</g>\n</svg>"
          },
          "metadata": {
            "tags": []
          },
          "execution_count": 8
        }
      ]
    },
    {
      "cell_type": "code",
      "metadata": {
        "id": "INj5qtfVVoPV",
        "colab": {
          "base_uri": "https://localhost:8080/",
          "height": 35
        },
        "outputId": "46e5b348-674c-4668-9481-3ae32c85fd4d"
      },
      "source": [
        "g4 = Digraph('G', filename='G4.gv', engine='dot')\n",
        "\n",
        "# NOTE: the subgraph name needs to begin with 'cluster' (all lowercase) so that Graphviz recognizes it as a special cluster subgraph\n",
        "\n",
        "with g4.subgraph(name='cluster_0') as c:\n",
        "    c.attr(style='filled', color='lightgrey')\n",
        "    c.node_attr.update(style='filled', color='white')\n",
        "    c.edges([('a0', 'a1'), ('a1', 'a2'), ('a2', 'a3')])\n",
        "    c.attr(label='process #1')\n",
        "\n",
        "with g4.subgraph(name='cluster_1') as c:\n",
        "    c.attr(color='blue')\n",
        "    c.node_attr['style'] = 'filled'\n",
        "    c.edges([('b0', 'b1'), ('b1', 'b2'), ('b2', 'b3')])\n",
        "    c.attr(label='process #2')\n",
        "\n",
        "g4.edge('start', 'a0')\n",
        "g4.edge('start', 'b0')\n",
        "g4.edge('a1', 'b3')\n",
        "g4.edge('b2', 'a3')\n",
        "g4.edge('a3', 'a0')\n",
        "g4.edge('a3', 'end')\n",
        "g4.edge('b3', 'end')\n",
        "\n",
        "g4.node('start', shape='Mdiamond')\n",
        "g4.node('end', shape='Msquare')\n",
        "\n",
        "g4.view()"
      ],
      "execution_count": null,
      "outputs": [
        {
          "output_type": "execute_result",
          "data": {
            "application/vnd.google.colaboratory.intrinsic+json": {
              "type": "string"
            },
            "text/plain": [
              "'G4.gv.pdf'"
            ]
          },
          "metadata": {
            "tags": []
          },
          "execution_count": 14
        }
      ]
    },
    {
      "cell_type": "markdown",
      "metadata": {
        "id": "HcZXiY_LVoPa"
      },
      "source": [
        "## 5. Draw the below Graph"
      ]
    },
    {
      "cell_type": "code",
      "metadata": {
        "id": "biPEq7RdbFON",
        "colab": {
          "base_uri": "https://localhost:8080/",
          "height": 183
        },
        "outputId": "ab655493-a66b-4e83-9feb-83a36cb150a2"
      },
      "source": [
        "SVG('/content/G6.svg')"
      ],
      "execution_count": null,
      "outputs": [
        {
          "output_type": "execute_result",
          "data": {
            "text/plain": [
              "<IPython.core.display.SVG object>"
            ],
            "image/svg+xml": "<svg height=\"122pt\" viewBox=\"0.00 0.00 94.00 122.00\" width=\"94pt\" xmlns=\"http://www.w3.org/2000/svg\" xmlns:xlink=\"http://www.w3.org/1999/xlink\">\n<g class=\"graph\" id=\"graph0\" transform=\"scale(1 1) rotate(0) translate(4 118)\">\n<title>G</title>\n<defs>\n<linearGradient gradientUnits=\"userSpaceOnUse\" id=\"l_0\" x1=\"-4\" x2=\"90\" y1=\"-57\" y2=\"-57\">\n<stop offset=\"0\" style=\"stop-color:purple;stop-opacity:1.;\"/>\n<stop offset=\"1\" style=\"stop-color:pink;stop-opacity:1.;\"/>\n</linearGradient>\n</defs>\n<polygon fill=\"url(#l_0)\" points=\"-4,4 -4,-118 90,-118 90,4 -4,4\" stroke=\"none\"/>\n<text fill=\"white\" font-family=\"Times New Roman,serif\" font-size=\"14.00\" text-anchor=\"middle\" x=\"43\" y=\"-7.8\">agraph</text>\n<g class=\"cluster\" id=\"clust1\"><title>cluster1</title>\n<defs>\n<linearGradient gradientUnits=\"userSpaceOnUse\" id=\"l_1\" x1=\"43\" x2=\"43\" y1=\"-106\" y2=\"-31\">\n<stop offset=\"0\" style=\"stop-color:blue;stop-opacity:1.;\"/>\n<stop offset=\"1\" style=\"stop-color:cyan;stop-opacity:1.;\"/>\n</linearGradient>\n</defs>\n<polygon fill=\"url(#l_1)\" points=\"8,-31 8,-106 78,-106 78,-31 8,-31\" stroke=\"black\"/>\n<text fill=\"white\" font-family=\"Times New Roman,serif\" font-size=\"14.00\" text-anchor=\"middle\" x=\"43\" y=\"-90.8\">acluster</text>\n</g>\n<!-- anode -->\n<g class=\"node\" id=\"node1\"><title>anode</title>\n<defs>\n<linearGradient gradientUnits=\"userSpaceOnUse\" id=\"l_2\" x1=\"43\" x2=\"43\" y1=\"-39\" y2=\"-75\">\n<stop offset=\"0\" style=\"stop-color:red;stop-opacity:1.;\"/>\n<stop offset=\"1\" style=\"stop-color:yellow;stop-opacity:1.;\"/>\n</linearGradient>\n</defs>\n<polygon fill=\"url(#l_2)\" points=\"70,-75 16,-75 16,-39 70,-39 70,-75\" stroke=\"black\"/>\n<text font-family=\"Times New Roman,serif\" font-size=\"14.00\" text-anchor=\"middle\" x=\"43\" y=\"-53.3\">anode</text>\n</g>\n</g>\n</svg>"
          },
          "metadata": {
            "tags": []
          },
          "execution_count": 11
        }
      ]
    },
    {
      "cell_type": "code",
      "metadata": {
        "id": "rS9iP2sEVoPc",
        "colab": {
          "base_uri": "https://localhost:8080/",
          "height": 35
        },
        "outputId": "6fa41344-d95b-4fa2-8f91-2214a71553c2"
      },
      "source": [
        "g5 = Graph('G5', filename='G5.gv', engine='dot')\n",
        "g5.attr(bgcolor='purple:pink', label='agraph', fontcolor='white')\n",
        "\n",
        "with g5.subgraph(name='cluster1') as c:\n",
        "    c.attr(fillcolor='blue:cyan', label='acluster', fontcolor='white', style='filled', gradientangle='100')\n",
        "    c.attr('node', shape='box', fillcolor='red:yellow', style='filled', gradientangle='270')\n",
        "    c.node('anode')\n",
        "\n",
        "g5.view()"
      ],
      "execution_count": null,
      "outputs": [
        {
          "output_type": "execute_result",
          "data": {
            "application/vnd.google.colaboratory.intrinsic+json": {
              "type": "string"
            },
            "text/plain": [
              "'G5.gv.pdf'"
            ]
          },
          "metadata": {
            "tags": []
          },
          "execution_count": 16
        }
      ]
    },
    {
      "cell_type": "markdown",
      "metadata": {
        "id": "tnUbPoY6VoPh"
      },
      "source": [
        "## 6. ER Diagram"
      ]
    },
    {
      "cell_type": "code",
      "metadata": {
        "id": "ko6JZkq5bljn",
        "colab": {
          "base_uri": "https://localhost:8080/",
          "height": 560
        },
        "outputId": "9f59315a-8437-4861-909a-1484c9d8055e"
      },
      "source": [
        "from IPython.display import Image\n",
        "Image('/content/ER.jpg')"
      ],
      "execution_count": null,
      "outputs": [
        {
          "output_type": "execute_result",
          "data": {
            "image/jpeg": "[encoded data removed]",
            "text/plain": [
              "<IPython.core.display.Image object>"
            ]
          },
          "metadata": {
            "tags": []
          },
          "execution_count": 12
        }
      ]
    },
    {
      "cell_type": "code",
      "metadata": {
        "id": "kzZgcpS6VoPj",
        "colab": {
          "base_uri": "https://localhost:8080/",
          "height": 35
        },
        "outputId": "32ac1b1d-a553-4dcf-b4f7-62b3068c8fe2"
      },
      "source": [
        "g6 = Graph('ER', filename='G6.gv', engine='neato')\n",
        "\n",
        "g6.attr('node', shape='box')\n",
        "g6.node('course')\n",
        "g6.node('institute')\n",
        "g6.node('student')\n",
        "\n",
        "g6.attr('node', shape='ellipse')\n",
        "g6.node('name0', label='name')\n",
        "g6.node('name1', label='name')\n",
        "g6.node('name2', label='name')\n",
        "g6.node('code')\n",
        "g6.node('grade')\n",
        "g6.node('number')\n",
        "\n",
        "g6.attr('node', shape='diamond', style='filled', color='lightgrey')\n",
        "g6.node('C-I')\n",
        "g6.node('S-C')\n",
        "g6.node('S-I')\n",
        "\n",
        "g6.edge('name0', 'course')\n",
        "g6.edge('code', 'course')\n",
        "g6.edge('course', 'C-I', label='n', len='1.00')\n",
        "g6.edge('C-I', 'institute', label='1', len='1.00')\n",
        "g6.edge('institute', 'name1')\n",
        "g6.edge('institute', 'S-I', label='1', len='1.00')\n",
        "g6.edge('S-I', 'student', label='n', len='1.00')\n",
        "g6.edge('student', 'grade')\n",
        "g6.edge('student', 'name2')\n",
        "g6.edge('student', 'number')\n",
        "g6.edge('student', 'S-C', label='m', len='1.00')\n",
        "g6.edge('S-C', 'course', label='n', len='1.00')\n",
        "\n",
        "g6.attr(label=r'\\n\\nEntity Relation Diagram\\ndrawn by NEATO')\n",
        "g6.attr(fontsize='20')\n",
        "\n",
        "g6.view()"
      ],
      "execution_count": null,
      "outputs": [
        {
          "output_type": "execute_result",
          "data": {
            "application/vnd.google.colaboratory.intrinsic+json": {
              "type": "string"
            },
            "text/plain": [
              "'G6.gv.pdf'"
            ]
          },
          "metadata": {
            "tags": []
          },
          "execution_count": 30
        }
      ]
    },
    {
      "cell_type": "markdown",
      "metadata": {
        "id": "qyZVyPXjVoPo"
      },
      "source": [
        "## 7. Simple Structures"
      ]
    },
    {
      "cell_type": "code",
      "metadata": {
        "id": "mhtp0lZHbuWu",
        "colab": {
          "base_uri": "https://localhost:8080/",
          "height": 222
        },
        "outputId": "671fdcb2-9ff2-49f2-adca-7f113eae8b49"
      },
      "source": [
        "SVG('/content/simple_struct.svg')"
      ],
      "execution_count": null,
      "outputs": [
        {
          "output_type": "execute_result",
          "data": {
            "text/plain": [
              "<IPython.core.display.SVG object>"
            ],
            "image/svg+xml": "<svg height=\"151pt\" viewBox=\"0.00 0.00 266.00 151.00\" width=\"266pt\" xmlns=\"http://www.w3.org/2000/svg\" xmlns:xlink=\"http://www.w3.org/1999/xlink\">\n<g class=\"graph\" id=\"graph0\" transform=\"scale(1 1) rotate(0) translate(4 147)\">\n<title>structs</title>\n<polygon fill=\"white\" points=\"-4,4 -4,-147 262,-147 262,4 -4,4\" stroke=\"none\"/>\n<!-- struct1 -->\n<g class=\"node\" id=\"node1\"><title>struct1</title>\n<polygon fill=\"none\" points=\"13,-106.5 13,-142.5 142,-142.5 142,-106.5 13,-106.5\" stroke=\"black\"/>\n<text font-family=\"Times New Roman,serif\" font-size=\"14.00\" text-anchor=\"middle\" x=\"30\" y=\"-120.8\">left</text>\n<polyline fill=\"none\" points=\"47,-106.5 47,-142.5 \" stroke=\"black\"/>\n<text font-family=\"Times New Roman,serif\" font-size=\"14.00\" text-anchor=\"middle\" x=\"74\" y=\"-120.8\">middle</text>\n<polyline fill=\"none\" points=\"101,-106.5 101,-142.5 \" stroke=\"black\"/>\n<text font-family=\"Times New Roman,serif\" font-size=\"14.00\" text-anchor=\"middle\" x=\"121.5\" y=\"-120.8\">right</text>\n</g>\n<!-- struct2 -->\n<g class=\"node\" id=\"node2\"><title>struct2</title>\n<polygon fill=\"none\" points=\"0,-17 0,-53 75,-53 75,-17 0,-17\" stroke=\"black\"/>\n<text font-family=\"Times New Roman,serif\" font-size=\"14.00\" text-anchor=\"middle\" x=\"18.5\" y=\"-31.3\">one</text>\n<polyline fill=\"none\" points=\"37,-17 37,-53 \" stroke=\"black\"/>\n<text font-family=\"Times New Roman,serif\" font-size=\"14.00\" text-anchor=\"middle\" x=\"56\" y=\"-31.3\">two</text>\n</g>\n<!-- struct1&#45;&gt;struct2 -->\n<g class=\"edge\" id=\"edge1\"><title>struct1:f1-&gt;struct2:f0</title>\n<path d=\"M73.5,-106C73.5,-76.3021 30.6353,-84.7306 20.5889,-63.9686\" fill=\"none\" stroke=\"black\"/>\n<polygon fill=\"black\" points=\"23.9766,-63.0696 18.5,-54 17.1254,-64.5053 23.9766,-63.0696\" stroke=\"black\"/>\n</g>\n<!-- struct3 -->\n<g class=\"node\" id=\"node3\"><title>struct3</title>\n<polygon fill=\"none\" points=\"93,-0.5 93,-69.5 258,-69.5 258,-0.5 93,-0.5\" stroke=\"black\"/>\n<text font-family=\"Times New Roman,serif\" font-size=\"14.00\" text-anchor=\"middle\" x=\"117.5\" y=\"-38.8\">hello</text>\n<text font-family=\"Times New Roman,serif\" font-size=\"14.00\" text-anchor=\"middle\" x=\"117.5\" y=\"-23.8\">world</text>\n<polyline fill=\"none\" points=\"142,-0.5 142,-69.5 \" stroke=\"black\"/>\n<text font-family=\"Times New Roman,serif\" font-size=\"14.00\" text-anchor=\"middle\" x=\"177\" y=\"-54.3\">b</text>\n<polyline fill=\"none\" points=\"142,-46.5 212,-46.5 \" stroke=\"black\"/>\n<text font-family=\"Times New Roman,serif\" font-size=\"14.00\" text-anchor=\"middle\" x=\"153.5\" y=\"-31.3\">c</text>\n<polyline fill=\"none\" points=\"165,-23.5 165,-46.5 \" stroke=\"black\"/>\n<text font-family=\"Times New Roman,serif\" font-size=\"14.00\" text-anchor=\"middle\" x=\"177\" y=\"-31.3\">d</text>\n<polyline fill=\"none\" points=\"189,-23.5 189,-46.5 \" stroke=\"black\"/>\n<text font-family=\"Times New Roman,serif\" font-size=\"14.00\" text-anchor=\"middle\" x=\"200.5\" y=\"-31.3\">e</text>\n<polyline fill=\"none\" points=\"142,-23.5 212,-23.5 \" stroke=\"black\"/>\n<text font-family=\"Times New Roman,serif\" font-size=\"14.00\" text-anchor=\"middle\" x=\"177\" y=\"-8.3\">f</text>\n<polyline fill=\"none\" points=\"212,-0.5 212,-69.5 \" stroke=\"black\"/>\n<text font-family=\"Times New Roman,serif\" font-size=\"14.00\" text-anchor=\"middle\" x=\"223.5\" y=\"-31.3\">g</text>\n<polyline fill=\"none\" points=\"235,-0.5 235,-69.5 \" stroke=\"black\"/>\n<text font-family=\"Times New Roman,serif\" font-size=\"14.00\" text-anchor=\"middle\" x=\"246.5\" y=\"-31.3\">h</text>\n</g>\n<!-- struct1&#45;&gt;struct3 -->\n<g class=\"edge\" id=\"edge2\"><title>struct1:f2-&gt;struct3:here</title>\n<path d=\"M121.5,-106C121.5,-93.9252 141.72,-70.7257 157.86,-54.1308\" fill=\"none\" stroke=\"black\"/>\n<polygon fill=\"black\" points=\"160.784,-56.1535 165.349,-46.5925 155.818,-51.22 160.784,-56.1535\" stroke=\"black\"/>\n</g>\n</g>\n</svg>"
          },
          "metadata": {
            "tags": []
          },
          "execution_count": 13
        }
      ]
    },
    {
      "cell_type": "code",
      "metadata": {
        "id": "hGi6zquKgYJ5",
        "colab": {
          "base_uri": "https://localhost:8080/",
          "height": 35
        },
        "outputId": "8dbc3d60-f1f7-4018-dea4-e66867b87018"
      },
      "source": [
        "new = Digraph('structs', filename='new.gv', node_attr={'shape': 'record'})\n",
        "\n",
        "new.node('first', '<f1> X | <f2> data | <f3> right ')\n",
        "new.node('second', '<f1> left | <f2> data | <f3> X')\n",
        "new.node('third', '<f1> head')\n",
        "\n",
        "new.edges([('first:f3', 'second:f1'), ('third:f1', 'first:f2')])\n",
        "new.view()"
      ],
      "execution_count": null,
      "outputs": [
        {
          "output_type": "execute_result",
          "data": {
            "application/vnd.google.colaboratory.intrinsic+json": {
              "type": "string"
            },
            "text/plain": [
              "'new.gv.pdf'"
            ]
          },
          "metadata": {
            "tags": []
          },
          "execution_count": 31
        }
      ]
    },
    {
      "cell_type": "code",
      "metadata": {
        "id": "nwW4qy0bVoPq",
        "colab": {
          "base_uri": "https://localhost:8080/",
          "height": 35
        },
        "outputId": "4efcbb3e-5828-4e1f-df6c-a2cbdade461e"
      },
      "source": [
        "g7 = Digraph('structs', filename='G7.gv', node_attr={'shape': 'record'})\n",
        "\n",
        "g7.node('struct1', '<f0> left|<f1> middle|<f2> right')\n",
        "g7.node('struct2', '<f0> one|<f1> two')\n",
        "g7.node('struct3', r'hello\\nworld |{ b |{ c |<here> d | e}| f}| g | h')\n",
        "\n",
        "g7.edges([('struct1:f1', 'struct2:f0'), ('struct1:f2', 'struct3:here')])\n",
        "\n",
        "g7.view()"
      ],
      "execution_count": null,
      "outputs": [
        {
          "output_type": "execute_result",
          "data": {
            "application/vnd.google.colaboratory.intrinsic+json": {
              "type": "string"
            },
            "text/plain": [
              "'G7.gv.pdf'"
            ]
          },
          "metadata": {
            "tags": []
          },
          "execution_count": 37
        }
      ]
    },
    {
      "cell_type": "markdown",
      "metadata": {
        "id": "rghB_vB9VoPv"
      },
      "source": [
        "## 8. BTree"
      ]
    },
    {
      "cell_type": "code",
      "metadata": {
        "id": "TgX4MFkob809",
        "colab": {
          "base_uri": "https://localhost:8080/",
          "height": 303
        },
        "outputId": "3ea4f87c-25a7-4cde-eea5-e07f27da516a"
      },
      "source": [
        "SVG('/content/btree.svg')"
      ],
      "execution_count": null,
      "outputs": [
        {
          "output_type": "execute_result",
          "data": {
            "text/plain": [
              "<IPython.core.display.SVG object>"
            ],
            "image/svg+xml": "<svg height=\"212pt\" viewBox=\"0.00 0.00 368.00 212.00\" width=\"368pt\" xmlns=\"http://www.w3.org/2000/svg\" xmlns:xlink=\"http://www.w3.org/1999/xlink\">\n<g class=\"graph\" id=\"graph0\" transform=\"scale(1 1) rotate(0) translate(4 208)\">\n<title>g</title>\n<polygon fill=\"white\" points=\"-4,4 -4,-208 364,-208 364,4 -4,4\" stroke=\"none\"/>\n<!-- node0 -->\n<g class=\"node\" id=\"node1\"><title>node0</title>\n<polygon fill=\"none\" points=\"167.5,-180.5 167.5,-203.5 234.5,-203.5 234.5,-180.5 167.5,-180.5\" stroke=\"black\"/>\n<text font-family=\"Times New Roman,serif\" font-size=\"14.00\" text-anchor=\"middle\" x=\"177.5\" y=\"-188.3\"> </text>\n<polyline fill=\"none\" points=\"187.5,-180.5 187.5,-203.5 \" stroke=\"black\"/>\n<text font-family=\"Times New Roman,serif\" font-size=\"14.00\" text-anchor=\"middle\" x=\"201\" y=\"-188.3\">G</text>\n<polyline fill=\"none\" points=\"214.5,-180.5 214.5,-203.5 \" stroke=\"black\"/>\n<text font-family=\"Times New Roman,serif\" font-size=\"14.00\" text-anchor=\"middle\" x=\"224.5\" y=\"-188.3\"> </text>\n</g>\n<!-- node1 -->\n<g class=\"node\" id=\"node2\"><title>node1</title>\n<polygon fill=\"none\" points=\"103.5,-120.5 103.5,-143.5 168.5,-143.5 168.5,-120.5 103.5,-120.5\" stroke=\"black\"/>\n<text font-family=\"Times New Roman,serif\" font-size=\"14.00\" text-anchor=\"middle\" x=\"113.5\" y=\"-128.3\"> </text>\n<polyline fill=\"none\" points=\"123.5,-120.5 123.5,-143.5 \" stroke=\"black\"/>\n<text font-family=\"Times New Roman,serif\" font-size=\"14.00\" text-anchor=\"middle\" x=\"136\" y=\"-128.3\">E</text>\n<polyline fill=\"none\" points=\"148.5,-120.5 148.5,-143.5 \" stroke=\"black\"/>\n<text font-family=\"Times New Roman,serif\" font-size=\"14.00\" text-anchor=\"middle\" x=\"158.5\" y=\"-128.3\"> </text>\n</g>\n<!-- node0&#45;&gt;node1 -->\n<g class=\"edge\" id=\"edge2\"><title>node0:f0-&gt;node1:f1</title>\n<path d=\"M177,-180C177,-159.918 148.883,-165.039 139.217,-153.62\" fill=\"none\" stroke=\"black\"/>\n<polygon fill=\"black\" points=\"142.491,-152.374 136,-144 135.852,-154.594 142.491,-152.374\" stroke=\"black\"/>\n</g>\n<!-- node4 -->\n<g class=\"node\" id=\"node5\"><title>node4</title>\n<polygon fill=\"none\" points=\"233,-120.5 233,-143.5 299,-143.5 299,-120.5 233,-120.5\" stroke=\"black\"/>\n<text font-family=\"Times New Roman,serif\" font-size=\"14.00\" text-anchor=\"middle\" x=\"243\" y=\"-128.3\"> </text>\n<polyline fill=\"none\" points=\"253,-120.5 253,-143.5 \" stroke=\"black\"/>\n<text font-family=\"Times New Roman,serif\" font-size=\"14.00\" text-anchor=\"middle\" x=\"266\" y=\"-128.3\">R</text>\n<polyline fill=\"none\" points=\"279,-120.5 279,-143.5 \" stroke=\"black\"/>\n<text font-family=\"Times New Roman,serif\" font-size=\"14.00\" text-anchor=\"middle\" x=\"289\" y=\"-128.3\"> </text>\n</g>\n<!-- node0&#45;&gt;node4 -->\n<g class=\"edge\" id=\"edge1\"><title>node0:f2-&gt;node4:f1</title>\n<path d=\"M225,-180C225,-159.918 253.117,-165.039 262.783,-153.62\" fill=\"none\" stroke=\"black\"/>\n<polygon fill=\"black\" points=\"266.148,-154.594 266,-144 259.509,-152.374 266.148,-154.594\" stroke=\"black\"/>\n</g>\n<!-- node2 -->\n<g class=\"node\" id=\"node3\"><title>node2</title>\n<polygon fill=\"none\" points=\"42,-60.5 42,-83.5 108,-83.5 108,-60.5 42,-60.5\" stroke=\"black\"/>\n<text font-family=\"Times New Roman,serif\" font-size=\"14.00\" text-anchor=\"middle\" x=\"52\" y=\"-68.3\"> </text>\n<polyline fill=\"none\" points=\"62,-60.5 62,-83.5 \" stroke=\"black\"/>\n<text font-family=\"Times New Roman,serif\" font-size=\"14.00\" text-anchor=\"middle\" x=\"75\" y=\"-68.3\">B</text>\n<polyline fill=\"none\" points=\"88,-60.5 88,-83.5 \" stroke=\"black\"/>\n<text font-family=\"Times New Roman,serif\" font-size=\"14.00\" text-anchor=\"middle\" x=\"98\" y=\"-68.3\"> </text>\n</g>\n<!-- node1&#45;&gt;node2 -->\n<g class=\"edge\" id=\"edge3\"><title>node1:f0-&gt;node2:f1</title>\n<path d=\"M113,-120C113,-100.916 87.4293,-104.572 78.2399,-93.6598\" fill=\"none\" stroke=\"black\"/>\n<polygon fill=\"black\" points=\"81.4983,-92.368 75,-84 74.8616,-94.5939 81.4983,-92.368\" stroke=\"black\"/>\n</g>\n<!-- node3 -->\n<g class=\"node\" id=\"node4\"><title>node3</title>\n<polygon fill=\"none\" points=\"126.5,-60.5 126.5,-83.5 191.5,-83.5 191.5,-60.5 126.5,-60.5\" stroke=\"black\"/>\n<text font-family=\"Times New Roman,serif\" font-size=\"14.00\" text-anchor=\"middle\" x=\"136.5\" y=\"-68.3\"> </text>\n<polyline fill=\"none\" points=\"146.5,-60.5 146.5,-83.5 \" stroke=\"black\"/>\n<text font-family=\"Times New Roman,serif\" font-size=\"14.00\" text-anchor=\"middle\" x=\"159\" y=\"-68.3\">F</text>\n<polyline fill=\"none\" points=\"171.5,-60.5 171.5,-83.5 \" stroke=\"black\"/>\n<text font-family=\"Times New Roman,serif\" font-size=\"14.00\" text-anchor=\"middle\" x=\"181.5\" y=\"-68.3\"> </text>\n</g>\n<!-- node1&#45;&gt;node3 -->\n<g class=\"edge\" id=\"edge4\"><title>node1:f2-&gt;node3:f1</title>\n<path d=\"M159,-120C159,-108 159,-102.75 159,-94.125\" fill=\"none\" stroke=\"black\"/>\n<polygon fill=\"black\" points=\"162.5,-94 159,-84 155.5,-94 162.5,-94\" stroke=\"black\"/>\n</g>\n<!-- node7 -->\n<g class=\"node\" id=\"node8\"><title>node7</title>\n<polygon fill=\"none\" points=\"0,-0.5 0,-23.5 66,-23.5 66,-0.5 0,-0.5\" stroke=\"black\"/>\n<text font-family=\"Times New Roman,serif\" font-size=\"14.00\" text-anchor=\"middle\" x=\"10\" y=\"-8.3\"> </text>\n<polyline fill=\"none\" points=\"20,-0.5 20,-23.5 \" stroke=\"black\"/>\n<text font-family=\"Times New Roman,serif\" font-size=\"14.00\" text-anchor=\"middle\" x=\"33\" y=\"-8.3\">A</text>\n<polyline fill=\"none\" points=\"46,-0.5 46,-23.5 \" stroke=\"black\"/>\n<text font-family=\"Times New Roman,serif\" font-size=\"14.00\" text-anchor=\"middle\" x=\"56\" y=\"-8.3\"> </text>\n</g>\n<!-- node2&#45;&gt;node7 -->\n<g class=\"edge\" id=\"edge6\"><title>node2:f0-&gt;node7:f1</title>\n<path d=\"M52,-60C52,-46.0072 40.6341,-42.9467 35.4839,-33.9075\" fill=\"none\" stroke=\"black\"/>\n<polygon fill=\"black\" points=\"38.8268,-32.8486 33,-24 32.037,-34.551 38.8268,-32.8486\" stroke=\"black\"/>\n</g>\n<!-- node8 -->\n<g class=\"node\" id=\"node9\"><title>node8</title>\n<polygon fill=\"none\" points=\"84,-0.5 84,-23.5 150,-23.5 150,-0.5 84,-0.5\" stroke=\"black\"/>\n<text font-family=\"Times New Roman,serif\" font-size=\"14.00\" text-anchor=\"middle\" x=\"94\" y=\"-8.3\"> </text>\n<polyline fill=\"none\" points=\"104,-0.5 104,-23.5 \" stroke=\"black\"/>\n<text font-family=\"Times New Roman,serif\" font-size=\"14.00\" text-anchor=\"middle\" x=\"117\" y=\"-8.3\">C</text>\n<polyline fill=\"none\" points=\"130,-0.5 130,-23.5 \" stroke=\"black\"/>\n<text font-family=\"Times New Roman,serif\" font-size=\"14.00\" text-anchor=\"middle\" x=\"140\" y=\"-8.3\"> </text>\n</g>\n<!-- node2&#45;&gt;node8 -->\n<g class=\"edge\" id=\"edge5\"><title>node2:f2-&gt;node8:f1</title>\n<path d=\"M98,-60C98,-46.0072 109.366,-42.9467 114.516,-33.9075\" fill=\"none\" stroke=\"black\"/>\n<polygon fill=\"black\" points=\"117.963,-34.551 117,-24 111.173,-32.8486 117.963,-34.551\" stroke=\"black\"/>\n</g>\n<!-- node5 -->\n<g class=\"node\" id=\"node6\"><title>node5</title>\n<polygon fill=\"none\" points=\"210,-60.5 210,-83.5 276,-83.5 276,-60.5 210,-60.5\" stroke=\"black\"/>\n<text font-family=\"Times New Roman,serif\" font-size=\"14.00\" text-anchor=\"middle\" x=\"220\" y=\"-68.3\"> </text>\n<polyline fill=\"none\" points=\"230,-60.5 230,-83.5 \" stroke=\"black\"/>\n<text font-family=\"Times New Roman,serif\" font-size=\"14.00\" text-anchor=\"middle\" x=\"243\" y=\"-68.3\">H</text>\n<polyline fill=\"none\" points=\"256,-60.5 256,-83.5 \" stroke=\"black\"/>\n<text font-family=\"Times New Roman,serif\" font-size=\"14.00\" text-anchor=\"middle\" x=\"266\" y=\"-68.3\"> </text>\n</g>\n<!-- node4&#45;&gt;node5 -->\n<g class=\"edge\" id=\"edge8\"><title>node4:f0-&gt;node5:f1</title>\n<path d=\"M243,-120C243,-108 243,-102.75 243,-94.125\" fill=\"none\" stroke=\"black\"/>\n<polygon fill=\"black\" points=\"246.5,-94 243,-84 239.5,-94 246.5,-94\" stroke=\"black\"/>\n</g>\n<!-- node6 -->\n<g class=\"node\" id=\"node7\"><title>node6</title>\n<polygon fill=\"none\" points=\"294,-60.5 294,-83.5 360,-83.5 360,-60.5 294,-60.5\" stroke=\"black\"/>\n<text font-family=\"Times New Roman,serif\" font-size=\"14.00\" text-anchor=\"middle\" x=\"304\" y=\"-68.3\"> </text>\n<polyline fill=\"none\" points=\"314,-60.5 314,-83.5 \" stroke=\"black\"/>\n<text font-family=\"Times New Roman,serif\" font-size=\"14.00\" text-anchor=\"middle\" x=\"327\" y=\"-68.3\">Y</text>\n<polyline fill=\"none\" points=\"340,-60.5 340,-83.5 \" stroke=\"black\"/>\n<text font-family=\"Times New Roman,serif\" font-size=\"14.00\" text-anchor=\"middle\" x=\"350\" y=\"-68.3\"> </text>\n</g>\n<!-- node4&#45;&gt;node6 -->\n<g class=\"edge\" id=\"edge7\"><title>node4:f2-&gt;node6:f1</title>\n<path d=\"M289,-120C289,-100.916 314.571,-104.572 323.76,-93.6598\" fill=\"none\" stroke=\"black\"/>\n<polygon fill=\"black\" points=\"327.138,-94.5939 327,-84 320.502,-92.368 327.138,-94.5939\" stroke=\"black\"/>\n</g>\n</g>\n</svg>"
          },
          "metadata": {
            "tags": []
          },
          "execution_count": 14
        }
      ]
    },
    {
      "cell_type": "code",
      "metadata": {
        "id": "v_gvDRJyVoPx",
        "colab": {
          "base_uri": "https://localhost:8080/",
          "height": 35
        },
        "outputId": "ebe0ad63-85d3-4b09-b117-c1e11933433b"
      },
      "source": [
        "from graphviz import nohtml\n",
        "\n",
        "g8 = Digraph('g', filename='G8.gv', node_attr={'shape': 'record', 'height': '.1'})\n",
        "\n",
        "g8.node('node0', nohtml('<f0> |<f1> G|<f2>'))\n",
        "g8.node('node1', nohtml('<f0> |<f1> E|<f2>'))\n",
        "g8.node('node2', nohtml('<f0> |<f1> B|<f2>'))\n",
        "g8.node('node3', nohtml('<f0> |<f1> F|<f2>'))\n",
        "g8.node('node4', nohtml('<f0> |<f1> R|<f2>'))\n",
        "g8.node('node5', nohtml('<f0> |<f1> H|<f2>'))\n",
        "g8.node('node6', nohtml('<f0> |<f1> Y|<f2>'))\n",
        "g8.node('node7', nohtml('<f0> |<f1> A|<f2>'))\n",
        "g8.node('node8', nohtml('<f0> |<f1> C|<f2>'))\n",
        "\n",
        "g8.edge('node0:f2', 'node4:f1')\n",
        "g8.edge('node0:f0', 'node1:f1')\n",
        "g8.edge('node1:f0', 'node2:f1')\n",
        "g8.edge('node1:f2', 'node3:f1')\n",
        "g8.edge('node2:f2', 'node8:f1')\n",
        "g8.edge('node2:f0', 'node7:f1')\n",
        "g8.edge('node4:f2', 'node6:f1')\n",
        "g8.edge('node4:f0', 'node5:f1')\n",
        "\n",
        "g8.view()"
      ],
      "execution_count": null,
      "outputs": [
        {
          "output_type": "execute_result",
          "data": {
            "application/vnd.google.colaboratory.intrinsic+json": {
              "type": "string"
            },
            "text/plain": [
              "'G8.gv.pdf'"
            ]
          },
          "metadata": {
            "tags": []
          },
          "execution_count": 38
        }
      ]
    },
    {
      "cell_type": "code",
      "metadata": {
        "id": "XYttTQ1itZ4M",
        "colab": {
          "base_uri": "https://localhost:8080/",
          "height": 35
        },
        "outputId": "b8c56fc0-2f75-4da6-db91-0a06a81ef2d6"
      },
      "source": [
        "from graphviz import nohtml\n",
        "\n",
        "g9 = Digraph('g', filename='G9.gv', node_attr={'shape': 'record', 'height': '.1'})\n",
        "\n",
        "\n",
        "\n",
        "g9.node('node0', nohtml('<f0> NULL|<f1> A |<f2>'))\n",
        "g9.node('node1', nohtml('<f0> |<f1> B|<f2> NULL'))\n",
        "\n",
        "g9.node('head', shape='box')\n",
        "\n",
        "g9.edge('head','node0:f1')\n",
        "g9.edge('node0:f2','node1:f0')\n",
        "\n",
        "g9.view()"
      ],
      "execution_count": null,
      "outputs": [
        {
          "output_type": "execute_result",
          "data": {
            "application/vnd.google.colaboratory.intrinsic+json": {
              "type": "string"
            },
            "text/plain": [
              "'G9.gv.pdf'"
            ]
          },
          "metadata": {
            "tags": []
          },
          "execution_count": 43
        }
      ]
    },
    {
      "cell_type": "markdown",
      "metadata": {
        "id": "fXxZsj89VoP3"
      },
      "source": [
        "# Exercise"
      ]
    },
    {
      "cell_type": "markdown",
      "metadata": {
        "id": "ub12o6EfVoP4"
      },
      "source": [
        "# Write Code for the following Graphs \n",
        "# Q1"
      ]
    },
    {
      "cell_type": "code",
      "metadata": {
        "id": "ejvOMhABcGqO",
        "colab": {
          "base_uri": "https://localhost:8080/",
          "height": 271
        },
        "outputId": "7dd99521-301a-4b6c-a6d1-dee9e6d69220"
      },
      "source": [
        "SVG('/content/Excercise_M3_Lab4_Q1.svg')"
      ],
      "execution_count": null,
      "outputs": [
        {
          "output_type": "execute_result",
          "data": {
            "text/plain": [
              "<IPython.core.display.SVG object>"
            ],
            "image/svg+xml": "<svg height=\"188pt\" viewBox=\"0.00 0.00 206.00 188.00\" width=\"206pt\" xmlns=\"http://www.w3.org/2000/svg\" xmlns:xlink=\"http://www.w3.org/1999/xlink\">\n<g class=\"graph\" id=\"graph0\" transform=\"scale(1 1) rotate(0) translate(4 184)\">\n<title>%3</title>\n<polygon fill=\"white\" points=\"-4,4 -4,-184 202,-184 202,4 -4,4\" stroke=\"none\"/>\n<!-- A -->\n<g class=\"node\" id=\"node1\"><title>A</title>\n<ellipse cx=\"72\" cy=\"-162\" fill=\"none\" rx=\"27\" ry=\"18\" stroke=\"black\"/>\n<text font-family=\"Times New Roman,serif\" font-size=\"14.00\" text-anchor=\"middle\" x=\"72\" y=\"-158.3\">A</text>\n</g>\n<!-- C -->\n<g class=\"node\" id=\"node3\"><title>C</title>\n<ellipse cx=\"36\" cy=\"-90\" fill=\"none\" rx=\"27\" ry=\"18\" stroke=\"black\"/>\n<text font-family=\"Times New Roman,serif\" font-size=\"14.00\" text-anchor=\"middle\" x=\"36\" y=\"-86.3\">C</text>\n</g>\n<!-- A&#45;&gt;C -->\n<g class=\"edge\" id=\"edge2\"><title>A-&gt;C</title>\n<path d=\"M63.6504,-144.765C59.2885,-136.283 53.8531,-125.714 48.9587,-116.197\" fill=\"none\" stroke=\"black\"/>\n<polygon fill=\"black\" points=\"51.9904,-114.439 44.3043,-107.147 45.7654,-117.641 51.9904,-114.439\" stroke=\"black\"/>\n</g>\n<!-- B -->\n<g class=\"node\" id=\"node4\"><title>B</title>\n<ellipse cx=\"99\" cy=\"-18\" fill=\"none\" rx=\"27\" ry=\"18\" stroke=\"black\"/>\n<text font-family=\"Times New Roman,serif\" font-size=\"14.00\" text-anchor=\"middle\" x=\"99\" y=\"-14.3\">B</text>\n</g>\n<!-- A&#45;&gt;B -->\n<g class=\"edge\" id=\"edge1\"><title>A-&gt;B</title>\n<path d=\"M75.2568,-143.871C79.8585,-119.67 88.312,-75.2108 93.7914,-46.3932\" fill=\"none\" stroke=\"black\"/>\n<polygon fill=\"black\" points=\"97.302,-46.6671 95.7316,-36.1893 90.4252,-45.3594 97.302,-46.6671\" stroke=\"black\"/>\n</g>\n<!-- X -->\n<g class=\"node\" id=\"node2\"><title>X</title>\n<ellipse cx=\"171\" cy=\"-162\" fill=\"none\" rx=\"27\" ry=\"18\" stroke=\"black\"/>\n<text font-family=\"Times New Roman,serif\" font-size=\"14.00\" text-anchor=\"middle\" x=\"171\" y=\"-158.3\">X</text>\n</g>\n<!-- Y -->\n<g class=\"node\" id=\"node6\"><title>Y</title>\n<ellipse cx=\"171\" cy=\"-18\" fill=\"none\" rx=\"27\" ry=\"18\" stroke=\"black\"/>\n<text font-family=\"Times New Roman,serif\" font-size=\"14.00\" text-anchor=\"middle\" x=\"171\" y=\"-14.3\">Y</text>\n</g>\n<!-- X&#45;&gt;Y -->\n<g class=\"edge\" id=\"edge4\"><title>X-&gt;Y</title>\n<path d=\"M171,-143.871C171,-119.67 171,-75.2108 171,-46.3932\" fill=\"none\" stroke=\"black\"/>\n<polygon fill=\"black\" points=\"174.5,-46.1892 171,-36.1893 167.5,-46.1893 174.5,-46.1892\" stroke=\"black\"/>\n</g>\n<!-- D -->\n<g class=\"node\" id=\"node5\"><title>D</title>\n<ellipse cx=\"27\" cy=\"-18\" fill=\"none\" rx=\"27\" ry=\"18\" stroke=\"black\"/>\n<text font-family=\"Times New Roman,serif\" font-size=\"14.00\" text-anchor=\"middle\" x=\"27\" y=\"-14.3\">D</text>\n</g>\n<!-- C&#45;&gt;D -->\n<g class=\"edge\" id=\"edge3\"><title>C-&gt;D</title>\n<path d=\"M33.8214,-72.055C32.8302,-64.3456 31.632,-55.0269 30.5183,-46.3642\" fill=\"none\" stroke=\"black\"/>\n<polygon fill=\"black\" points=\"33.9678,-45.7473 29.2211,-36.2753 27.025,-46.64 33.9678,-45.7473\" stroke=\"black\"/>\n</g>\n</g>\n</svg>"
          },
          "metadata": {
            "tags": []
          },
          "execution_count": 15
        }
      ]
    },
    {
      "cell_type": "code",
      "metadata": {
        "id": "bFYIJb5Fvb-J",
        "colab": {
          "base_uri": "https://localhost:8080/",
          "height": 35
        },
        "outputId": "01c1757c-6eeb-43cb-a7c2-c660ff3d8fb6"
      },
      "source": [
        "g10 = Digraph('G', filename='G10.gv')\n",
        "\n",
        "\n",
        "g10.edge('A','C')\n",
        "g10.edge('C','D')\n",
        "g10.edge('A','B',label=\"                    \")\n",
        "\n",
        "g10.edge('X','Y',label=\"                    \")\n",
        "\n",
        "g10.view()"
      ],
      "execution_count": null,
      "outputs": [
        {
          "output_type": "execute_result",
          "data": {
            "application/vnd.google.colaboratory.intrinsic+json": {
              "type": "string"
            },
            "text/plain": [
              "'G10.gv.pdf'"
            ]
          },
          "metadata": {
            "tags": []
          },
          "execution_count": 54
        }
      ]
    },
    {
      "cell_type": "markdown",
      "metadata": {
        "id": "uCYpwvHRVoP5"
      },
      "source": [
        "# Q2"
      ]
    },
    {
      "cell_type": "markdown",
      "metadata": {
        "id": "Ydr8iOweVoP6"
      },
      "source": [
        "![](Excercise_M3_Lab4_Q2.svg)"
      ]
    },
    {
      "cell_type": "code",
      "metadata": {
        "id": "J3kYw6DOcOTP",
        "colab": {
          "base_uri": "https://localhost:8080/",
          "height": 324
        },
        "outputId": "af519098-2bef-45cc-c7b1-95470df46fb2"
      },
      "source": [
        "SVG('/content/Excercise_M3_Lab4_Q2.svg')"
      ],
      "execution_count": null,
      "outputs": [
        {
          "output_type": "execute_result",
          "data": {
            "text/plain": [
              "<IPython.core.display.SVG object>"
            ],
            "image/svg+xml": "<svg height=\"228pt\" viewBox=\"0.00 0.00 358.00 228.00\" width=\"358pt\" xmlns=\"http://www.w3.org/2000/svg\" xmlns:xlink=\"http://www.w3.org/1999/xlink\">\n<g class=\"graph\" id=\"graph0\" transform=\"scale(1 1) rotate(0) translate(4 224)\">\n<title>G</title>\n<polygon fill=\"white\" points=\"-4,4 -4,-224 354,-224 354,4 -4,4\" stroke=\"none\"/>\n<g class=\"cluster\" id=\"clust1\"><title>clusterA</title>\n<polygon fill=\"none\" points=\"-0.286448,0.321491 -0.286448,-114.679 205.714,-114.679 205.714,0.321491 -0.286448,0.321491\" stroke=\"black\"/>\n</g>\n<g class=\"cluster\" id=\"clust2\"><title>clusterC</title>\n<polygon fill=\"none\" points=\"20.8944,-7.98378 20.8944,-106.984 91.8944,-106.984 91.8944,-7.98378 20.8944,-7.98378\" stroke=\"black\"/>\n</g>\n<g class=\"cluster\" id=\"clust3\"><title>clusterB</title>\n<polygon fill=\"none\" points=\"173.23,-122.813 173.23,-219.813 284.23,-219.813 284.23,-122.813 173.23,-122.813\" stroke=\"black\"/>\n</g>\n<!-- e -->\n<g class=\"node\" id=\"node1\"><title>e</title>\n<ellipse cx=\"322.521\" cy=\"-65.7223\" fill=\"none\" rx=\"27\" ry=\"18\" stroke=\"black\"/>\n<text font-family=\"Times New Roman,serif\" font-size=\"14.00\" text-anchor=\"middle\" x=\"322.521\" y=\"-62.0223\">e</text>\n</g>\n<!-- __0:clusterB -->\n<!-- e&#45;&#45;__0:clusterB -->\n<g class=\"edge\" id=\"edge7\"><title>e--__0:clusterB</title>\n<path d=\"M308.682,-81.3026C298.898,-92.3171 285.209,-107.728 271.92,-122.69\" fill=\"none\" stroke=\"black\"/>\n</g>\n<!-- a -->\n<g class=\"node\" id=\"node2\"><title>a</title>\n<ellipse cx=\"134.278\" cy=\"-26.0511\" fill=\"none\" rx=\"27\" ry=\"18\" stroke=\"black\"/>\n<text font-family=\"Times New Roman,serif\" font-size=\"14.00\" text-anchor=\"middle\" x=\"134.278\" y=\"-22.3511\">a</text>\n</g>\n<!-- b -->\n<g class=\"node\" id=\"node3\"><title>b</title>\n<ellipse cx=\"170.748\" cy=\"-72.6047\" fill=\"none\" rx=\"27\" ry=\"18\" stroke=\"black\"/>\n<text font-family=\"Times New Roman,serif\" font-size=\"14.00\" text-anchor=\"middle\" x=\"170.748\" y=\"-68.9047\">b</text>\n</g>\n<!-- a&#45;&#45;b -->\n<g class=\"edge\" id=\"edge1\"><title>a--b</title>\n<path d=\"M146.829,-42.0722C150.455,-46.7013 154.415,-51.7557 158.05,-56.396\" fill=\"none\" stroke=\"black\"/>\n</g>\n<!-- C -->\n<g class=\"node\" id=\"node4\"><title>C</title>\n<ellipse cx=\"55.9968\" cy=\"-80.5593\" fill=\"none\" rx=\"27\" ry=\"18\" stroke=\"black\"/>\n<text font-family=\"Times New Roman,serif\" font-size=\"14.00\" text-anchor=\"middle\" x=\"55.9968\" y=\"-76.8593\">C</text>\n</g>\n<!-- D -->\n<g class=\"node\" id=\"node5\"><title>D</title>\n<ellipse cx=\"56.7927\" cy=\"-34.0413\" fill=\"none\" rx=\"27\" ry=\"18\" stroke=\"black\"/>\n<text font-family=\"Times New Roman,serif\" font-size=\"14.00\" text-anchor=\"middle\" x=\"56.7927\" y=\"-30.3413\">D</text>\n</g>\n<!-- C&#45;&#45;D -->\n<g class=\"edge\" id=\"edge2\"><title>C--D</title>\n<path d=\"M56.3068,-62.441C56.3644,-59.0736 56.4246,-55.5549 56.4823,-52.1866\" fill=\"none\" stroke=\"black\"/>\n</g>\n<!-- d -->\n<g class=\"node\" id=\"node6\"><title>d</title>\n<ellipse cx=\"207.825\" cy=\"-148.66\" fill=\"none\" rx=\"27\" ry=\"18\" stroke=\"black\"/>\n<text font-family=\"Times New Roman,serif\" font-size=\"14.00\" text-anchor=\"middle\" x=\"207.825\" y=\"-144.96\">d</text>\n</g>\n<!-- d&#45;&#45;D -->\n<g class=\"edge\" id=\"edge4\"><title>d--D</title>\n<path d=\"M189.906,-135.062C160.839,-113.002 103.74,-69.67 74.6878,-47.622\" fill=\"none\" stroke=\"black\"/>\n</g>\n<!-- f -->\n<g class=\"node\" id=\"node7\"><title>f</title>\n<ellipse cx=\"249.356\" cy=\"-193.971\" fill=\"none\" rx=\"27\" ry=\"18\" stroke=\"black\"/>\n<text font-family=\"Times New Roman,serif\" font-size=\"14.00\" text-anchor=\"middle\" x=\"249.356\" y=\"-190.271\">f</text>\n</g>\n<!-- d&#45;&#45;f -->\n<g class=\"edge\" id=\"edge3\"><title>d--f</title>\n<path d=\"M222.117,-164.254C226.341,-168.861 230.961,-173.902 235.177,-178.502\" fill=\"none\" stroke=\"black\"/>\n</g>\n<!-- __1:clusterC -->\n<!-- __2:clusterB -->\n<!-- __1:clusterC&#45;&#45;__2:clusterB -->\n<g class=\"edge\" id=\"edge8\"><title>__1:clusterC--__2:clusterB</title>\n<path d=\"M92.1025,-81.0693C115.468,-96.5027 146.478,-116.984 173.047,-134.534\" fill=\"none\" stroke=\"black\"/>\n</g>\n</g>\n</svg>"
          },
          "metadata": {
            "tags": []
          },
          "execution_count": 16
        }
      ]
    },
    {
      "cell_type": "code",
      "metadata": {
        "id": "phyV-9D5qms7",
        "colab": {
          "base_uri": "https://localhost:8080/",
          "height": 35
        },
        "outputId": "d314af46-a6f0-4378-ca83-76ece3241fdf"
      },
      "source": [
        "from graphviz import Digraph, Graph\n",
        "g12 = Digraph('G', filename='G12.gv', engine='fdp')\n",
        "g12.attr(rankdir='LR')\n",
        "\n",
        "g12.node('e')\n",
        "\n",
        "with g12.subgraph(name=\"cluster_b\") as B:\n",
        "  B.edge('b','a')\n",
        "  with B.subgraph(name=\"cluster_c\") as C:\n",
        "    C.edge('C','D')\n",
        "\n",
        "with g12.subgraph(name=\"cluster_a\") as A:\n",
        "  A.edge('f','d')\n",
        "\n",
        "\n",
        "\n",
        "\n",
        "\n",
        "g12.edge('cluster_a','e')\n",
        "g12.edge('d','D')\n",
        "g12.edge('cluster_a','cluster_c')\n",
        "\n",
        "\n",
        "\n",
        "g12.view()"
      ],
      "execution_count": null,
      "outputs": [
        {
          "output_type": "execute_result",
          "data": {
            "application/vnd.google.colaboratory.intrinsic+json": {
              "type": "string"
            },
            "text/plain": [
              "'G12.gv.pdf'"
            ]
          },
          "metadata": {
            "tags": []
          },
          "execution_count": 20
        }
      ]
    },
    {
      "cell_type": "code",
      "metadata": {
        "id": "1XgPxaWucRth",
        "colab": {
          "base_uri": "https://localhost:8080/",
          "height": 35
        },
        "outputId": "40335e99-1260-4c1c-fcc5-6215c9277736"
      },
      "source": [
        "from graphviz import Graph\n",
        "\n",
        "g11 = Graph('G', filename='fdpclust.gv', engine='fdp')\n",
        "g11.node('e')\n",
        "\n",
        "with g11.subgraph(name='clusterA') as a:\n",
        "    a.edge('a', 'b')\n",
        "    with a.subgraph(name='clusterC') as c:\n",
        "        c.edge('C', 'D')\n",
        "\n",
        " \n",
        "\n",
        "with g11.subgraph(name='clusterB') as b:\n",
        "    b.edge('d', 'f')\n",
        "\n",
        " \n",
        "\n",
        "g11.edge('d', 'D')\n",
        "g11.edge('e', 'clusterB')\n",
        "g11.edge('clusterC', 'clusterB')\n",
        "\n",
        " \n",
        "\n",
        "g11.view()"
      ],
      "execution_count": null,
      "outputs": [
        {
          "output_type": "execute_result",
          "data": {
            "application/vnd.google.colaboratory.intrinsic+json": {
              "type": "string"
            },
            "text/plain": [
              "'fdpclust.gv.pdf'"
            ]
          },
          "metadata": {
            "tags": []
          },
          "execution_count": 5
        }
      ]
    },
    {
      "cell_type": "code",
      "metadata": {
        "id": "JxzUKAjmEAD6"
      },
      "source": [
        "import graphviz"
      ],
      "execution_count": null,
      "outputs": []
    },
    {
      "cell_type": "code",
      "metadata": {
        "colab": {
          "base_uri": "https://localhost:8080/",
          "height": 131
        },
        "id": "P217E5BpEEaP",
        "outputId": "07557a18-20f1-4b36-dcb9-350f5cec3517"
      },
      "source": [
        "import *graphviz"
      ],
      "execution_count": null,
      "outputs": [
        {
          "output_type": "error",
          "ename": "SyntaxError",
          "evalue": "ignored",
          "traceback": [
            "\u001b[0;36m  File \u001b[0;32m\"<ipython-input-2-b0bd8cc861f7>\"\u001b[0;36m, line \u001b[0;32m1\u001b[0m\n\u001b[0;31m    import *graphviz\u001b[0m\n\u001b[0m           ^\u001b[0m\n\u001b[0;31mSyntaxError\u001b[0m\u001b[0;31m:\u001b[0m invalid syntax\n"
          ]
        }
      ]
    },
    {
      "cell_type": "code",
      "metadata": {
        "id": "VGK3eeLwEIAz"
      },
      "source": [
        "import_"
      ],
      "execution_count": null,
      "outputs": []
    }
  ]
}