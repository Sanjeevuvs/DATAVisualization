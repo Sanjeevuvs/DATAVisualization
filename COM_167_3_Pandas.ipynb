{
  "nbformat": 4,
  "nbformat_minor": 0,
  "metadata": {
    "colab": {
      "name": "COM_167_3_Pandas.ipynb",
      "provenance": [],
      "collapsed_sections": [],
      "include_colab_link": true
    },
    "kernelspec": {
      "name": "python3",
      "display_name": "Python 3"
    }
  },
  "cells": [
    {
      "cell_type": "markdown",
      "metadata": {
        "id": "view-in-github",
        "colab_type": "text"
      },
      "source": [
        "<a href=\"https://colab.research.google.com/github/Sanjeevuvs/DATAVisualization/blob/main/COM_167_3_Pandas.ipynb\" target=\"_parent\"><img src=\"https://colab.research.google.com/assets/colab-badge.svg\" alt=\"Open In Colab\"/></a>"
      ]
    },
    {
      "cell_type": "markdown",
      "metadata": {
        "id": "IDMZi_t98S9r"
      },
      "source": [
        "## **Indexing and Selecting Data**\n",
        "\n",
        "The Python and NumPy indexing operators \"[ ]\" and attribute operator \".\" provide quick and easy access to Pandas data structures across a wide range of use cases. \n",
        "\n",
        "However, since the type of the data to be accessed isn’t known in advance, directly using standard operators has some optimization limits. \n",
        "\n",
        "For production code, we recommend that you take advantage of the optimized pandas data access methods explained in this chapter.\n",
        "\n",
        "Pandas now supports three types of Multi-axes indexing; the two types are mentioned in the following table −\n",
        "\n",
        "Sr.No |\tIndexing | Description\n",
        ":----|:----|:----\n",
        "1\t|\t.loc()| Label based\n",
        "2\t|\t.iloc() |\tInteger based\n"
      ]
    },
    {
      "cell_type": "markdown",
      "metadata": {
        "id": "w167PNLeKlG6"
      },
      "source": [
        "### **.loc()**\n",
        "\n",
        "Pandas provide various methods to have purely label based indexing. \n",
        "\n",
        "When slicing, the start bound is also included. Integers are valid labels, but they refer to the label and not the position.\n",
        "\n",
        "**.loc()** has multiple access methods like −\n",
        "\n",
        "* A single scalar label\n",
        "* A list of labels\n",
        "* A slice object\n",
        "* A Boolean array\n",
        "\n",
        "**loc** takes two single/list/range operator separated by ','. \n",
        "\n",
        "The first one indicates the row and the second one indicates columns."
      ]
    },
    {
      "cell_type": "code",
      "metadata": {
        "id": "XiOOY0xmLd6T",
        "colab": {
          "base_uri": "https://localhost:8080/",
          "height": 170
        },
        "outputId": "db22cd56-4ee9-4c9d-fcfd-38ede283d522"
      },
      "source": [
        "import pandas as pd\n",
        "import numpy as np\n",
        " \n",
        "df = pd.DataFrame(np.random.randn(8, 4),\n",
        "index = ['a','b','c','d','e','f','g','h'], columns = ['A', 'B', 'C', 'D'])\n",
        " \n",
        "#select all rows for a specific column\n",
        "print (df.loc[:,'A'])"
      ],
      "execution_count": null,
      "outputs": [
        {
          "output_type": "stream",
          "text": [
            "a    0.090440\n",
            "b   -0.051702\n",
            "c    0.301898\n",
            "d    0.942517\n",
            "e   -0.627150\n",
            "f    0.518725\n",
            "g    2.387637\n",
            "h    1.470536\n",
            "Name: A, dtype: float64\n"
          ],
          "name": "stdout"
        }
      ]
    },
    {
      "cell_type": "code",
      "metadata": {
        "id": "U_Vse5MJa3lJ",
        "colab": {
          "base_uri": "https://localhost:8080/",
          "height": 170
        },
        "outputId": "0012df17-5b2d-4920-db0b-cb0038312508"
      },
      "source": [
        "# Select all rows for multiple columns, say list[]\n",
        "print (df.loc[:,['A','C']])"
      ],
      "execution_count": null,
      "outputs": [
        {
          "output_type": "stream",
          "text": [
            "          A         C\n",
            "a  0.090440 -0.254670\n",
            "b -0.051702 -0.389988\n",
            "c  0.301898 -1.290258\n",
            "d  0.942517 -0.006535\n",
            "e -0.627150 -0.414867\n",
            "f  0.518725 -0.166568\n",
            "g  2.387637 -1.101793\n",
            "h  1.470536  0.872515\n"
          ],
          "name": "stdout"
        }
      ]
    },
    {
      "cell_type": "code",
      "metadata": {
        "id": "dfdpfrrQa9R1",
        "colab": {
          "base_uri": "https://localhost:8080/",
          "height": 102
        },
        "outputId": "c9685b60-c010-4cd2-cd61-a632ffb9cc6f"
      },
      "source": [
        "# Select few rows for multiple columns, say list[]\n",
        "print (df.loc[['a','b','f','h'],['A','C']])"
      ],
      "execution_count": null,
      "outputs": [
        {
          "output_type": "stream",
          "text": [
            "          A         C\n",
            "a  0.090440 -0.254670\n",
            "b -0.051702 -0.389988\n",
            "f  0.518725 -0.166568\n",
            "h  1.470536  0.872515\n"
          ],
          "name": "stdout"
        }
      ]
    },
    {
      "cell_type": "code",
      "metadata": {
        "id": "rwxNMkRibCL9",
        "colab": {
          "base_uri": "https://localhost:8080/",
          "height": 190
        },
        "outputId": "b1446c1d-ca61-47e0-d14a-3a437020a4b6"
      },
      "source": [
        "# Select range of rows for all columns\n",
        "print (df.loc['a':'h'])"
      ],
      "execution_count": null,
      "outputs": [
        {
          "output_type": "stream",
          "text": [
            "          A         B         C         D\n",
            "a  0.090440  0.987993 -0.254670  0.316874\n",
            "b -0.051702  0.342157 -0.389988 -0.605679\n",
            "c  0.301898  0.144342 -1.290258  0.682304\n",
            "d  0.942517  1.031985 -0.006535  0.280700\n",
            "e -0.627150 -0.128337 -0.414867 -1.093920\n",
            "f  0.518725 -0.019987 -0.166568 -0.969512\n",
            "g  2.387637 -0.398612 -1.101793 -0.517841\n",
            "h  1.470536 -1.904733  0.872515 -1.366958\n"
          ],
          "name": "stdout"
        }
      ]
    },
    {
      "cell_type": "code",
      "metadata": {
        "id": "oRwLsexWbId1",
        "colab": {
          "base_uri": "https://localhost:8080/",
          "height": 102
        },
        "outputId": "df95d895-7815-46be-bb42-93e46b0502da"
      },
      "source": [
        "# for getting values with a boolean array\n",
        "print (df.loc['a']>0)"
      ],
      "execution_count": null,
      "outputs": [
        {
          "output_type": "stream",
          "text": [
            "A     True\n",
            "B     True\n",
            "C    False\n",
            "D     True\n",
            "Name: a, dtype: bool\n"
          ],
          "name": "stdout"
        }
      ]
    },
    {
      "cell_type": "markdown",
      "metadata": {
        "id": "trHwAJRmbN3A"
      },
      "source": [
        "### **.iloc()**\n",
        "Pandas provide various methods in order to get purely integer based indexing. Like python and numpy, these are 0-based indexing.\n",
        "\n",
        "The various access methods are as follows −\n",
        "\n",
        "*  An Integer\n",
        "* A list of integers\n",
        "* A range of values"
      ]
    },
    {
      "cell_type": "code",
      "metadata": {
        "id": "B--hxt6BbjoC",
        "colab": {
          "base_uri": "https://localhost:8080/",
          "height": 122
        },
        "outputId": "6b0cbcbd-ec55-4d9c-cc6b-91ed65473b60"
      },
      "source": [
        "df = pd.DataFrame(np.random.randn(8, 4), columns = ['A', 'B', 'C', 'D'])\n",
        " \n",
        "# select all rows for a specific column\n",
        "print (df.iloc[:4])"
      ],
      "execution_count": null,
      "outputs": [
        {
          "output_type": "stream",
          "text": [
            "          A         B         C         D\n",
            "0  0.180470  0.560604 -0.733632  0.664867\n",
            "1 -1.374149 -0.636478  0.785372  0.189700\n",
            "2  0.180055 -0.635096 -0.083195 -0.924214\n",
            "3  0.591270  0.260048 -2.155541 -0.367012\n"
          ],
          "name": "stdout"
        }
      ]
    },
    {
      "cell_type": "code",
      "metadata": {
        "id": "jLLmPvktbojk",
        "colab": {
          "base_uri": "https://localhost:8080/",
          "height": 207
        },
        "outputId": "9184a0e7-6286-44fb-d8b7-3ee6fa40e8c6"
      },
      "source": [
        "# Integer slicing\n",
        "print (df.iloc[:4])\n",
        "print (df.iloc[1:5, 2:4])"
      ],
      "execution_count": null,
      "outputs": [
        {
          "output_type": "stream",
          "text": [
            "          A         B         C         D\n",
            "0  0.180470  0.560604 -0.733632  0.664867\n",
            "1 -1.374149 -0.636478  0.785372  0.189700\n",
            "2  0.180055 -0.635096 -0.083195 -0.924214\n",
            "3  0.591270  0.260048 -2.155541 -0.367012\n",
            "          C         D\n",
            "1  0.785372  0.189700\n",
            "2 -0.083195 -0.924214\n",
            "3 -2.155541 -0.367012\n",
            "4  0.342654  1.123683\n"
          ],
          "name": "stdout"
        }
      ]
    },
    {
      "cell_type": "code",
      "metadata": {
        "id": "7AD25x0SbuN8",
        "colab": {
          "base_uri": "https://localhost:8080/",
          "height": 309
        },
        "outputId": "05ffaf31-a172-430c-cb98-d87e9f841db1"
      },
      "source": [
        "# Slicing through list of values\n",
        "print (df.iloc[[1, 3, 5], [1, 3]])\n",
        "print (df.iloc[1:3, :])\n",
        "print (df.iloc[:,1:3])"
      ],
      "execution_count": null,
      "outputs": [
        {
          "output_type": "stream",
          "text": [
            "          B         D\n",
            "1 -0.636478  0.189700\n",
            "3  0.260048 -0.367012\n",
            "5 -1.719913  1.460496\n",
            "          A         B         C         D\n",
            "1 -1.374149 -0.636478  0.785372  0.189700\n",
            "2  0.180055 -0.635096 -0.083195 -0.924214\n",
            "          B         C\n",
            "0  0.560604 -0.733632\n",
            "1 -0.636478  0.785372\n",
            "2 -0.635096 -0.083195\n",
            "3  0.260048 -2.155541\n",
            "4 -1.721906  0.342654\n",
            "5 -1.719913  0.079706\n",
            "6  0.707054 -1.003925\n",
            "7  0.795026 -0.920742\n"
          ],
          "name": "stdout"
        }
      ]
    },
    {
      "cell_type": "markdown",
      "metadata": {
        "id": "d_-Zu_2TcWsh"
      },
      "source": [
        "## **Statistical Functions**\n",
        "Statistical methods help in the understanding and analyzing the behavior of data. \n",
        "\n",
        "### **Percent_change**\n",
        "Series, DatFrames and Panel, all have the function **pct_change()**. \n",
        "\n",
        "This function compares every element with its prior element and computes the change percentage."
      ]
    },
    {
      "cell_type": "code",
      "metadata": {
        "id": "n8k_G1EGclk6",
        "colab": {
          "base_uri": "https://localhost:8080/",
          "height": 238
        },
        "outputId": "88a888ab-65fc-4b62-e818-ff4fdf4d010f"
      },
      "source": [
        "s = pd.Series([1,2,3,4,5,4])\n",
        "print (s.pct_change())\n",
        " \n",
        "df = pd.DataFrame(np.random.randn(5, 2))\n",
        "print (df.pct_change())"
      ],
      "execution_count": null,
      "outputs": [
        {
          "output_type": "stream",
          "text": [
            "0         NaN\n",
            "1    1.000000\n",
            "2    0.500000\n",
            "3    0.333333\n",
            "4    0.250000\n",
            "5   -0.200000\n",
            "dtype: float64\n",
            "            0         1\n",
            "0         NaN       NaN\n",
            "1    3.694498 -1.618738\n",
            "2   -0.834861 -1.356633\n",
            "3   -1.006345  2.682306\n",
            "4  197.446833  1.072980\n"
          ],
          "name": "stdout"
        }
      ]
    },
    {
      "cell_type": "markdown",
      "metadata": {
        "id": "rWYXwG8ucsNv"
      },
      "source": [
        "By default, the pct_change() operates on columns; if you want to apply the same row wise, then use axis=1() argument.\n",
        "\n",
        "### **Covariance**\n",
        "Covariance is applied on series data. The Series object has a method cov to compute covariance between series objects. NA will be excluded automatically.\n",
        "\n",
        "**Cov Series**"
      ]
    },
    {
      "cell_type": "code",
      "metadata": {
        "id": "FZKd08G4cw-f",
        "colab": {
          "base_uri": "https://localhost:8080/",
          "height": 34
        },
        "outputId": "91c515d4-c651-46b3-8177-7f91de284294"
      },
      "source": [
        "s1 = pd.Series(np.random.randn(10))\n",
        "s2 = pd.Series(np.random.randn(10))\n",
        "print (s1.cov(s2))"
      ],
      "execution_count": null,
      "outputs": [
        {
          "output_type": "stream",
          "text": [
            "-0.7710952492474044\n"
          ],
          "name": "stdout"
        }
      ]
    },
    {
      "cell_type": "markdown",
      "metadata": {
        "id": "g60gBBT4c3Td"
      },
      "source": [
        "Covariance method when applied on a DataFrame, computes cov between all the columns."
      ]
    },
    {
      "cell_type": "code",
      "metadata": {
        "id": "CqjCXBI6c5r5",
        "colab": {
          "base_uri": "https://localhost:8080/",
          "height": 156
        },
        "outputId": "1867cc0a-6c6a-4226-e3c3-87d2e7b3fbc2"
      },
      "source": [
        "frame = pd.DataFrame(np.random.randn(10, 5), columns=['a', 'b', 'c', 'd', 'e'])\n",
        "print (frame['a'].cov(frame['b']))\n",
        "print (frame.cov())"
      ],
      "execution_count": null,
      "outputs": [
        {
          "output_type": "stream",
          "text": [
            "0.27169741209721354\n",
            "          a         b         c         d         e\n",
            "a  0.467881  0.271697 -0.236995  0.510939 -0.175298\n",
            "b  0.271697  1.505446  0.359208  0.186023  0.449221\n",
            "c -0.236995  0.359208  1.258314  0.124584  0.608641\n",
            "d  0.510939  0.186023  0.124584  1.045846 -0.015644\n",
            "e -0.175298  0.449221  0.608641 -0.015644  0.873372\n"
          ],
          "name": "stdout"
        }
      ]
    },
    {
      "cell_type": "markdown",
      "metadata": {
        "id": "AJdCSM4kc_Z9"
      },
      "source": [
        "**Note** − Observe the cov between a and b column in the first statement and the same is the value returned by cov on DataFrame.\n",
        "\n",
        "### **Correlation**\n",
        "Correlation shows the linear relationship between any two array of values (series). \n",
        "\n",
        "There are multiple methods to compute the correlation like pearson(default), spearman and kendall."
      ]
    },
    {
      "cell_type": "code",
      "metadata": {
        "id": "VXemEMindD9B",
        "colab": {
          "base_uri": "https://localhost:8080/",
          "height": 156
        },
        "outputId": "38b484e3-135d-4c2b-9ccc-6b8320cd7a67"
      },
      "source": [
        "frame = pd.DataFrame(np.random.randn(10, 5), columns=['a', 'b', 'c', 'd', 'e'])\n",
        " \n",
        "print (frame['a'].corr(frame['b']))\n",
        "print (frame.corr())"
      ],
      "execution_count": null,
      "outputs": [
        {
          "output_type": "stream",
          "text": [
            "0.22348938096660362\n",
            "          a         b         c         d         e\n",
            "a  1.000000  0.223489  0.063878  0.200559  0.077086\n",
            "b  0.223489  1.000000  0.881567 -0.680994  0.185793\n",
            "c  0.063878  0.881567  1.000000 -0.551024  0.106852\n",
            "d  0.200559 -0.680994 -0.551024  1.000000 -0.238754\n",
            "e  0.077086  0.185793  0.106852 -0.238754  1.000000\n"
          ],
          "name": "stdout"
        }
      ]
    },
    {
      "cell_type": "markdown",
      "metadata": {
        "id": "YQqiNkGHdKRN"
      },
      "source": [
        "If any non-numeric column is present in the DataFrame, it is excluded automatically.\n",
        "\n",
        "### **Data Ranking**\n",
        "Data Ranking produces ranking for each element in the array of elements. In case of ties, assigns the mean rank."
      ]
    },
    {
      "cell_type": "code",
      "metadata": {
        "id": "xocTCOsrdNED",
        "colab": {
          "base_uri": "https://localhost:8080/",
          "height": 119
        },
        "outputId": "4169ffda-86b4-45cf-cb60-36832fd8182d"
      },
      "source": [
        "s = pd.Series(np.random.randn(5), index=list('abcde'))\n",
        "s['a'] = s['b'] # so there's a tie\n",
        "print (s.rank())"
      ],
      "execution_count": null,
      "outputs": [
        {
          "output_type": "stream",
          "text": [
            "a    4.5\n",
            "b    4.5\n",
            "c    2.0\n",
            "d    3.0\n",
            "e    1.0\n",
            "dtype: float64\n"
          ],
          "name": "stdout"
        }
      ]
    },
    {
      "cell_type": "markdown",
      "metadata": {
        "id": "Ha7oXJmGdYoo"
      },
      "source": [
        "Rank optionally takes a parameter ascending which by default is true; when false, data is reverse-ranked, with larger values assigned a smaller rank.\n",
        "\n",
        "Rank supports different tie-breaking methods, specified with the method parameter −\n",
        "\n",
        "* average − average rank of tied group\n",
        "\n",
        "* min − lowest rank in the group\n",
        "\n",
        "* max − highest rank in the group\n",
        "\n",
        "* first − ranks assigned in the order they appear in the array"
      ]
    },
    {
      "cell_type": "markdown",
      "metadata": {
        "id": "bXdzb-sqemP2"
      },
      "source": [
        "## **Window Functions**\n",
        "\n",
        "For working on numerical data, Pandas provide few variants like rolling, expanding and exponentially moving weights for window statistics. Among these are **sum, mean, median, variance, covariance, correlation**, etc.\n",
        "\n",
        "### **.rolling() Function**\n",
        "This function can be applied on a series of data. Specify the window=n argument and apply the appropriate statistical function on top of it."
      ]
    },
    {
      "cell_type": "code",
      "metadata": {
        "id": "-ly2tLPYexBF",
        "colab": {
          "base_uri": "https://localhost:8080/",
          "height": 224
        },
        "outputId": "ca96688d-c6f8-49f7-8a1f-73dbf1c83f53"
      },
      "source": [
        "df = pd.DataFrame(np.random.randn(10, 4),   index = pd.date_range('1/1/2000', periods=10),   columns = ['A', 'B', 'C', 'D'])\n",
        "print (df.rolling(window=3).mean())"
      ],
      "execution_count": null,
      "outputs": [
        {
          "output_type": "stream",
          "text": [
            "                   A         B         C         D\n",
            "2000-01-01       NaN       NaN       NaN       NaN\n",
            "2000-01-02       NaN       NaN       NaN       NaN\n",
            "2000-01-03  0.781538 -0.020891 -1.107885 -0.105723\n",
            "2000-01-04  0.705451 -0.355423 -1.196873  0.259719\n",
            "2000-01-05  0.099250 -0.232738 -0.694420 -0.480305\n",
            "2000-01-06 -0.546463 -0.318238  0.026664 -0.143043\n",
            "2000-01-07 -0.749103  0.817233  0.294021 -0.437092\n",
            "2000-01-08 -0.020708  0.872359  0.520774  0.153098\n",
            "2000-01-09 -0.094180  0.823607 -0.268397  0.385180\n",
            "2000-01-10 -0.526022 -0.958299 -0.001094  1.554730\n"
          ],
          "name": "stdout"
        }
      ]
    },
    {
      "cell_type": "markdown",
      "metadata": {
        "id": "xFk2Xr5Ie6ti"
      },
      "source": [
        "**Note** − Since the window size is 3, for first two elements there are nulls and from third the value will be the average of the n, n-1 and n-2 elements. Thus we can also apply various functions as mentioned above.\n",
        "\n",
        "### **.expanding() Function**\n",
        "This function can be applied on a series of data. \n",
        "\n",
        "Specify the min_periods=n argument and apply the appropriate statistical function on top of it."
      ]
    },
    {
      "cell_type": "code",
      "metadata": {
        "id": "24U5Gg7YfBKv",
        "colab": {
          "base_uri": "https://localhost:8080/",
          "height": 224
        },
        "outputId": "1bfbc6d6-4e77-4006-9c5c-535fb0828bb0"
      },
      "source": [
        "print (df.expanding(min_periods=3).mean())"
      ],
      "execution_count": null,
      "outputs": [
        {
          "output_type": "stream",
          "text": [
            "                   A         B         C         D\n",
            "2000-01-01       NaN       NaN       NaN       NaN\n",
            "2000-01-02       NaN       NaN       NaN       NaN\n",
            "2000-01-03  0.781538 -0.020891 -1.107885 -0.105723\n",
            "2000-01-04  0.715767 -0.121807 -1.131878 -0.134202\n",
            "2000-01-05  0.346381 -0.143038 -1.035137 -0.223174\n",
            "2000-01-06  0.117537 -0.169565 -0.540611 -0.124383\n",
            "2000-01-07  0.087965  0.280639 -0.520779 -0.264012\n",
            "2000-01-08  0.208723  0.237736 -0.451670 -0.082072\n",
            "2000-01-09  0.046965  0.161492 -0.449873  0.045472\n",
            "2000-01-10 -0.096231 -0.091043 -0.364873  0.281611\n"
          ],
          "name": "stdout"
        }
      ]
    },
    {
      "cell_type": "markdown",
      "metadata": {
        "id": "R6gA860yfKMf"
      },
      "source": [
        "### **.ewm() Function**\n",
        "ewm is applied on a series of data. \n",
        "\n",
        "Specify any of the com, span, halflife argument and apply the appropriate statistical function on top of it. \n",
        "\n",
        "It assigns the weights exponentially."
      ]
    },
    {
      "cell_type": "code",
      "metadata": {
        "id": "oJXGUZuIfPVh",
        "colab": {
          "base_uri": "https://localhost:8080/",
          "height": 224
        },
        "outputId": "b2604350-3f41-4002-c165-5150eda55d24"
      },
      "source": [
        "print (df.ewm(com=0.5).mean())"
      ],
      "execution_count": null,
      "outputs": [
        {
          "output_type": "stream",
          "text": [
            "                   A         B         C         D\n",
            "2000-01-01  0.746713  0.579042 -0.936894 -1.315964\n",
            "2000-01-02  0.702261 -0.302252 -1.850871  0.901764\n",
            "2000-01-03  0.846396 -0.124638 -0.729583 -0.167142\n",
            "2000-01-04  0.625035 -0.327081 -1.049717 -0.202577\n",
            "2000-01-05 -0.550600 -0.260728 -0.780914 -0.454606\n",
            "2000-01-06 -0.868424 -0.288414  1.030193  0.095602\n",
            "2000-01-07 -0.348882  1.892766  0.075103 -0.703021\n",
            "2000-01-08  0.586532  0.589001  0.046423  0.560189\n",
            "2000-01-09 -0.635950 -0.102672 -0.274871  0.897294\n",
            "2000-01-10 -1.135322 -1.610155  0.175132  1.903691\n"
          ],
          "name": "stdout"
        }
      ]
    },
    {
      "cell_type": "markdown",
      "metadata": {
        "id": "beULui5hfT1v"
      },
      "source": [
        "* Window functions are majorly used in finding the trends within the data graphically by smoothing the curve. \n",
        "\n",
        "* If there is lot of variation in the everyday data and a lot of data points are available, then taking the samples and plotting is one method and applying the window computations and plotting the graph on the results is another method. \n",
        "\n",
        "* By these methods, we can smooth the curve or the trend."
      ]
    },
    {
      "cell_type": "markdown",
      "metadata": {
        "id": "Tra8aoLxgLcc"
      },
      "source": [
        "## **Aggregations**\n",
        "\n",
        "Once the rolling, expanding and ewm objects are created, several methods are available to perform aggregations on data."
      ]
    },
    {
      "cell_type": "markdown",
      "metadata": {
        "id": "XKD6ZH4ffgfM"
      },
      "source": [
        "\n",
        "\n",
        "### **Applying Aggregations on DataFrame**\n",
        "Let us create a DataFrame and apply aggregations on it.\n"
      ]
    },
    {
      "cell_type": "code",
      "metadata": {
        "id": "dIoHcuOcf2XR",
        "colab": {
          "base_uri": "https://localhost:8080/",
          "height": 156
        },
        "outputId": "0953fe4a-abb1-43c3-b664-70ef0cf93af8"
      },
      "source": [
        "df = pd.DataFrame(np.arange(1,21).reshape(5,4),columns = ['A','B','C','D'])\n",
        "   \n",
        " \n",
        "  \n",
        " \n",
        " \n",
        " \n",
        "print (df)\n",
        "r = df.rolling(window=3,min_periods=1)\n",
        "print (r)"
      ],
      "execution_count": null,
      "outputs": [
        {
          "output_type": "stream",
          "text": [
            "    A   B   C   D\n",
            "0   1   2   3   4\n",
            "1   5   6   7   8\n",
            "2   9  10  11  12\n",
            "3  13  14  15  16\n",
            "4  17  18  19  20\n",
            "Rolling [window=3,min_periods=1,center=False,axis=0]\n"
          ],
          "name": "stdout"
        }
      ]
    },
    {
      "cell_type": "markdown",
      "metadata": {
        "id": "7x_CFYRPf_Sv"
      },
      "source": [
        "We can aggregate by passing a function to the entire DataFrame, or select a column via the standard get item method.\n",
        "\n",
        "### **Apply Aggregation on a Whole Dataframe**"
      ]
    },
    {
      "cell_type": "code",
      "metadata": {
        "id": "6sgLnJOWgGSN",
        "colab": {
          "base_uri": "https://localhost:8080/",
          "height": 221
        },
        "outputId": "db6c4cc4-e988-489d-9ac7-e51fb9042ada"
      },
      "source": [
        "print (df)\n",
        "r = df.rolling(window=3,min_periods=1)\n",
        "print (r.aggregate(np.sum))"
      ],
      "execution_count": null,
      "outputs": [
        {
          "output_type": "stream",
          "text": [
            "    A   B   C   D\n",
            "0   1   2   3   4\n",
            "1   5   6   7   8\n",
            "2   9  10  11  12\n",
            "3  13  14  15  16\n",
            "4  17  18  19  20\n",
            "      A     B     C     D\n",
            "0   1.0   2.0   3.0   4.0\n",
            "1   6.0   8.0  10.0  12.0\n",
            "2  15.0  18.0  21.0  24.0\n",
            "3  27.0  30.0  33.0  36.0\n",
            "4  39.0  42.0  45.0  48.0\n"
          ],
          "name": "stdout"
        }
      ]
    },
    {
      "cell_type": "markdown",
      "metadata": {
        "id": "m-YAnd-MgiH7"
      },
      "source": [
        "### **Apply Aggregation on a Single Column of a Dataframe**"
      ]
    },
    {
      "cell_type": "code",
      "metadata": {
        "id": "eB7qnTSZgl3T",
        "colab": {
          "base_uri": "https://localhost:8080/",
          "height": 221
        },
        "outputId": "4e487fe3-66f1-425f-ccfe-5b1eb8a052be"
      },
      "source": [
        "print (df)\n",
        "r = df.rolling(window=3,min_periods=1)\n",
        "print (r['A'].aggregate(np.sum))"
      ],
      "execution_count": null,
      "outputs": [
        {
          "output_type": "stream",
          "text": [
            "    A   B   C   D\n",
            "0   1   2   3   4\n",
            "1   5   6   7   8\n",
            "2   9  10  11  12\n",
            "3  13  14  15  16\n",
            "4  17  18  19  20\n",
            "0     1.0\n",
            "1     6.0\n",
            "2    15.0\n",
            "3    27.0\n",
            "4    39.0\n",
            "Name: A, dtype: float64\n"
          ],
          "name": "stdout"
        }
      ]
    },
    {
      "cell_type": "markdown",
      "metadata": {
        "id": "K2dV924hguRf"
      },
      "source": [
        "### **Apply Aggregation on Multiple Columns of a DataFrame**"
      ]
    },
    {
      "cell_type": "code",
      "metadata": {
        "id": "_5T4YRHugw3Y",
        "colab": {
          "base_uri": "https://localhost:8080/",
          "height": 221
        },
        "outputId": "aa840955-aad6-4ba4-ba13-2b060580257d"
      },
      "source": [
        "print (df)\n",
        "r = df.rolling(window=3,min_periods=1)\n",
        "print (r[['A','B']].aggregate(np.sum))"
      ],
      "execution_count": null,
      "outputs": [
        {
          "output_type": "stream",
          "text": [
            "    A   B   C   D\n",
            "0   1   2   3   4\n",
            "1   5   6   7   8\n",
            "2   9  10  11  12\n",
            "3  13  14  15  16\n",
            "4  17  18  19  20\n",
            "      A     B\n",
            "0   1.0   2.0\n",
            "1   6.0   8.0\n",
            "2  15.0  18.0\n",
            "3  27.0  30.0\n",
            "4  39.0  42.0\n"
          ],
          "name": "stdout"
        }
      ]
    },
    {
      "cell_type": "markdown",
      "metadata": {
        "id": "OHwxIYjgg6t2"
      },
      "source": [
        "### **Apply Multiple Functions on a Single Column of a DataFrame**"
      ]
    },
    {
      "cell_type": "code",
      "metadata": {
        "id": "ymqDx7ZYg8-I",
        "colab": {
          "base_uri": "https://localhost:8080/",
          "height": 221
        },
        "outputId": "e7adb704-cf5d-449b-ab34-a9442c332705"
      },
      "source": [
        "print (df)\n",
        "r = df.rolling(window=3,min_periods=1)\n",
        "print (r['A'].aggregate([np.sum,np.mean]))"
      ],
      "execution_count": null,
      "outputs": [
        {
          "output_type": "stream",
          "text": [
            "    A   B   C   D\n",
            "0   1   2   3   4\n",
            "1   5   6   7   8\n",
            "2   9  10  11  12\n",
            "3  13  14  15  16\n",
            "4  17  18  19  20\n",
            "    sum  mean\n",
            "0   1.0   1.0\n",
            "1   6.0   3.0\n",
            "2  15.0   5.0\n",
            "3  27.0   9.0\n",
            "4  39.0  13.0\n"
          ],
          "name": "stdout"
        }
      ]
    },
    {
      "cell_type": "markdown",
      "metadata": {
        "id": "FG6PM8Z-hDs2"
      },
      "source": [
        "### **Apply Multiple Functions on Multiple Columns of a DataFrame**"
      ]
    },
    {
      "cell_type": "code",
      "metadata": {
        "id": "3-imn4-phF6g",
        "colab": {
          "base_uri": "https://localhost:8080/",
          "height": 238
        },
        "outputId": "7e11eb51-92be-447c-e121-7b57236f3266"
      },
      "source": [
        "print (df)\n",
        "r = df.rolling(window=3,min_periods=1)\n",
        "print (r[['A','B']].aggregate([np.sum,np.mean]))"
      ],
      "execution_count": null,
      "outputs": [
        {
          "output_type": "stream",
          "text": [
            "    A   B   C   D\n",
            "0   1   2   3   4\n",
            "1   5   6   7   8\n",
            "2   9  10  11  12\n",
            "3  13  14  15  16\n",
            "4  17  18  19  20\n",
            "      A           B      \n",
            "    sum  mean   sum  mean\n",
            "0   1.0   1.0   2.0   2.0\n",
            "1   6.0   3.0   8.0   4.0\n",
            "2  15.0   5.0  18.0   6.0\n",
            "3  27.0   9.0  30.0  10.0\n",
            "4  39.0  13.0  42.0  14.0\n"
          ],
          "name": "stdout"
        }
      ]
    },
    {
      "cell_type": "markdown",
      "metadata": {
        "id": "K5DL3h2_hd0B"
      },
      "source": [
        "### **Apply Different Functions to Different Columns of a Dataframe**"
      ]
    },
    {
      "cell_type": "code",
      "metadata": {
        "id": "LTzxStVZhf5p",
        "colab": {
          "base_uri": "https://localhost:8080/",
          "height": 221
        },
        "outputId": "d6d6f0b0-9cc5-45e9-adb0-b0ecfa0767ed"
      },
      "source": [
        "print (df)\n",
        "r = df.rolling(window=3,min_periods=1)\n",
        "print (r.aggregate({'A' : np.sum,'B' : np.mean}))"
      ],
      "execution_count": null,
      "outputs": [
        {
          "output_type": "stream",
          "text": [
            "    A   B   C   D\n",
            "0   1   2   3   4\n",
            "1   5   6   7   8\n",
            "2   9  10  11  12\n",
            "3  13  14  15  16\n",
            "4  17  18  19  20\n",
            "      A     B\n",
            "0   1.0   2.0\n",
            "1   6.0   4.0\n",
            "2  15.0   6.0\n",
            "3  27.0  10.0\n",
            "4  39.0  14.0\n"
          ],
          "name": "stdout"
        }
      ]
    },
    {
      "cell_type": "markdown",
      "metadata": {
        "id": "t-JQHHrbiTrG"
      },
      "source": [
        "## **Missing Data**"
      ]
    },
    {
      "cell_type": "markdown",
      "metadata": {
        "id": "5mgsEjKriWqs"
      },
      "source": [
        "Missing data is always a problem in real life scenarios.\n",
        "\n",
        "Areas like machine learning and data mining face severe issues in the accuracy of their model predictions because of poor quality of data caused by missing values. \n",
        "\n",
        "In these areas, missing value treatment is a major point of focus to make their models more accurate and valid."
      ]
    },
    {
      "cell_type": "markdown",
      "metadata": {
        "id": "cVUQXPtnic54"
      },
      "source": [
        "### **When and Why Is Data Missed?**\n",
        "* Let us consider an online survey for a product. \n",
        "\n",
        "* Many a times, people do not share all the information related to them. \n",
        "\n",
        "* Few people share their experience, but not how long they are using the product; few people share how long they are using the product, their experience but not their contact information. \n",
        "\n",
        "* Thus, in some or the other way a part of data is always missing, and this is very common in real time.\n",
        "\n",
        "* Let us now see how we can handle missing values (say NA or NaN) using Pandas."
      ]
    },
    {
      "cell_type": "code",
      "metadata": {
        "id": "B69UYpP4ipxe",
        "colab": {
          "base_uri": "https://localhost:8080/",
          "height": 170
        },
        "outputId": "ddf14c0e-c216-421b-fe80-147917802223"
      },
      "source": [
        "df = pd.DataFrame(np.random.randn(5, 3), index=['a', 'c', 'e', 'f','h'],columns=['one', 'two', 'three'])\n",
        " \n",
        "df = df.reindex(['a', 'b', 'c', 'd', 'e', 'f', 'g', 'h'])\n",
        " \n",
        "print (df)"
      ],
      "execution_count": null,
      "outputs": [
        {
          "output_type": "stream",
          "text": [
            "        one       two     three\n",
            "a -0.372510  1.011056 -0.550593\n",
            "b       NaN       NaN       NaN\n",
            "c  0.552708  0.895539 -1.249187\n",
            "d       NaN       NaN       NaN\n",
            "e -0.651357  1.782757  0.447367\n",
            "f  0.842966 -0.257959 -0.644862\n",
            "g       NaN       NaN       NaN\n",
            "h  0.644327 -0.589685  2.105786\n"
          ],
          "name": "stdout"
        }
      ]
    },
    {
      "cell_type": "markdown",
      "metadata": {
        "id": "7sOI0I-GiyG5"
      },
      "source": [
        "Using reindexing, we have created a DataFrame with missing values. In the output, NaN means Not a Number.\n",
        "\n",
        "### **Check for Missing Values**\n",
        "To make detecting missing values easier (and across different array dtypes), Pandas provides the **isnull()** and **notnull()** functions, which are also methods on Series and DataFrame objects −"
      ]
    },
    {
      "cell_type": "code",
      "metadata": {
        "id": "Mmd9h96-i6Ug",
        "colab": {
          "base_uri": "https://localhost:8080/",
          "height": 170
        },
        "outputId": "552add94-d907-4eb5-9bf2-d6aea2635d9b"
      },
      "source": [
        "print (df['one'].isnull())"
      ],
      "execution_count": null,
      "outputs": [
        {
          "output_type": "stream",
          "text": [
            "a    False\n",
            "b     True\n",
            "c    False\n",
            "d     True\n",
            "e    False\n",
            "f    False\n",
            "g     True\n",
            "h    False\n",
            "Name: one, dtype: bool\n"
          ],
          "name": "stdout"
        }
      ]
    },
    {
      "cell_type": "code",
      "metadata": {
        "id": "lcUjzd3RjDe2",
        "colab": {
          "base_uri": "https://localhost:8080/",
          "height": 170
        },
        "outputId": "825ce311-4e2d-435e-a25e-0dedd2350073"
      },
      "source": [
        "print (df['one'].notnull())"
      ],
      "execution_count": null,
      "outputs": [
        {
          "output_type": "stream",
          "text": [
            "a     True\n",
            "b    False\n",
            "c     True\n",
            "d    False\n",
            "e     True\n",
            "f     True\n",
            "g    False\n",
            "h     True\n",
            "Name: one, dtype: bool\n"
          ],
          "name": "stdout"
        }
      ]
    },
    {
      "cell_type": "markdown",
      "metadata": {
        "id": "m3QEECHyjLRr"
      },
      "source": [
        "### **Calculations with Missing Data**\n",
        "* When summing data, NA will be treated as Zero\n",
        "* If the data are all NA, then the result will be NA"
      ]
    },
    {
      "cell_type": "code",
      "metadata": {
        "id": "6ozf8rXvjScJ",
        "colab": {
          "base_uri": "https://localhost:8080/",
          "height": 34
        },
        "outputId": "e74a3dc0-af2c-4ff2-9b67-1c3361d86b29"
      },
      "source": [
        "print (df['one'].sum())"
      ],
      "execution_count": null,
      "outputs": [
        {
          "output_type": "stream",
          "text": [
            "1.0161337931193608\n"
          ],
          "name": "stdout"
        }
      ]
    },
    {
      "cell_type": "code",
      "metadata": {
        "id": "C6QkmjlwjZZG",
        "colab": {
          "base_uri": "https://localhost:8080/",
          "height": 34
        },
        "outputId": "05371c73-22fa-4fd1-be12-b3d6964db9af"
      },
      "source": [
        "df = pd.DataFrame(index=[0,1,2,3,4,5],columns=['one','two'])\n",
        "print (df['one'].sum())"
      ],
      "execution_count": null,
      "outputs": [
        {
          "output_type": "stream",
          "text": [
            "0\n"
          ],
          "name": "stdout"
        }
      ]
    },
    {
      "cell_type": "markdown",
      "metadata": {
        "id": "VAx8cHxXjqPs"
      },
      "source": [
        "### **Cleaning / Filling Missing Data**\n",
        "Pandas provides various methods for cleaning the missing values. The fillna function can “fill in” NA values with non-null data in a couple of ways, which we have illustrated in the following sections.\n",
        "\n",
        "### **Replace NaN with a Scalar Value**\n",
        "The following program shows how you can replace \"NaN\" with \"0\"."
      ]
    },
    {
      "cell_type": "code",
      "metadata": {
        "id": "bb4AuLlUjxRC",
        "colab": {
          "base_uri": "https://localhost:8080/",
          "height": 238
        },
        "outputId": "190cb9ff-09fe-4eb2-b105-1ddef05edced"
      },
      "source": [
        "df = pd.DataFrame(np.random.randn(3, 3), index=['a', 'c', 'e'],columns=['one','two', 'three'])\n",
        "print(df)\n",
        "df = df.reindex(['a', 'b', 'c'])\n",
        " \n",
        "print (df)\n",
        "print (\"NaN replaced with '0':\")\n",
        "print (df.fillna(0))"
      ],
      "execution_count": null,
      "outputs": [
        {
          "output_type": "stream",
          "text": [
            "        one       two     three\n",
            "a  0.225147  2.286561 -2.114593\n",
            "c -0.016940 -0.481211 -0.074306\n",
            "e  0.056169 -0.456273 -1.295516\n",
            "        one       two     three\n",
            "a  0.225147  2.286561 -2.114593\n",
            "b       NaN       NaN       NaN\n",
            "c -0.016940 -0.481211 -0.074306\n",
            "NaN replaced with '0':\n",
            "        one       two     three\n",
            "a  0.225147  2.286561 -2.114593\n",
            "b  0.000000  0.000000  0.000000\n",
            "c -0.016940 -0.481211 -0.074306\n"
          ],
          "name": "stdout"
        }
      ]
    },
    {
      "cell_type": "markdown",
      "metadata": {
        "id": "lSe48ZGrj8A1"
      },
      "source": [
        "Here, we are filling with value zero; instead we can also fill with any other value.\n",
        "\n",
        "### **Fill NA Forward and Backward**\n",
        "Using the concepts of filling discussed in the ReIndexing Chapter we will fill the missing values.\n",
        "\n",
        "Sr.No\t| Method |  Action\n",
        ":-----|:-----|:----\n",
        "1\t| pad/fill | Fill methods Forward\n",
        "2\t| bfill/backfill | Fill methods Backward"
      ]
    },
    {
      "cell_type": "code",
      "metadata": {
        "id": "0VWaJPdskN2q",
        "colab": {
          "base_uri": "https://localhost:8080/",
          "height": 170
        },
        "outputId": "fe7e50d2-d647-45fd-c935-3202eec23664"
      },
      "source": [
        "df = pd.DataFrame(np.random.randn(5, 3), index=['a', 'c', 'e', 'f','h'],columns=['one', 'two', 'three'])\n",
        " \n",
        "df = df.reindex(['a', 'b', 'c', 'd', 'e', 'f', 'g', 'h'])\n",
        " \n",
        "print (df.fillna(method='pad'))"
      ],
      "execution_count": null,
      "outputs": [
        {
          "output_type": "stream",
          "text": [
            "        one       two     three\n",
            "a  1.257729 -0.898405 -0.958671\n",
            "b  1.257729 -0.898405 -0.958671\n",
            "c -1.981585  2.030279 -0.359056\n",
            "d -1.981585  2.030279 -0.359056\n",
            "e -0.374300  1.323145  1.258830\n",
            "f -0.838030  0.777567 -2.438891\n",
            "g -0.838030  0.777567 -2.438891\n",
            "h -1.797133 -0.029456  0.702590\n"
          ],
          "name": "stdout"
        }
      ]
    },
    {
      "cell_type": "code",
      "metadata": {
        "id": "As1YySAMkVZc",
        "colab": {
          "base_uri": "https://localhost:8080/",
          "height": 170
        },
        "outputId": "c6a4ad06-5a0e-416a-ebf8-bbc94a5390ad"
      },
      "source": [
        "df = pd.DataFrame(np.random.randn(5, 3), index=['a', 'c', 'e', 'f','h'],columns=['one', 'two', 'three'])\n",
        " \n",
        "df = df.reindex(['a', 'b', 'c', 'd', 'e', 'f', 'g', 'h'])\n",
        " \n",
        "print (df.fillna(method='backfill'))"
      ],
      "execution_count": null,
      "outputs": [
        {
          "output_type": "stream",
          "text": [
            "        one       two     three\n",
            "a -0.823789  1.129703  0.927866\n",
            "b  1.095700 -2.370039 -0.449028\n",
            "c  1.095700 -2.370039 -0.449028\n",
            "d  0.110351 -0.663137  0.111880\n",
            "e  0.110351 -0.663137  0.111880\n",
            "f  1.368340  0.738371 -1.397099\n",
            "g -1.060828  0.048991  1.278546\n",
            "h -1.060828  0.048991  1.278546\n"
          ],
          "name": "stdout"
        }
      ]
    },
    {
      "cell_type": "markdown",
      "metadata": {
        "id": "9yFVuYV0kaqe"
      },
      "source": [
        "### **Drop Missing Values**\n",
        "If you want to simply exclude the missing values, then use the dropna function along with the axis argument. \n",
        "\n",
        "By default, axis=0, i.e., along row, which means that if any value within a row is NA then the whole row is excluded."
      ]
    },
    {
      "cell_type": "code",
      "metadata": {
        "id": "WyP-yqB2kegh",
        "colab": {
          "base_uri": "https://localhost:8080/",
          "height": 119
        },
        "outputId": "f5f049c0-7e37-4655-aee5-ab315dc6479a"
      },
      "source": [
        "df = pd.DataFrame(np.random.randn(5, 3), index=['a', 'c', 'e', 'f','h'],columns=['one', 'two', 'three'])\n",
        " \n",
        "df = df.reindex(['a', 'b', 'c', 'd', 'e', 'f', 'g', 'h'])\n",
        "print (df.dropna())"
      ],
      "execution_count": null,
      "outputs": [
        {
          "output_type": "stream",
          "text": [
            "        one       two     three\n",
            "a  0.526305  0.032827  0.373636\n",
            "c -0.492423  1.490227 -1.557847\n",
            "e  0.195220  0.707705  0.903369\n",
            "f  1.119575  1.624161 -0.101818\n",
            "h -0.180895 -0.038308  0.698237\n"
          ],
          "name": "stdout"
        }
      ]
    },
    {
      "cell_type": "code",
      "metadata": {
        "id": "k4GV2wLKkjuG",
        "colab": {
          "base_uri": "https://localhost:8080/",
          "height": 377
        },
        "outputId": "da436229-e945-428e-f63a-224038aae75a"
      },
      "source": [
        "df = pd.DataFrame(np.random.randn(5, 3), index=['a', 'c', 'e', 'f','h'],columns=['one', 'two', 'three'])\n",
        " \n",
        "df = df.reindex(['a', 'b', 'c', 'd', 'e', 'f', 'g', 'h','p'])\n",
        "df['four']=\"NaN\"\n",
        "print(df)\n",
        "print (df.dropna(axis=1))"
      ],
      "execution_count": null,
      "outputs": [
        {
          "output_type": "stream",
          "text": [
            "        one       two     three four\n",
            "a  2.128666 -1.886217 -1.135183  NaN\n",
            "b       NaN       NaN       NaN  NaN\n",
            "c -0.319430 -0.410823  1.304959  NaN\n",
            "d       NaN       NaN       NaN  NaN\n",
            "e -0.457775  0.909053  1.304079  NaN\n",
            "f  0.368983  0.258048  0.054357  NaN\n",
            "g       NaN       NaN       NaN  NaN\n",
            "h  0.465517 -0.219756 -0.003440  NaN\n",
            "p       NaN       NaN       NaN  NaN\n",
            "  four\n",
            "a  NaN\n",
            "b  NaN\n",
            "c  NaN\n",
            "d  NaN\n",
            "e  NaN\n",
            "f  NaN\n",
            "g  NaN\n",
            "h  NaN\n",
            "p  NaN\n"
          ],
          "name": "stdout"
        }
      ]
    },
    {
      "cell_type": "markdown",
      "metadata": {
        "id": "kKBZ6rlfk1y5"
      },
      "source": [
        "### **Replace Missing (or) Generic Values**\n",
        "Many times, we have to replace a generic value with some specific value. We can achieve this by applying the replace method.\n",
        "\n",
        "Replacing NA with a scalar value is equivalent behavior of the fillna() function."
      ]
    },
    {
      "cell_type": "code",
      "metadata": {
        "id": "UYfbv-eSk9Np",
        "colab": {
          "base_uri": "https://localhost:8080/",
          "height": 255
        },
        "outputId": "e886a9cd-36c8-44a9-bd90-6d51e16d2743"
      },
      "source": [
        "df = pd.DataFrame({'one':[10,20,30,40,50,2000], 'two':[1000,0,30,40,50,60]})\n",
        "print(df)\n",
        "print (df.replace({1000:10,2000:60}))"
      ],
      "execution_count": null,
      "outputs": [
        {
          "output_type": "stream",
          "text": [
            "    one   two\n",
            "0    10  1000\n",
            "1    20     0\n",
            "2    30    30\n",
            "3    40    40\n",
            "4    50    50\n",
            "5  2000    60\n",
            "   one  two\n",
            "0   10   10\n",
            "1   20    0\n",
            "2   30   30\n",
            "3   40   40\n",
            "4   50   50\n",
            "5   60   60\n"
          ],
          "name": "stdout"
        }
      ]
    },
    {
      "cell_type": "markdown",
      "metadata": {
        "id": "0uEorDetlMsz"
      },
      "source": [
        "## **GroupBy**\n",
        "\n",
        "Any groupby operation involves one of the following operations on the original object. They are −\n",
        "\n",
        "* Splitting the Object\n",
        "\n",
        "* Applying a function\n",
        "\n",
        "* Combining the results\n",
        "\n",
        "In many situations, we split the data into sets and we apply some functionality on each subset. In the apply functionality, we can perform the following operations −\n",
        "\n",
        "* Aggregation − computing a summary statistic\n",
        "\n",
        "* Transformation − perform some group-specific operation\n",
        "\n",
        "* Filtration − discarding the data with some condition\n",
        "\n",
        "Let us now create a DataFrame object and perform all the operations on it −\n",
        "\n"
      ]
    },
    {
      "cell_type": "code",
      "metadata": {
        "id": "lWFEnLeElbFt",
        "colab": {
          "base_uri": "https://localhost:8080/",
          "height": 238
        },
        "outputId": "f68d34c1-15f5-4c88-d391-8e01843255cb"
      },
      "source": [
        "ipl_data = {'Team': ['Riders', 'Riders', 'Devils', 'Devils', 'Kings',\n",
        "   'kings', 'Kings', 'Kings', 'Riders', 'Royals', 'Royals', 'Riders'],\n",
        "   'Rank': [1, 2, 2, 3, 3,4 ,1 ,1,2 , 4,1,2],\n",
        "   'Year': [2014,2015,2014,2015,2014,2015,2016,2017,2016,2014,2015,2017],\n",
        "   'Points':[876,789,863,673,741,812,756,788,694,701,804,690]}\n",
        "df = pd.DataFrame(ipl_data)\n",
        " \n",
        "print (df)"
      ],
      "execution_count": null,
      "outputs": [
        {
          "output_type": "stream",
          "text": [
            "      Team  Rank  Year  Points\n",
            "0   Riders     1  2014     876\n",
            "1   Riders     2  2015     789\n",
            "2   Devils     2  2014     863\n",
            "3   Devils     3  2015     673\n",
            "4    Kings     3  2014     741\n",
            "5    kings     4  2015     812\n",
            "6    Kings     1  2016     756\n",
            "7    Kings     1  2017     788\n",
            "8   Riders     2  2016     694\n",
            "9   Royals     4  2014     701\n",
            "10  Royals     1  2015     804\n",
            "11  Riders     2  2017     690\n"
          ],
          "name": "stdout"
        }
      ]
    },
    {
      "cell_type": "markdown",
      "metadata": {
        "id": "9B0_fehJln-s"
      },
      "source": [
        "### **Split Data into Groups**\n",
        "Pandas object can be split into any of their objects. There are multiple ways to split an object like −\n",
        "\n",
        "* obj.groupby('key')\n",
        "* obj.groupby(['key1','key2'])\n",
        "* obj.groupby(key,axis=1)\n",
        "\n",
        "Let us now see how the grouping objects can be applied to the DataFrame object"
      ]
    },
    {
      "cell_type": "code",
      "metadata": {
        "id": "R2P8IKw_ltd2",
        "colab": {
          "base_uri": "https://localhost:8080/",
          "height": 54
        },
        "outputId": "1925df32-5d81-4a4e-f517-111b3357c635"
      },
      "source": [
        "print (df.groupby('Team'))"
      ],
      "execution_count": null,
      "outputs": [
        {
          "output_type": "stream",
          "text": [
            "<pandas.core.groupby.generic.DataFrameGroupBy object at 0x7fceb3265668>\n"
          ],
          "name": "stdout"
        }
      ]
    },
    {
      "cell_type": "markdown",
      "metadata": {
        "id": "TW8-kkdol4zH"
      },
      "source": [
        "### **View Groups**"
      ]
    },
    {
      "cell_type": "code",
      "metadata": {
        "id": "7u-14S03l6x9",
        "colab": {
          "base_uri": "https://localhost:8080/",
          "height": 54
        },
        "outputId": "0f11cf05-3987-4d09-916f-8fb78df2c137"
      },
      "source": [
        "print (df.groupby('Team').groups)"
      ],
      "execution_count": null,
      "outputs": [
        {
          "output_type": "stream",
          "text": [
            "{'Devils': [2, 3], 'Kings': [4, 6, 7], 'Riders': [0, 1, 8, 11], 'Royals': [9, 10], 'kings': [5]}\n"
          ],
          "name": "stdout"
        }
      ]
    },
    {
      "cell_type": "markdown",
      "metadata": {
        "id": "e0mmUYc4mFUM"
      },
      "source": [
        "Group by with multiple columns −"
      ]
    },
    {
      "cell_type": "code",
      "metadata": {
        "id": "9GTWW2VGmF90",
        "colab": {
          "base_uri": "https://localhost:8080/",
          "height": 54
        },
        "outputId": "a9e1fb8b-4e11-4c92-baef-b6de0492d76c"
      },
      "source": [
        "print (df.groupby(['Team','Year']).groups)"
      ],
      "execution_count": null,
      "outputs": [
        {
          "output_type": "stream",
          "text": [
            "{('Devils', 2014): [2], ('Devils', 2015): [3], ('Kings', 2014): [4], ('Kings', 2016): [6], ('Kings', 2017): [7], ('Riders', 2014): [0], ('Riders', 2015): [1], ('Riders', 2016): [8], ('Riders', 2017): [11], ('Royals', 2014): [9], ('Royals', 2015): [10], ('kings', 2015): [5]}\n"
          ],
          "name": "stdout"
        }
      ]
    },
    {
      "cell_type": "markdown",
      "metadata": {
        "id": "tyzt-_yWmL0Z"
      },
      "source": [
        "### **Iterating through Groups**\n",
        "With the groupby object in hand, we can iterate through the object similar to itertools.obj."
      ]
    },
    {
      "cell_type": "code",
      "metadata": {
        "id": "PpTK_si9mOpp",
        "colab": {
          "base_uri": "https://localhost:8080/",
          "height": 425
        },
        "outputId": "54baabb1-56d5-48c8-f09c-4149708078d1"
      },
      "source": [
        "grouped = df.groupby('Year')\n",
        "for name,group in grouped:\n",
        "   print (name)\n",
        "   print(\"*********\")\n",
        "   print (group)"
      ],
      "execution_count": null,
      "outputs": [
        {
          "output_type": "stream",
          "text": [
            "2014\n",
            "*********\n",
            "     Team  Rank  Year  Points\n",
            "0  Riders     1  2014     876\n",
            "2  Devils     2  2014     863\n",
            "4   Kings     3  2014     741\n",
            "9  Royals     4  2014     701\n",
            "2015\n",
            "*********\n",
            "      Team  Rank  Year  Points\n",
            "1   Riders     2  2015     789\n",
            "3   Devils     3  2015     673\n",
            "5    kings     4  2015     812\n",
            "10  Royals     1  2015     804\n",
            "2016\n",
            "*********\n",
            "     Team  Rank  Year  Points\n",
            "6   Kings     1  2016     756\n",
            "8  Riders     2  2016     694\n",
            "2017\n",
            "*********\n",
            "      Team  Rank  Year  Points\n",
            "7    Kings     1  2017     788\n",
            "11  Riders     2  2017     690\n"
          ],
          "name": "stdout"
        }
      ]
    },
    {
      "cell_type": "markdown",
      "metadata": {
        "id": "sGxnk6gqmYmd"
      },
      "source": [
        "By default, the groupby object has the same label name as the group name.\n",
        "\n",
        "### **Select a Group**\n",
        "Using the get_group() method, we can select a single group."
      ]
    },
    {
      "cell_type": "code",
      "metadata": {
        "id": "6MKwPbwIma3Z",
        "colab": {
          "base_uri": "https://localhost:8080/",
          "height": 102
        },
        "outputId": "ab1ee0e9-52c1-4369-c9d3-39357ab2af21"
      },
      "source": [
        "grouped = df.groupby('Year')\n",
        "print (grouped.get_group(2014))"
      ],
      "execution_count": null,
      "outputs": [
        {
          "output_type": "stream",
          "text": [
            "     Team  Rank  Year  Points\n",
            "0  Riders     1  2014     876\n",
            "2  Devils     2  2014     863\n",
            "4   Kings     3  2014     741\n",
            "9  Royals     4  2014     701\n"
          ],
          "name": "stdout"
        }
      ]
    },
    {
      "cell_type": "markdown",
      "metadata": {
        "id": "W7AH3frrmmzX"
      },
      "source": [
        "### **Aggregations**\n",
        "An aggregated function returns a single aggregated value for each group. Once the group by object is created, several aggregation operations can be performed on the grouped data.\n",
        "\n",
        "An obvious one is aggregation via the aggregate or equivalent agg method −"
      ]
    },
    {
      "cell_type": "code",
      "metadata": {
        "id": "u6VW3r2RmsQQ",
        "colab": {
          "base_uri": "https://localhost:8080/",
          "height": 119
        },
        "outputId": "1d9e4b63-d983-41aa-cba3-fde141aa649f"
      },
      "source": [
        "grouped = df.groupby('Year')\n",
        "print (grouped['Points'].agg(np.mean))"
      ],
      "execution_count": null,
      "outputs": [
        {
          "output_type": "stream",
          "text": [
            "Year\n",
            "2014    795.25\n",
            "2015    769.50\n",
            "2016    725.00\n",
            "2017    739.00\n",
            "Name: Points, dtype: float64\n"
          ],
          "name": "stdout"
        }
      ]
    },
    {
      "cell_type": "markdown",
      "metadata": {
        "id": "kdJ08rLPmwl5"
      },
      "source": [
        "Another way to see the size of each group is by applying the size() function −\n"
      ]
    },
    {
      "cell_type": "code",
      "metadata": {
        "id": "0BI7CKu4mxum",
        "colab": {
          "base_uri": "https://localhost:8080/",
          "height": 136
        },
        "outputId": "d8760506-6ee3-4f7d-fb0e-1968a42e457a"
      },
      "source": [
        "#Attribute Access in Python Pandas\n",
        "grouped = df.groupby('Team')\n",
        "print (grouped.agg(np.size))"
      ],
      "execution_count": null,
      "outputs": [
        {
          "output_type": "stream",
          "text": [
            "        Rank  Year  Points\n",
            "Team                      \n",
            "Devils     2     2       2\n",
            "Kings      3     3       3\n",
            "Riders     4     4       4\n",
            "Royals     2     2       2\n",
            "kings      1     1       1\n"
          ],
          "name": "stdout"
        }
      ]
    },
    {
      "cell_type": "markdown",
      "metadata": {
        "id": "0OSa-s8Rm8Lk"
      },
      "source": [
        "### **Applying Multiple Aggregation Functions at Once**\n",
        "With grouped Series, you can also pass a list or dict of functions to do aggregation with, and generate DataFrame as output −"
      ]
    },
    {
      "cell_type": "code",
      "metadata": {
        "id": "o7IL6JAWm-6P",
        "colab": {
          "base_uri": "https://localhost:8080/",
          "height": 156
        },
        "outputId": "91aee7ff-3b80-4e23-e4f5-8729feb9c1ef"
      },
      "source": [
        "grouped = df.groupby('Team')\n",
        "print (grouped['Points'].agg([np.sum, np.mean, np.std]))"
      ],
      "execution_count": null,
      "outputs": [
        {
          "output_type": "stream",
          "text": [
            "         sum        mean         std\n",
            "Team                                \n",
            "Devils  1536  768.000000  134.350288\n",
            "Kings   2285  761.666667   24.006943\n",
            "Riders  3049  762.250000   88.567771\n",
            "Royals  1505  752.500000   72.831998\n",
            "kings    812  812.000000         NaN\n"
          ],
          "name": "stdout"
        }
      ]
    },
    {
      "cell_type": "markdown",
      "metadata": {
        "id": "0XQ8Tn9jnKOs"
      },
      "source": [
        "### **Transformations**\n",
        "Transformation on a group or a column returns an object that is indexed the same size of that is being grouped. Thus, the transform should return a result that is the same size as that of a group chunk."
      ]
    },
    {
      "cell_type": "code",
      "metadata": {
        "id": "vDHWjRKEnNhK",
        "colab": {
          "base_uri": "https://localhost:8080/",
          "height": 258
        },
        "outputId": "070c245f-8466-4b0f-f6c3-a24323aad88c"
      },
      "source": [
        "grouped = df.groupby('Team')\n",
        "score = lambda x: (x - x.mean()) / x.std()*10\n",
        "print (grouped.transform(score))"
      ],
      "execution_count": null,
      "outputs": [
        {
          "output_type": "stream",
          "text": [
            "         Rank       Year     Points\n",
            "0  -15.000000 -11.618950  12.843272\n",
            "1    5.000000  -3.872983   3.020286\n",
            "2   -7.071068  -7.071068   7.071068\n",
            "3    7.071068   7.071068  -7.071068\n",
            "4   11.547005 -10.910895  -8.608621\n",
            "5         NaN        NaN        NaN\n",
            "6   -5.773503   2.182179  -2.360428\n",
            "7   -5.773503   8.728716  10.969049\n",
            "8    5.000000   3.872983  -7.705963\n",
            "9    7.071068  -7.071068  -7.071068\n",
            "10  -7.071068   7.071068   7.071068\n",
            "11   5.000000  11.618950  -8.157595\n"
          ],
          "name": "stdout"
        }
      ]
    },
    {
      "cell_type": "markdown",
      "metadata": {
        "id": "67wJ73lXnSEs"
      },
      "source": [
        "### **Filtration**\n",
        "Filtration filters the data on a defined criteria and returns the subset of data. The filter() function is used to filter the data."
      ]
    },
    {
      "cell_type": "code",
      "metadata": {
        "id": "6yjiaZqSnUu9",
        "colab": {
          "base_uri": "https://localhost:8080/",
          "height": 153
        },
        "outputId": "8fe14f4c-82b4-45f2-e81a-fd5130a919cb"
      },
      "source": [
        "print (df.groupby('Team').filter(lambda x: len(x) >= 3))"
      ],
      "execution_count": null,
      "outputs": [
        {
          "output_type": "stream",
          "text": [
            "      Team  Rank  Year  Points\n",
            "0   Riders     1  2014     876\n",
            "1   Riders     2  2015     789\n",
            "4    Kings     3  2014     741\n",
            "6    Kings     1  2016     756\n",
            "7    Kings     1  2017     788\n",
            "8   Riders     2  2016     694\n",
            "11  Riders     2  2017     690\n"
          ],
          "name": "stdout"
        }
      ]
    },
    {
      "cell_type": "markdown",
      "metadata": {
        "id": "1aU4Q3bGnarC"
      },
      "source": [
        "In the above filter condition, we are asking to return the teams which have participated three or more times in IPL."
      ]
    },
    {
      "cell_type": "markdown",
      "metadata": {
        "id": "eD13pwZ8jr-Q"
      },
      "source": [
        "## **Merging/Joining**\n",
        "\n",
        "Pandas has full-featured, high performance in-memory join operations idiomatically very similar to relational databases like SQL.\n",
        "\n",
        "Pandas provides a single function, merge, as the entry point for all standard database join operations between DataFrame objects −\n",
        "\n",
        "***pd.merge(left, right, how='inner', on=None, left_on=None, right_on=None, left_index=False, right_index=False, sort=True)*** \n",
        "\n",
        "Here, we have used the following parameters −\n",
        "\n",
        "* **left** − A DataFrame object.\n",
        "\n",
        "* **right** − Another DataFrame object.\n",
        "\n",
        "* **on** − Columns (names) to join on. Must be found in both the left and right DataFrame objects.\n",
        "\n",
        "* **left_on** − Columns from the left DataFrame to use as keys. Can either be column names or arrays with length equal to the length of the DataFrame.\n",
        "\n",
        "* **right_on** − Columns from the right DataFrame to use as keys. Can either be column names or arrays with length equal to the length of the DataFrame.\n",
        "\n",
        "* **left_index** − If True, use the index (row labels) from the left DataFrame as its join key(s). In case of a DataFrame with a MultiIndex (hierarchical), the number of levels must match the number of join keys from the right DataFrame.\n",
        "\n",
        "* **right_index** − Same usage as left_index for the right DataFrame.\n",
        "\n",
        "* **how** − One of 'left', 'right', 'outer', 'inner'. Defaults to inner. Each method has been described below.\n",
        "\n",
        "* **sort** − Sort the result DataFrame by the join keys in lexicographical order. Defaults to True, setting to False will improve the performance substantially in many cases.\n",
        "\n",
        "Let us now create two different DataFrames and perform the merging operations on it."
      ]
    },
    {
      "cell_type": "code",
      "metadata": {
        "id": "wPpQlBhCkUL7",
        "colab": {
          "base_uri": "https://localhost:8080/",
          "height": 221
        },
        "outputId": "0a6cf782-8479-4f6a-d92f-53c676cba0d7"
      },
      "source": [
        "left = pd.DataFrame({\n",
        "   'id':[1,2,3,4,5],\n",
        "   'Name': ['Alex', 'Amy', 'Allen', 'Alice', 'Ayoung'],\n",
        "   'subject_id':['sub1','sub2','sub4','sub6','sub5']})\n",
        "right = pd.DataFrame(\n",
        "   {'id':[1,2,3,4,5],\n",
        "   'Name': ['Billy', 'Brian', 'Bran', 'Bryce', 'Betty'],\n",
        "   'subject_id':['sub2','sub4','sub3','sub6','sub5']})\n",
        "print (left)\n",
        "print (right)"
      ],
      "execution_count": null,
      "outputs": [
        {
          "output_type": "stream",
          "text": [
            "   id    Name subject_id\n",
            "0   1    Alex       sub1\n",
            "1   2     Amy       sub2\n",
            "2   3   Allen       sub4\n",
            "3   4   Alice       sub6\n",
            "4   5  Ayoung       sub5\n",
            "   id   Name subject_id\n",
            "0   1  Billy       sub2\n",
            "1   2  Brian       sub4\n",
            "2   3   Bran       sub3\n",
            "3   4  Bryce       sub6\n",
            "4   5  Betty       sub5\n"
          ],
          "name": "stdout"
        }
      ]
    },
    {
      "cell_type": "markdown",
      "metadata": {
        "id": "cYe4SDr-kmCH"
      },
      "source": [
        "### **Merge Two DataFrames on a Key**"
      ]
    },
    {
      "cell_type": "code",
      "metadata": {
        "id": "fzLDBTSakqje",
        "colab": {
          "base_uri": "https://localhost:8080/",
          "height": 139
        },
        "outputId": "08ea85cc-8f25-4c00-9ffb-5cfafc13ca11"
      },
      "source": [
        "print (pd.merge(left,right,on='id'))"
      ],
      "execution_count": null,
      "outputs": [
        {
          "output_type": "stream",
          "text": [
            "   id  Name_x subject_id_x Name_y subject_id_y\n",
            "0   1    Alex         sub1  Billy         sub2\n",
            "1   2     Amy         sub2  Brian         sub4\n",
            "2   3   Allen         sub4   Bran         sub3\n",
            "3   4   Alice         sub6  Bryce         sub6\n",
            "4   5  Ayoung         sub5  Betty         sub5\n"
          ],
          "name": "stdout"
        }
      ]
    },
    {
      "cell_type": "markdown",
      "metadata": {
        "id": "yBt69cgzkvQM"
      },
      "source": [
        "### **Merge Two DataFrames on Multiple Keys**"
      ]
    },
    {
      "cell_type": "code",
      "metadata": {
        "id": "HbRZcMrSkySs",
        "colab": {
          "base_uri": "https://localhost:8080/",
          "height": 68
        },
        "outputId": "73250949-ef7e-4e2c-8865-41fd2be6aee0"
      },
      "source": [
        "print (pd.merge(left,right,on=['id','subject_id']))"
      ],
      "execution_count": null,
      "outputs": [
        {
          "output_type": "stream",
          "text": [
            "   id  Name_x subject_id Name_y\n",
            "0   4   Alice       sub6  Bryce\n",
            "1   5  Ayoung       sub5  Betty\n"
          ],
          "name": "stdout"
        }
      ]
    },
    {
      "cell_type": "markdown",
      "metadata": {
        "id": "-Yh8PIiIk7Vc"
      },
      "source": [
        "### **Merge Using 'how' Argument**\n",
        "\n",
        "The how argument to merge specifies how to determine which keys are to be included in the resulting table. If a key combination does not appear in either the left or the right tables, the values in the joined table will be NA.\n",
        "\n",
        "Here is a summary of the how options and their SQL equivalent names −\n",
        "\n",
        "Merge Method\t| SQL Equivalent\t| Description\n",
        ":----| :-----|:-----\n",
        "left\t| LEFT OUTER JOIN\t| Use keys from left object\n",
        "right\t| RIGHT OUTER JOIN\t| Use keys from right object\n",
        "outer\t| FULL OUTER JOIN\t| Use union of keys\n",
        "inner\t| INNER JOIN\t | Use intersection of keys\n",
        "\n",
        "**Left Join**"
      ]
    },
    {
      "cell_type": "code",
      "metadata": {
        "id": "5Q2gC00-lU8P",
        "colab": {
          "base_uri": "https://localhost:8080/",
          "height": 139
        },
        "outputId": "ed11fe09-deff-4a0a-8965-fd706bbdb949"
      },
      "source": [
        "print (pd.merge(left, right, on='subject_id', how='left'))"
      ],
      "execution_count": null,
      "outputs": [
        {
          "output_type": "stream",
          "text": [
            "   id_x  Name_x subject_id  id_y Name_y\n",
            "0     1    Alex       sub1   NaN    NaN\n",
            "1     2     Amy       sub2   1.0  Billy\n",
            "2     3   Allen       sub4   2.0  Brian\n",
            "3     4   Alice       sub6   4.0  Bryce\n",
            "4     5  Ayoung       sub5   5.0  Betty\n"
          ],
          "name": "stdout"
        }
      ]
    },
    {
      "cell_type": "markdown",
      "metadata": {
        "id": "vingXtx6lbrT"
      },
      "source": [
        "**Right Join**"
      ]
    },
    {
      "cell_type": "code",
      "metadata": {
        "id": "yoxpV55Alcys",
        "colab": {
          "base_uri": "https://localhost:8080/",
          "height": 139
        },
        "outputId": "3cb6d304-af93-42e1-d3c7-0d4040217705"
      },
      "source": [
        "print (pd.merge(left, right, on='subject_id', how='right'))"
      ],
      "execution_count": null,
      "outputs": [
        {
          "output_type": "stream",
          "text": [
            "   id_x  Name_x subject_id  id_y Name_y\n",
            "0   2.0     Amy       sub2     1  Billy\n",
            "1   3.0   Allen       sub4     2  Brian\n",
            "2   NaN     NaN       sub3     3   Bran\n",
            "3   4.0   Alice       sub6     4  Bryce\n",
            "4   5.0  Ayoung       sub5     5  Betty\n"
          ],
          "name": "stdout"
        }
      ]
    },
    {
      "cell_type": "markdown",
      "metadata": {
        "id": "pYy26OFSlnzV"
      },
      "source": [
        "**Outer Join**"
      ]
    },
    {
      "cell_type": "code",
      "metadata": {
        "id": "Ku1c-QQhlpDe",
        "colab": {
          "base_uri": "https://localhost:8080/",
          "height": 156
        },
        "outputId": "40148fa5-a6be-42f3-9aa2-42e9bbbd7643"
      },
      "source": [
        "print (pd.merge(left, right, how='outer', on='subject_id'))"
      ],
      "execution_count": null,
      "outputs": [
        {
          "output_type": "stream",
          "text": [
            "   id_x  Name_x subject_id  id_y Name_y\n",
            "0   1.0    Alex       sub1   NaN    NaN\n",
            "1   2.0     Amy       sub2   1.0  Billy\n",
            "2   3.0   Allen       sub4   2.0  Brian\n",
            "3   4.0   Alice       sub6   4.0  Bryce\n",
            "4   5.0  Ayoung       sub5   5.0  Betty\n",
            "5   NaN     NaN       sub3   3.0   Bran\n"
          ],
          "name": "stdout"
        }
      ]
    },
    {
      "cell_type": "markdown",
      "metadata": {
        "id": "q-p133bIluH9"
      },
      "source": [
        "**Inner Join**\n",
        "\n",
        "Joining will be performed on index. \n",
        "\n",
        "Join operation honors the object on which it is called. So, a.join(b) is not equal to b.join(a)."
      ]
    },
    {
      "cell_type": "code",
      "metadata": {
        "id": "hUfw1Qrll0NE",
        "colab": {
          "base_uri": "https://localhost:8080/",
          "height": 122
        },
        "outputId": "1dfa9b03-697a-41e6-8d93-25a22a35c592"
      },
      "source": [
        "print (pd.merge(left, right, on='subject_id', how='inner'))"
      ],
      "execution_count": null,
      "outputs": [
        {
          "output_type": "stream",
          "text": [
            "   id_x  Name_x subject_id  id_y Name_y\n",
            "0     2     Amy       sub2     1  Billy\n",
            "1     3   Allen       sub4     2  Brian\n",
            "2     4   Alice       sub6     4  Bryce\n",
            "3     5  Ayoung       sub5     5  Betty\n"
          ],
          "name": "stdout"
        }
      ]
    },
    {
      "cell_type": "markdown",
      "metadata": {
        "id": "rdpfZl8ll7VY"
      },
      "source": [
        "## **Concatenation**\n",
        "\n",
        "Pandas provides various facilities for easily combining together Series, DataFrame, and Panel objects.\n",
        "\n",
        " ***pd.concat(objs,axis=0,join='outer',join_axes=None,ignore_index=False)***\n",
        "\n",
        "* **objs** − This is a sequence or mapping of Series, DataFrame, or Panel objects.\n",
        "\n",
        "* **axis** − {0, 1, ...}, default 0. This is the axis to concatenate along.\n",
        "\n",
        "* **join** − {‘inner’, ‘outer’}, default ‘outer’. How to handle indexes on other axis(es). Outer for union and inner for intersection.\n",
        "\n",
        "* **ignore_index** − boolean, default False. If True, do not use the index values on the concatenation axis. The resulting axis will be labeled 0, ..., n - 1.\n",
        "\n",
        "* **join_axes** − This is the list of Index objects. Specific indexes to use for the other (n-1) axes instead of performing inner/outer set logic."
      ]
    },
    {
      "cell_type": "markdown",
      "metadata": {
        "id": "je2rvJCEmM0o"
      },
      "source": [
        "### **Concatenating Objects**\n",
        "The concat function does all of the heavy lifting of performing concatenation operations along an axis. Let us create different objects and do concatenation.\n",
        "\n"
      ]
    },
    {
      "cell_type": "code",
      "metadata": {
        "id": "434Sy_OBmPwI",
        "colab": {
          "base_uri": "https://localhost:8080/",
          "height": 564
        },
        "outputId": "e8c1a4fd-da06-4f79-8481-975524302181"
      },
      "source": [
        "one = pd.DataFrame({\n",
        "   'Name': ['Alex', 'Amy', 'Allen', 'Alice', 'Ayoung'],\n",
        "   'subject_id':['sub1','sub2','sub4','sub6','sub5'],\n",
        "   'Marks_scored':[98,90,87,69,78]},\n",
        "   index=[1,2,3,4,5])\n",
        "print(one)\n",
        "print(\"\\n\")\n",
        "print(\"\\n\")\n",
        "two = pd.DataFrame({\n",
        "   'Name': ['Billy', 'Brian', 'Bran', 'Bryce', 'Betty'],\n",
        "   'subject_id':['sub2','sub4','sub3','sub6','sub5'],\n",
        "   'Marks_scored':[89,80,79,97,88]},\n",
        "   index=[1,2,3,4,5])\n",
        "print(two)\n",
        "print(\"\\n\")\n",
        "print(\"\\n\")\n",
        "print (pd.concat([one,two]))"
      ],
      "execution_count": null,
      "outputs": [
        {
          "output_type": "stream",
          "text": [
            "     Name subject_id  Marks_scored\n",
            "1    Alex       sub1            98\n",
            "2     Amy       sub2            90\n",
            "3   Allen       sub4            87\n",
            "4   Alice       sub6            69\n",
            "5  Ayoung       sub5            78\n",
            "\n",
            "\n",
            "\n",
            "\n",
            "    Name subject_id  Marks_scored\n",
            "1  Billy       sub2            89\n",
            "2  Brian       sub4            80\n",
            "3   Bran       sub3            79\n",
            "4  Bryce       sub6            97\n",
            "5  Betty       sub5            88\n",
            "\n",
            "\n",
            "\n",
            "\n",
            "     Name subject_id  Marks_scored\n",
            "1    Alex       sub1            98\n",
            "2     Amy       sub2            90\n",
            "3   Allen       sub4            87\n",
            "4   Alice       sub6            69\n",
            "5  Ayoung       sub5            78\n",
            "1   Billy       sub2            89\n",
            "2   Brian       sub4            80\n",
            "3    Bran       sub3            79\n",
            "4   Bryce       sub6            97\n",
            "5   Betty       sub5            88\n"
          ],
          "name": "stdout"
        }
      ]
    },
    {
      "cell_type": "markdown",
      "metadata": {
        "id": "IM1pP4AlmWen"
      },
      "source": [
        "Suppose we wanted to associate specific keys with each of the pieces of the chopped up DataFrame. We can do this by using the **keys** argument −"
      ]
    },
    {
      "cell_type": "code",
      "metadata": {
        "id": "B4DaT5QtmZBn",
        "colab": {
          "base_uri": "https://localhost:8080/",
          "height": 224
        },
        "outputId": "1ee112fb-f7d0-4918-8411-0ff6b350cacc"
      },
      "source": [
        "print (pd.concat([one,two],keys=['x','y']))"
      ],
      "execution_count": null,
      "outputs": [
        {
          "output_type": "stream",
          "text": [
            "       Name subject_id  Marks_scored\n",
            "x 1    Alex       sub1            98\n",
            "  2     Amy       sub2            90\n",
            "  3   Allen       sub4            87\n",
            "  4   Alice       sub6            69\n",
            "  5  Ayoung       sub5            78\n",
            "y 1   Billy       sub2            89\n",
            "  2   Brian       sub4            80\n",
            "  3    Bran       sub3            79\n",
            "  4   Bryce       sub6            97\n",
            "  5   Betty       sub5            88\n"
          ],
          "name": "stdout"
        }
      ]
    },
    {
      "cell_type": "markdown",
      "metadata": {
        "id": "-dmL1j5NmfN8"
      },
      "source": [
        "The index of the resultant is duplicated; each index is repeated.\n",
        "\n",
        "If the resultant object has to follow its own indexing, set **ignore_index** to **True**."
      ]
    },
    {
      "cell_type": "code",
      "metadata": {
        "id": "3KYbJlr5mi4J",
        "colab": {
          "base_uri": "https://localhost:8080/",
          "height": 224
        },
        "outputId": "c5522cde-2796-45fe-94b9-6ccfa1b6b51c"
      },
      "source": [
        "print (pd.concat([one,two],keys=['x','y'],ignore_index=True))"
      ],
      "execution_count": null,
      "outputs": [
        {
          "output_type": "stream",
          "text": [
            "     Name subject_id  Marks_scored\n",
            "0    Alex       sub1            98\n",
            "1     Amy       sub2            90\n",
            "2   Allen       sub4            87\n",
            "3   Alice       sub6            69\n",
            "4  Ayoung       sub5            78\n",
            "5   Billy       sub2            89\n",
            "6   Brian       sub4            80\n",
            "7    Bran       sub3            79\n",
            "8   Bryce       sub6            97\n",
            "9   Betty       sub5            88\n"
          ],
          "name": "stdout"
        }
      ]
    },
    {
      "cell_type": "markdown",
      "metadata": {
        "id": "tXf27-qPmo5E"
      },
      "source": [
        "Observe, the index changes completely and the Keys are also overridden.\n",
        "\n",
        "If two objects need to be added along axis=1, then the new columns will be appended."
      ]
    },
    {
      "cell_type": "code",
      "metadata": {
        "id": "u3-r6G3Gmq6g",
        "colab": {
          "base_uri": "https://localhost:8080/",
          "height": 139
        },
        "outputId": "bce3a4e1-d270-4dfd-91d5-fd6e8d9017b7"
      },
      "source": [
        "print (pd.concat([one,two],axis=1))"
      ],
      "execution_count": null,
      "outputs": [
        {
          "output_type": "stream",
          "text": [
            "     Name subject_id  Marks_scored   Name subject_id  Marks_scored\n",
            "1    Alex       sub1            98  Billy       sub2            89\n",
            "2     Amy       sub2            90  Brian       sub4            80\n",
            "3   Allen       sub4            87   Bran       sub3            79\n",
            "4   Alice       sub6            69  Bryce       sub6            97\n",
            "5  Ayoung       sub5            78  Betty       sub5            88\n"
          ],
          "name": "stdout"
        }
      ]
    },
    {
      "cell_type": "markdown",
      "metadata": {
        "id": "90ZfM1jqmxpb"
      },
      "source": [
        "## **Concatenating Using append**\n",
        "A useful shortcut to concat are the append instance methods on Series and DataFrame. These methods actually predated concat. They concatenate along axis=0, namely the index −"
      ]
    },
    {
      "cell_type": "code",
      "metadata": {
        "id": "3yNJlQLtm3J8",
        "colab": {
          "base_uri": "https://localhost:8080/",
          "height": 224
        },
        "outputId": "e5d41783-9723-4fdb-fbf1-a2d0011d57a5"
      },
      "source": [
        "print (one.append(two))"
      ],
      "execution_count": null,
      "outputs": [
        {
          "output_type": "stream",
          "text": [
            "     Name subject_id  Marks_scored\n",
            "1    Alex       sub1            98\n",
            "2     Amy       sub2            90\n",
            "3   Allen       sub4            87\n",
            "4   Alice       sub6            69\n",
            "5  Ayoung       sub5            78\n",
            "1   Billy       sub2            89\n",
            "2   Brian       sub4            80\n",
            "3    Bran       sub3            79\n",
            "4   Bryce       sub6            97\n",
            "5   Betty       sub5            88\n"
          ],
          "name": "stdout"
        }
      ]
    },
    {
      "cell_type": "markdown",
      "metadata": {
        "id": "R6NUfaKtm7qf"
      },
      "source": [
        "The append function can take multiple objects as well −"
      ]
    },
    {
      "cell_type": "code",
      "metadata": {
        "id": "Pd9-7Y7em-BY",
        "colab": {
          "base_uri": "https://localhost:8080/",
          "height": 394
        },
        "outputId": "75c15d01-6bc3-4912-90d8-77bdfa8c939f"
      },
      "source": [
        "print (one.append([two,one,two]))"
      ],
      "execution_count": null,
      "outputs": [
        {
          "output_type": "stream",
          "text": [
            "     Name subject_id  Marks_scored\n",
            "1    Alex       sub1            98\n",
            "2     Amy       sub2            90\n",
            "3   Allen       sub4            87\n",
            "4   Alice       sub6            69\n",
            "5  Ayoung       sub5            78\n",
            "1   Billy       sub2            89\n",
            "2   Brian       sub4            80\n",
            "3    Bran       sub3            79\n",
            "4   Bryce       sub6            97\n",
            "5   Betty       sub5            88\n",
            "1    Alex       sub1            98\n",
            "2     Amy       sub2            90\n",
            "3   Allen       sub4            87\n",
            "4   Alice       sub6            69\n",
            "5  Ayoung       sub5            78\n",
            "1   Billy       sub2            89\n",
            "2   Brian       sub4            80\n",
            "3    Bran       sub3            79\n",
            "4   Bryce       sub6            97\n",
            "5   Betty       sub5            88\n"
          ],
          "name": "stdout"
        }
      ]
    },
    {
      "cell_type": "markdown",
      "metadata": {
        "id": "-QIn6DvtnLUp"
      },
      "source": [
        "## **Time Series**\n",
        "\n",
        "Pandas provide a robust tool for working time with Time series data, especially in the financial sector. \n",
        "\n",
        "While working with time series data, we frequently come across the following −\n",
        "\n",
        "* Generating sequence of time\n",
        "* Convert the time series to different frequencies\n",
        "\n",
        "Pandas provides a relatively compact and self-contained set of tools for performing the above tasks."
      ]
    },
    {
      "cell_type": "markdown",
      "metadata": {
        "id": "IA3XCr4EnU9f"
      },
      "source": [
        "### **Get Current Time**\n",
        "datetime.now() gives you the current date and time."
      ]
    },
    {
      "cell_type": "code",
      "metadata": {
        "id": "fBsJfB4PnYE6",
        "colab": {
          "base_uri": "https://localhost:8080/",
          "height": 88
        },
        "outputId": "ecffc558-022a-4fee-dadb-481b017cf7aa"
      },
      "source": [
        "print (pd.datetime.now())"
      ],
      "execution_count": null,
      "outputs": [
        {
          "output_type": "stream",
          "text": [
            "2020-10-01 03:26:55.765176\n"
          ],
          "name": "stdout"
        },
        {
          "output_type": "stream",
          "text": [
            "/usr/local/lib/python3.6/dist-packages/ipykernel_launcher.py:1: FutureWarning: The pandas.datetime class is deprecated and will be removed from pandas in a future version. Import from datetime instead.\n",
            "  \"\"\"Entry point for launching an IPython kernel.\n"
          ],
          "name": "stderr"
        }
      ]
    },
    {
      "cell_type": "markdown",
      "metadata": {
        "id": "6qzZEkPuooJq"
      },
      "source": [
        "### **Create a TimeStamp**\n",
        "Time-stamped data is the most basic type of timeseries data that associates values with points in time. For pandas objects, it means using the points in time."
      ]
    },
    {
      "cell_type": "code",
      "metadata": {
        "id": "VLc-RdrkoUzR",
        "colab": {
          "base_uri": "https://localhost:8080/",
          "height": 34
        },
        "outputId": "e0d0fbee-8cea-4bae-cb2c-b3f5af7d0cfc"
      },
      "source": [
        "print (pd.Timestamp('2017-03-01'))"
      ],
      "execution_count": null,
      "outputs": [
        {
          "output_type": "stream",
          "text": [
            "2017-03-01 00:00:00\n"
          ],
          "name": "stdout"
        }
      ]
    },
    {
      "cell_type": "markdown",
      "metadata": {
        "id": "37A75WPAotw3"
      },
      "source": [
        "It is also possible to convert integer or float epoch times. The default unit for these is nanoseconds (since these are how Timestamps are stored). However, often epochs are stored in another unit which can be specified. \n"
      ]
    },
    {
      "cell_type": "code",
      "metadata": {
        "id": "lITDQBOyo1iE",
        "colab": {
          "base_uri": "https://localhost:8080/",
          "height": 34
        },
        "outputId": "778fc37e-4aae-45b7-fd07-ab07033bf413"
      },
      "source": [
        "print (pd.Timestamp(1587687299,unit='s'))"
      ],
      "execution_count": null,
      "outputs": [
        {
          "output_type": "stream",
          "text": [
            "2020-04-24 00:14:59\n"
          ],
          "name": "stdout"
        }
      ]
    },
    {
      "cell_type": "markdown",
      "metadata": {
        "id": "ZyXKLl4UpIFr"
      },
      "source": [
        "### **Create a Range of Time**"
      ]
    },
    {
      "cell_type": "code",
      "metadata": {
        "id": "zLuv-cCBpL0V",
        "colab": {
          "base_uri": "https://localhost:8080/",
          "height": 71
        },
        "outputId": "a4240847-ced2-4a82-d6b3-9cda5b3f341d"
      },
      "source": [
        "print (pd.date_range(\"11:00\", \"13:30\", freq=\"30min\").time)"
      ],
      "execution_count": null,
      "outputs": [
        {
          "output_type": "stream",
          "text": [
            "[datetime.time(11, 0) datetime.time(11, 30) datetime.time(12, 0)\n",
            " datetime.time(12, 30) datetime.time(13, 0) datetime.time(13, 30)]\n"
          ],
          "name": "stdout"
        }
      ]
    },
    {
      "cell_type": "markdown",
      "metadata": {
        "id": "U1oL9sLfpP4v"
      },
      "source": [
        "### **Change the Frequency of Time**"
      ]
    },
    {
      "cell_type": "code",
      "metadata": {
        "id": "S47e8rMCpSOn",
        "colab": {
          "base_uri": "https://localhost:8080/",
          "height": 54
        },
        "outputId": "6d25df07-0007-4028-da3e-fd067a588c19"
      },
      "source": [
        "print (pd.date_range(\"11:00\", \"13:30\", freq=\"H\").time)"
      ],
      "execution_count": null,
      "outputs": [
        {
          "output_type": "stream",
          "text": [
            "[datetime.time(11, 0) datetime.time(12, 0) datetime.time(13, 0)]\n"
          ],
          "name": "stdout"
        }
      ]
    },
    {
      "cell_type": "markdown",
      "metadata": {
        "id": "AJ6OT-uspYG2"
      },
      "source": [
        "### **Converting to Timestamps**\n",
        "To convert a Series or list-like object of date-like objects, for example strings, epochs, or a mixture, you can use the to_datetime function. When passed, this returns a Series (with the same index), while a list-like is converted to a DatetimeIndex. "
      ]
    },
    {
      "cell_type": "code",
      "metadata": {
        "id": "DCZlpQ-ZpasA",
        "colab": {
          "base_uri": "https://localhost:8080/",
          "height": 85
        },
        "outputId": "5507007c-a722-4023-c69f-f6b763326dbd"
      },
      "source": [
        "print (pd.to_datetime(pd.Series(['Jul 31, 2009','2010-01-10', None])))"
      ],
      "execution_count": null,
      "outputs": [
        {
          "output_type": "stream",
          "text": [
            "0   2009-07-31\n",
            "1   2010-01-10\n",
            "2          NaT\n",
            "dtype: datetime64[ns]\n"
          ],
          "name": "stdout"
        }
      ]
    },
    {
      "cell_type": "markdown",
      "metadata": {
        "id": "cA5oewy9ph29"
      },
      "source": [
        "**NaT** means **Not a Time** (equivalent to NaN)"
      ]
    },
    {
      "cell_type": "code",
      "metadata": {
        "id": "jlH8ax1MpkfD",
        "colab": {
          "base_uri": "https://localhost:8080/",
          "height": 54
        },
        "outputId": "ed7edb48-5f40-473e-ecf2-9f5a230de88d"
      },
      "source": [
        "print (pd.to_datetime(['2005/11/23', '2010.12.31', None]))"
      ],
      "execution_count": null,
      "outputs": [
        {
          "output_type": "stream",
          "text": [
            "DatetimeIndex(['2005-11-23', '2010-12-31', 'NaT'], dtype='datetime64[ns]', freq=None)\n"
          ],
          "name": "stdout"
        }
      ]
    },
    {
      "cell_type": "markdown",
      "metadata": {
        "id": "hhhfmBPdrrvp"
      },
      "source": [
        "## **Date Functionality**\n",
        "\n",
        "Extending the Time series, Date functionalities play major role in financial data analysis. While working with Date data, we will frequently come across the following −\n",
        "\n",
        "* Generating sequence of dates\n",
        "* Convert the date series to different frequencies"
      ]
    },
    {
      "cell_type": "markdown",
      "metadata": {
        "id": "MPdEM5O-r2Ed"
      },
      "source": [
        "### **Create a Range of Dates**\n",
        "Using the date.range() function by specifying the periods and the frequency, we can create the date series. By default, the frequency of range is Days."
      ]
    },
    {
      "cell_type": "code",
      "metadata": {
        "id": "Iw2FWL1Fr5NG",
        "colab": {
          "base_uri": "https://localhost:8080/",
          "height": 88
        },
        "outputId": "6f72c34a-8c86-457a-b85d-fd1528210e4a"
      },
      "source": [
        "import pandas as pd\n",
        " \n",
        "print (pd.date_range('28/09/2011', periods=5))"
      ],
      "execution_count": null,
      "outputs": [
        {
          "output_type": "stream",
          "text": [
            "DatetimeIndex(['2011-09-28', '2011-09-29', '2011-09-30', '2011-10-01',\n",
            "               '2011-10-02'],\n",
            "              dtype='datetime64[ns]', freq='D')\n"
          ],
          "name": "stdout"
        }
      ]
    },
    {
      "cell_type": "markdown",
      "metadata": {
        "id": "ARsDIPBFr_Ta"
      },
      "source": [
        "### **Change the Date Frequency**"
      ]
    },
    {
      "cell_type": "code",
      "metadata": {
        "id": "6bdqVJxksF1b",
        "colab": {
          "base_uri": "https://localhost:8080/",
          "height": 88
        },
        "outputId": "581607ae-4d92-408e-a850-736ce6349cd6"
      },
      "source": [
        "print (pd.date_range('28/10/2011', periods=5,freq='M'))"
      ],
      "execution_count": null,
      "outputs": [
        {
          "output_type": "stream",
          "text": [
            "DatetimeIndex(['2011-10-31', '2011-11-30', '2011-12-31', '2012-01-31',\n",
            "               '2012-02-29'],\n",
            "              dtype='datetime64[ns]', freq='M')\n"
          ],
          "name": "stdout"
        }
      ]
    },
    {
      "cell_type": "markdown",
      "metadata": {
        "id": "o4OkeMzosLxM"
      },
      "source": [
        "**bdate_range**\n",
        "\n",
        "bdate_range() stands for business date ranges. Unlike date_range(), it excludes Saturday and Sunday."
      ]
    },
    {
      "cell_type": "code",
      "metadata": {
        "id": "uZ20BQrnsTBn",
        "colab": {
          "base_uri": "https://localhost:8080/",
          "height": 88
        },
        "outputId": "d3bd2583-b828-462d-c694-79b21eb4b522"
      },
      "source": [
        "print (pd.date_range('1/1/2011', periods=5))"
      ],
      "execution_count": null,
      "outputs": [
        {
          "output_type": "stream",
          "text": [
            "DatetimeIndex(['2011-01-01', '2011-01-02', '2011-01-03', '2011-01-04',\n",
            "               '2011-01-05'],\n",
            "              dtype='datetime64[ns]', freq='D')\n"
          ],
          "name": "stdout"
        }
      ]
    },
    {
      "cell_type": "markdown",
      "metadata": {
        "id": "m-lNAhTOsYqt"
      },
      "source": [
        "Observe, after 3rd March, the date jumps to 6th march excluding 4th and 5th. Just check your calendar for the days.\n",
        "\n",
        "Convenience functions like date_range and bdate_range utilize a variety of frequency aliases. \n",
        "\n",
        "The default frequency for date_range is a calendar day while the default for bdate_range is a business day."
      ]
    },
    {
      "cell_type": "code",
      "metadata": {
        "id": "r4cIk1jrsYSx",
        "colab": {
          "base_uri": "https://localhost:8080/",
          "height": 156
        },
        "outputId": "4338ed5d-81b8-43ec-82f5-e67d40b373ae"
      },
      "source": [
        "start = pd.datetime(2011, 1, 1)\n",
        "end = pd.datetime(2011, 1, 5)\n",
        " \n",
        "print (pd.date_range(start, end))"
      ],
      "execution_count": null,
      "outputs": [
        {
          "output_type": "stream",
          "text": [
            "DatetimeIndex(['2011-01-01', '2011-01-02', '2011-01-03', '2011-01-04',\n",
            "               '2011-01-05'],\n",
            "              dtype='datetime64[ns]', freq='D')\n"
          ],
          "name": "stdout"
        },
        {
          "output_type": "stream",
          "text": [
            "/usr/local/lib/python3.6/dist-packages/ipykernel_launcher.py:1: FutureWarning: The pandas.datetime class is deprecated and will be removed from pandas in a future version. Import from datetime instead.\n",
            "  \"\"\"Entry point for launching an IPython kernel.\n",
            "/usr/local/lib/python3.6/dist-packages/ipykernel_launcher.py:2: FutureWarning: The pandas.datetime class is deprecated and will be removed from pandas in a future version. Import from datetime instead.\n",
            "  \n"
          ],
          "name": "stderr"
        }
      ]
    },
    {
      "cell_type": "markdown",
      "metadata": {
        "id": "xhyQHRe1sufj"
      },
      "source": [
        "### **Offset Aliases**\n",
        "\n",
        "A number of string aliases are given to useful common time series frequencies. We will refer to these aliases as offset aliases.\n",
        "\n",
        "Alias\t| Description\t| Alias\t| Description\n",
        ":-----|:-----|:-----|:-----\n",
        "B\t| business day frequency\t| BQS\t| business quarter start frequency\n",
        "D\t| calendar day frequency\t| A\t| annual(Year) end frequency\n",
        "W\t| weekly frequency\t| BA\t| business year end frequency\n",
        "M\t| month end frequency\t| BAS\t| business year start frequency\n",
        "SM\t| semi-month end frequency\t| BH\t| business hour frequency\n",
        "BM\t| business month end frequency\t| H\t| hourly frequency\n",
        "MS\t| month start frequency\t| T, min\t| minutely frequency\n",
        "SMS\t| SMS semi month start frequency\t| S\t| secondly frequency\n",
        "BMS\t| business month start frequency\t| L, ms\t| milliseconds\n",
        "Q\t| quarter end frequency\t| U, us\t| microseconds\n",
        "BQ\t| business quarter end frequency\t| N\t| nanoseconds\n",
        "QS\t| quarter start frequency\t| | \t"
      ]
    },
    {
      "cell_type": "markdown",
      "metadata": {
        "id": "Y37_eqrVtjox"
      },
      "source": [
        "## **Timedelta**\n",
        "Timedeltas are differences in times, expressed in difference units, for example, days, hours, minutes, seconds. They can be both positive and negative."
      ]
    },
    {
      "cell_type": "markdown",
      "metadata": {
        "id": "4dRlyBrTt4nM"
      },
      "source": [
        "### **String**\n",
        "By passing a string literal, we can create a timedelta object.\n",
        "\n"
      ]
    },
    {
      "cell_type": "code",
      "metadata": {
        "id": "xO_dgtAxt9a6",
        "colab": {
          "base_uri": "https://localhost:8080/",
          "height": 34
        },
        "outputId": "dc8e0d28-2821-420e-c343-d733cc910ec2"
      },
      "source": [
        "import pandas as pd\n",
        " \n",
        "print (pd.Timedelta('2 days 2 hours 15 minutes 30 seconds'))"
      ],
      "execution_count": null,
      "outputs": [
        {
          "output_type": "stream",
          "text": [
            "2 days 02:15:30\n"
          ],
          "name": "stdout"
        }
      ]
    },
    {
      "cell_type": "markdown",
      "metadata": {
        "id": "YMhXPLNTuByQ"
      },
      "source": [
        "### **Integer**\n",
        "By passing an integer value with the unit, an argument creates a Timedelta object.\n",
        "\n"
      ]
    },
    {
      "cell_type": "code",
      "metadata": {
        "id": "VjDfyL_1uGFx",
        "colab": {
          "base_uri": "https://localhost:8080/",
          "height": 34
        },
        "outputId": "c456fa1d-a107-4de2-cf2a-ac85085402da"
      },
      "source": [
        "print (pd.Timedelta(6,unit='h'))"
      ],
      "execution_count": null,
      "outputs": [
        {
          "output_type": "stream",
          "text": [
            "0 days 06:00:00\n"
          ],
          "name": "stdout"
        }
      ]
    },
    {
      "cell_type": "markdown",
      "metadata": {
        "id": "Om683OkiuMCX"
      },
      "source": [
        "### **Data Offsets**\n",
        "Data offsets such as - weeks, days, hours, minutes, seconds, milliseconds, microseconds, nanoseconds can also be used in construction."
      ]
    },
    {
      "cell_type": "code",
      "metadata": {
        "id": "is2fayEpuOGf",
        "colab": {
          "base_uri": "https://localhost:8080/",
          "height": 34
        },
        "outputId": "4f91f867-f760-4c42-86d4-4b5a7077311e"
      },
      "source": [
        "print (pd.Timedelta(days=2))"
      ],
      "execution_count": null,
      "outputs": [
        {
          "output_type": "stream",
          "text": [
            "2 days 00:00:00\n"
          ],
          "name": "stdout"
        }
      ]
    },
    {
      "cell_type": "markdown",
      "metadata": {
        "id": "O5xgmltWuS2u"
      },
      "source": [
        "### **to_timedelta()**\n",
        "Using the top-level pd.to_timedelta, you can convert a scalar, array, list, or series from a recognized timedelta format/ value into a Timedelta type. \n",
        "\n",
        "It will construct Series if the input is a Series, a scalar if the input is scalar-like, otherwise will output a TimedeltaIndex."
      ]
    },
    {
      "cell_type": "code",
      "metadata": {
        "id": "2r0kACzEuWLH",
        "colab": {
          "base_uri": "https://localhost:8080/",
          "height": 34
        },
        "outputId": "a19cfc63-60b2-47f2-a1ce-8081272b3716"
      },
      "source": [
        "print (pd.Timedelta(days=2))"
      ],
      "execution_count": null,
      "outputs": [
        {
          "output_type": "stream",
          "text": [
            "2 days 00:00:00\n"
          ],
          "name": "stdout"
        }
      ]
    },
    {
      "cell_type": "markdown",
      "metadata": {
        "id": "jHV3nRJ4udWc"
      },
      "source": [
        "### **Operations**\n",
        "You can operate on Series/ DataFrames and construct timedelta64[ns] Series through subtraction operations on datetime64[ns] Series, or Timestamps.\n",
        "\n",
        "Let us now create a DataFrame with Timedelta and datetime objects and perform some arithmetic operations on it −"
      ]
    },
    {
      "cell_type": "code",
      "metadata": {
        "id": "3peuBJi-uiQA",
        "colab": {
          "base_uri": "https://localhost:8080/",
          "height": 85
        },
        "outputId": "ec067a13-be2c-481c-e7d6-04e8602db45f"
      },
      "source": [
        "s = pd.Series(pd.date_range('2012-1-1', periods=3, freq='D'))\n",
        "td = pd.Series([ pd.Timedelta(days=i) for i in range(3) ])\n",
        "df = pd.DataFrame(dict(A = s, B = td))\n",
        " \n",
        "print (df)"
      ],
      "execution_count": null,
      "outputs": [
        {
          "output_type": "stream",
          "text": [
            "           A      B\n",
            "0 2012-01-01 0 days\n",
            "1 2012-01-02 1 days\n",
            "2 2012-01-03 2 days\n"
          ],
          "name": "stdout"
        }
      ]
    },
    {
      "cell_type": "markdown",
      "metadata": {
        "id": "i1ESpCvkunHY"
      },
      "source": [
        "### **Addition Operations**"
      ]
    },
    {
      "cell_type": "code",
      "metadata": {
        "id": "tOxXKTuEuvth",
        "colab": {
          "base_uri": "https://localhost:8080/",
          "height": 85
        },
        "outputId": "b58d83a0-66a1-45ad-b892-93e454d6c8fe"
      },
      "source": [
        "df['C']=df['A']+df['B']\n",
        " \n",
        "print (df)"
      ],
      "execution_count": null,
      "outputs": [
        {
          "output_type": "stream",
          "text": [
            "           A      B          C\n",
            "0 2012-01-01 0 days 2012-01-01\n",
            "1 2012-01-02 1 days 2012-01-03\n",
            "2 2012-01-03 2 days 2012-01-05\n"
          ],
          "name": "stdout"
        }
      ]
    },
    {
      "cell_type": "markdown",
      "metadata": {
        "id": "IhLxsv75u3iI"
      },
      "source": [
        "### **Subtraction Operation**\n",
        "\n"
      ]
    },
    {
      "cell_type": "code",
      "metadata": {
        "id": "BRpa3J6VvCHY",
        "colab": {
          "base_uri": "https://localhost:8080/",
          "height": 105
        },
        "outputId": "c17acb4a-f294-4abf-f8f3-50e8cf20e9de"
      },
      "source": [
        "df['C']=df['A']+df['B']\n",
        "df['D']=df['C']-df['B']\n",
        " \n",
        "print (df)"
      ],
      "execution_count": null,
      "outputs": [
        {
          "output_type": "stream",
          "text": [
            "           A      B          C          D\n",
            "0 2012-01-01 0 days 2012-01-01 2012-01-01\n",
            "1 2012-01-02 1 days 2012-01-03 2012-01-02\n",
            "2 2012-01-03 2 days 2012-01-05 2012-01-03\n"
          ],
          "name": "stdout"
        }
      ]
    },
    {
      "cell_type": "markdown",
      "metadata": {
        "id": "7e2c7bgJvdd8"
      },
      "source": [
        "## **Categorical Data**\n",
        "\n",
        "Often in real-time, data includes the text columns, which are repetitive. Features like gender, country, and codes are always repetitive. These are the examples for categorical data.\n",
        "\n",
        "Categorical variables can take on only a limited, and usually fixed number of possible values. Besides the fixed length, categorical data might have an order but cannot perform numerical operation. Categorical are a Pandas data type.\n",
        "\n",
        "The categorical data type is useful in the following cases −\n",
        "\n",
        "* A string variable consisting of only a few different values. Converting such a string variable to a categorical variable will save some memory.\n",
        "\n",
        "* The lexical order of a variable is not the same as the logical order (“one”, “two”, “three”). By converting to a categorical and specifying an order on the categories, sorting and min/max will use the logical order instead of the lexical order.\n",
        "\n",
        "* As a signal to other python libraries that this column should be treated as a categorical variable (e.g. to use suitable statistical methods or plot types)."
      ]
    },
    {
      "cell_type": "markdown",
      "metadata": {
        "id": "Oz1GgudZvog0"
      },
      "source": [
        "### **Object Creation**\n",
        "Categorical object can be created in multiple ways. The different ways have been described below −\n",
        "\n",
        "***category***\n",
        "\n",
        "By specifying the dtype as \"category\" in pandas object creation."
      ]
    },
    {
      "cell_type": "code",
      "metadata": {
        "id": "AAA4xtq9vs_L",
        "colab": {
          "base_uri": "https://localhost:8080/",
          "height": 139
        },
        "outputId": "ff98aa6a-7445-48a7-ebac-3b953e2328c1"
      },
      "source": [
        "import pandas as pd\n",
        " \n",
        "s = pd.Series([\"a\",\"b\",\"c\",\"a\"], dtype=\"category\")\n",
        "print (s)"
      ],
      "execution_count": null,
      "outputs": [
        {
          "output_type": "stream",
          "text": [
            "0    a\n",
            "1    b\n",
            "2    c\n",
            "3    a\n",
            "dtype: category\n",
            "Categories (3, object): ['a', 'b', 'c']\n"
          ],
          "name": "stdout"
        }
      ]
    },
    {
      "cell_type": "markdown",
      "metadata": {
        "id": "JzcE9ga4vxgH"
      },
      "source": [
        "The number of elements passed to the series object is four, but the categories are only three. Observe the same in the output Categories.\n",
        "\n",
        "***pd.Categorical***\n",
        "\n",
        "Using the standard pandas Categorical constructor, we can create a category object.\n",
        "\n",
        "\n",
        "> ***pandas.Categorical(values, categories, ordered)***\n"
      ]
    },
    {
      "cell_type": "code",
      "metadata": {
        "id": "SfAflPK_wC9s",
        "colab": {
          "base_uri": "https://localhost:8080/",
          "height": 71
        },
        "outputId": "66290ed4-73c4-46ca-9896-b6b38ed09b80"
      },
      "source": [
        "cat = pd.Categorical(['a', 'b', 'c', 'a', 'b', 'c'])\n",
        "print (cat)"
      ],
      "execution_count": null,
      "outputs": [
        {
          "output_type": "stream",
          "text": [
            "['a', 'b', 'c', 'a', 'b', 'c']\n",
            "Categories (3, object): ['a', 'b', 'c']\n"
          ],
          "name": "stdout"
        }
      ]
    },
    {
      "cell_type": "code",
      "metadata": {
        "id": "J5oSQNFdwJjK",
        "colab": {
          "base_uri": "https://localhost:8080/",
          "height": 71
        },
        "outputId": "1b1ab51b-2e99-4dcc-e102-5fbdf29dcc30"
      },
      "source": [
        "cat = cat=pd.Categorical(['a','b','c','a','b','c','d'], ['c', 'b', 'a'])\n",
        "print (cat)"
      ],
      "execution_count": null,
      "outputs": [
        {
          "output_type": "stream",
          "text": [
            "['a', 'b', 'c', 'a', 'b', 'c', NaN]\n",
            "Categories (3, object): ['c', 'b', 'a']\n"
          ],
          "name": "stdout"
        }
      ]
    },
    {
      "cell_type": "markdown",
      "metadata": {
        "id": "duw6rCiYwQjV"
      },
      "source": [
        "Here, the second argument signifies the categories. Thus, any value which is not present in the categories will be treated as **NaN**."
      ]
    },
    {
      "cell_type": "code",
      "metadata": {
        "id": "84BcV0fewUDb",
        "colab": {
          "base_uri": "https://localhost:8080/",
          "height": 71
        },
        "outputId": "47dd03d4-df49-4d81-f14e-596e646de8ae"
      },
      "source": [
        "cat = cat=pd.Categorical(['a','b','c','a','b','c','d'], ['c', 'b', 'a'],ordered=True)\n",
        "print (cat)"
      ],
      "execution_count": null,
      "outputs": [
        {
          "output_type": "stream",
          "text": [
            "['a', 'b', 'c', 'a', 'b', 'c', NaN]\n",
            "Categories (3, object): ['c' < 'b' < 'a']\n"
          ],
          "name": "stdout"
        }
      ]
    },
    {
      "cell_type": "markdown",
      "metadata": {
        "id": "4Voa6UH5wXos"
      },
      "source": [
        "Logically, the order means that, a is greater than b and b is greater than c.\n",
        "\n",
        "### **Description**\n",
        "Using the .describe() command on the categorical data, we get similar output to a Series or DataFrame of the type string."
      ]
    },
    {
      "cell_type": "code",
      "metadata": {
        "id": "vMTX5MFBwcEV",
        "colab": {
          "base_uri": "https://localhost:8080/",
          "height": 187
        },
        "outputId": "0a2857dc-4d87-4346-d08d-ebc7641c73ca"
      },
      "source": [
        "cat = pd.Categorical([\"a\", \"c\", \"c\", np.nan], categories=[\"b\", \"a\", \"c\"])\n",
        "df = pd.DataFrame({\"cat\":cat, \"s\":[\"a\", \"c\", \"c\", np.nan]})\n",
        " \n",
        "print (df.describe())\n",
        "print (df[\"cat\"].describe())"
      ],
      "execution_count": null,
      "outputs": [
        {
          "output_type": "stream",
          "text": [
            "       cat  s\n",
            "count    3  3\n",
            "unique   2  2\n",
            "top      c  c\n",
            "freq     2  2\n",
            "count     3\n",
            "unique    2\n",
            "top       c\n",
            "freq      2\n",
            "Name: cat, dtype: object\n"
          ],
          "name": "stdout"
        }
      ]
    },
    {
      "cell_type": "markdown",
      "metadata": {
        "id": "yWrkplI1wjhn"
      },
      "source": [
        "### **Get the Properties of the Category**\n",
        "**obj.cat.categories** command is used to get the categories of the object."
      ]
    },
    {
      "cell_type": "code",
      "metadata": {
        "id": "i6ed9fITwqWM",
        "colab": {
          "base_uri": "https://localhost:8080/",
          "height": 54
        },
        "outputId": "25f850ca-df51-4467-ed97-b7be948d87f9"
      },
      "source": [
        "s = pd.Categorical([\"a\", \"c\", \"c\", np.nan], categories=[\"b\", \"a\", \"c\"])\n",
        "print (s.categories)"
      ],
      "execution_count": null,
      "outputs": [
        {
          "output_type": "stream",
          "text": [
            "Index(['b', 'a', 'c'], dtype='object')\n"
          ],
          "name": "stdout"
        }
      ]
    },
    {
      "cell_type": "markdown",
      "metadata": {
        "id": "bVA4W0cewu61"
      },
      "source": [
        "**obj.ordered** command is used to get the order of the object."
      ]
    },
    {
      "cell_type": "code",
      "metadata": {
        "id": "Cvk8Z7wZwwec",
        "colab": {
          "base_uri": "https://localhost:8080/",
          "height": 34
        },
        "outputId": "75a376dd-ce07-47c9-e4d1-598f6dd45884"
      },
      "source": [
        "cat = pd.Categorical([\"a\", \"c\", \"c\", np.nan], categories=[\"b\", \"a\", \"c\"])\n",
        "print (cat.ordered)"
      ],
      "execution_count": null,
      "outputs": [
        {
          "output_type": "stream",
          "text": [
            "False\n"
          ],
          "name": "stdout"
        }
      ]
    },
    {
      "cell_type": "markdown",
      "metadata": {
        "id": "pf-FHawqw2Vv"
      },
      "source": [
        "The function returned false because we haven't specified any order.\n",
        "\n",
        "### **Renaming Categories**\n",
        "Renaming categories is done by assigning new values to the series.cat.categoriesseries.cat.categories property."
      ]
    },
    {
      "cell_type": "code",
      "metadata": {
        "id": "jS57lP3qw9UG",
        "colab": {
          "base_uri": "https://localhost:8080/",
          "height": 54
        },
        "outputId": "8cf19a15-ddd1-435f-df98-48857dc6cea1"
      },
      "source": [
        "s = pd.Series([\"a\",\"b\",\"c\",\"a\"], dtype=\"category\")\n",
        "s.cat.categories = [\"Group %s\" % g for g in s.cat.categories]\n",
        "print (s.cat.categories)"
      ],
      "execution_count": null,
      "outputs": [
        {
          "output_type": "stream",
          "text": [
            "Index(['Group a', 'Group b', 'Group c'], dtype='object')\n"
          ],
          "name": "stdout"
        }
      ]
    },
    {
      "cell_type": "markdown",
      "metadata": {
        "id": "leLz6P9txCy3"
      },
      "source": [
        "nitial categories [a,b,c] are updated by the s.cat.categories property of the object.\n",
        "\n",
        "### **Appending New Categories**\n",
        "Using the Categorical.add.categories() method, new categories can be appended."
      ]
    },
    {
      "cell_type": "code",
      "metadata": {
        "id": "isQ4fklJxFN0",
        "colab": {
          "base_uri": "https://localhost:8080/",
          "height": 54
        },
        "outputId": "beb8fbc4-4533-4ce8-9186-bc5c6091a50d"
      },
      "source": [
        "s = pd.Series([\"a\",\"b\",\"c\",\"a\"], dtype=\"category\")\n",
        "s = s.cat.add_categories([4])\n",
        "print (s.cat.categories)"
      ],
      "execution_count": null,
      "outputs": [
        {
          "output_type": "stream",
          "text": [
            "Index(['a', 'b', 'c', 4], dtype='object')\n"
          ],
          "name": "stdout"
        }
      ]
    },
    {
      "cell_type": "markdown",
      "metadata": {
        "id": "eLUx4RegxNmF"
      },
      "source": [
        "### **Removing Categories**\n",
        "Using the Categorical.remove_categories() method, unwanted categories can be removed."
      ]
    },
    {
      "cell_type": "code",
      "metadata": {
        "id": "KMYjqV6RxRmZ",
        "colab": {
          "base_uri": "https://localhost:8080/",
          "height": 275
        },
        "outputId": "9b8bfe8b-fd1a-4ad9-e9b8-fc54fc77ad77"
      },
      "source": [
        "s = pd.Series([\"a\",\"b\",\"c\",\"a\"], dtype=\"category\")\n",
        "print (\"Original object:\")\n",
        "print (s)\n",
        " \n",
        "print (\"After removal:\")\n",
        "print (s.cat.remove_categories(\"a\"))"
      ],
      "execution_count": null,
      "outputs": [
        {
          "output_type": "stream",
          "text": [
            "Original object:\n",
            "0    a\n",
            "1    b\n",
            "2    c\n",
            "3    a\n",
            "dtype: category\n",
            "Categories (3, object): ['a', 'b', 'c']\n",
            "After removal:\n",
            "0    NaN\n",
            "1      b\n",
            "2      c\n",
            "3    NaN\n",
            "dtype: category\n",
            "Categories (2, object): ['b', 'c']\n"
          ],
          "name": "stdout"
        }
      ]
    },
    {
      "cell_type": "markdown",
      "metadata": {
        "id": "ZbkOU7ckxaeo"
      },
      "source": [
        "### **Comparison of Categorical Data**\n",
        "Comparing categorical data with other objects is possible in three cases −\n",
        "\n",
        "* comparing equality (== and !=) to a list-like object (list, Series, array, ...) of the same length as the categorical data.\n",
        "\n",
        "* all comparisons (==, !=, >, >=, <, and <=) of categorical data to another categorical Series, when ordered==True and the categories are the same.\n",
        "\n",
        "* all comparisons of a categorical data to a scalar."
      ]
    },
    {
      "cell_type": "markdown",
      "metadata": {
        "id": "FFuB5Ohex4TS"
      },
      "source": [
        "## Finally **Visualization**\n",
        "\n"
      ]
    },
    {
      "cell_type": "markdown",
      "metadata": {
        "id": "-Hon5tGmx8tl"
      },
      "source": [
        "### **Basic Plotting: plot**\n",
        "This functionality on Series and DataFrame is just a simple wrapper around the matplotlib libraries plot() method."
      ]
    },
    {
      "cell_type": "code",
      "metadata": {
        "id": "AD-QMRX5x--u",
        "colab": {
          "base_uri": "https://localhost:8080/",
          "height": 245
        },
        "outputId": "0989291e-1a99-4855-fa3d-24bbc058fa99"
      },
      "source": [
        "import pandas as pd\n",
        "import numpy as np\n",
        " \n",
        "df = pd.DataFrame(np.random.randn(10,4),index=pd.date_range('1/1/2000',\n",
        "   periods=10), columns=list('ABCD'))\n",
        " \n",
        "df.plot()"
      ],
      "execution_count": null,
      "outputs": [
        {
          "output_type": "execute_result",
          "data": {
            "text/plain": [
              "<matplotlib.axes._subplots.AxesSubplot at 0x7fceb31b2630>"
            ]
          },
          "metadata": {
            "tags": []
          },
          "execution_count": 87
        },
        {
          "output_type": "display_data",
          "data": {
            "image/png": "[encoded data removed]",
            "text/plain": [
              "<Figure size 432x288 with 1 Axes>"
            ]
          },
          "metadata": {
            "tags": [],
            "needs_background": "light"
          }
        }
      ]
    },
    {
      "cell_type": "markdown",
      "metadata": {
        "id": "eBDepdYjyEK9"
      },
      "source": [
        "If the index consists of dates, it calls **gct().autofmt_xdate()** to format the x-axis as shown in the above illustration.\n",
        "\n",
        "We can plot one column versus another using the **x** and y keywords.\n",
        "\n",
        "Plotting methods allow a handful of plot styles other than the default line plot. These methods can be provided as the kind keyword argument to **plot()**. These include −\n",
        "\n",
        "* bar or barh for bar plots\n",
        "* hist for histogram\n",
        "* box for boxplot\n",
        "* 'area' for area plots\n",
        "* 'scatter' for scatter plots"
      ]
    },
    {
      "cell_type": "markdown",
      "metadata": {
        "id": "T72kwypeyUoW"
      },
      "source": [
        "### **Bar Plot**\n",
        "Let us now see what a Bar Plot is by creating one. A bar plot can be created in the following way −"
      ]
    },
    {
      "cell_type": "code",
      "metadata": {
        "id": "C34MBGOLyWns",
        "colab": {
          "base_uri": "https://localhost:8080/",
          "height": 232
        },
        "outputId": "9e31b610-5ee2-4a0b-b6f5-4890d12ea8a8"
      },
      "source": [
        "df = pd.DataFrame(np.random.rand(10,4),columns=['a','b','c','d'])\n",
        "df.plot.bar()"
      ],
      "execution_count": null,
      "outputs": [
        {
          "output_type": "execute_result",
          "data": {
            "text/plain": [
              "<matplotlib.axes._subplots.AxesSubplot at 0x7fcecd2453c8>"
            ]
          },
          "metadata": {
            "tags": []
          },
          "execution_count": 88
        },
        {
          "output_type": "display_data",
          "data": {
            "image/png": "[encoded data removed]",
            "text/plain": [
              "<Figure size 432x288 with 1 Axes>"
            ]
          },
          "metadata": {
            "tags": [],
            "needs_background": "light"
          }
        }
      ]
    },
    {
      "cell_type": "markdown",
      "metadata": {
        "id": "TPgTWB5tyiYh"
      },
      "source": [
        "To produce a stacked bar plot, pass stacked=True −"
      ]
    },
    {
      "cell_type": "code",
      "metadata": {
        "id": "ohSe5WRVyi4E",
        "colab": {
          "base_uri": "https://localhost:8080/",
          "height": 232
        },
        "outputId": "619fe6c8-56ce-4113-f571-7b9d6959cbfe"
      },
      "source": [
        "df = pd.DataFrame(np.random.rand(10,4),columns=['a','b','c','d'])\n",
        "df.plot.bar(stacked=True)"
      ],
      "execution_count": null,
      "outputs": [
        {
          "output_type": "execute_result",
          "data": {
            "text/plain": [
              "<matplotlib.axes._subplots.AxesSubplot at 0x7fceb2b62d68>"
            ]
          },
          "metadata": {
            "tags": []
          },
          "execution_count": 89
        },
        {
          "output_type": "display_data",
          "data": {
            "image/png": "[encoded data removed]",
            "text/plain": [
              "<Figure size 432x288 with 1 Axes>"
            ]
          },
          "metadata": {
            "tags": [],
            "needs_background": "light"
          }
        }
      ]
    },
    {
      "cell_type": "markdown",
      "metadata": {
        "id": "b_jzJpbGyrNr"
      },
      "source": [
        "To get horizontal bar plots, use the barh method −"
      ]
    },
    {
      "cell_type": "code",
      "metadata": {
        "id": "XO8ciKygyr3n",
        "colab": {
          "base_uri": "https://localhost:8080/",
          "height": 239
        },
        "outputId": "195c1211-9dfc-4e89-8655-19ea57d8bff9"
      },
      "source": [
        "df = pd.DataFrame(np.random.rand(10,4),columns=['a','b','c','d'])\n",
        " \n",
        "df.plot.barh(stacked=True)"
      ],
      "execution_count": null,
      "outputs": [
        {
          "output_type": "execute_result",
          "data": {
            "text/plain": [
              "<matplotlib.axes._subplots.AxesSubplot at 0x7fceb2acbb38>"
            ]
          },
          "metadata": {
            "tags": []
          },
          "execution_count": 90
        },
        {
          "output_type": "display_data",
          "data": {
            "image/png": "[encoded data removed]",
            "text/plain": [
              "<Figure size 432x288 with 1 Axes>"
            ]
          },
          "metadata": {
            "tags": [],
            "needs_background": "light"
          }
        }
      ]
    },
    {
      "cell_type": "markdown",
      "metadata": {
        "id": "7AKMaTpky6Jk"
      },
      "source": [
        "### **Histograms**\n",
        "Histograms can be plotted using the plot.hist() method. We can specify number of bins."
      ]
    },
    {
      "cell_type": "code",
      "metadata": {
        "id": "PTm96HD6y79U",
        "colab": {
          "base_uri": "https://localhost:8080/",
          "height": 227
        },
        "outputId": "616cde86-5749-4581-c850-1f3c93b21459"
      },
      "source": [
        "df = pd.DataFrame({'a':np.random.randn(1000)+1,'b':np.random.randn(1000),'c':\n",
        "np.random.randn(1000) - 1}, columns=['a', 'b', 'c'])\n",
        "\n",
        "df.plot.hist(bins=20)"
      ],
      "execution_count": null,
      "outputs": [
        {
          "output_type": "execute_result",
          "data": {
            "text/plain": [
              "<matplotlib.axes._subplots.AxesSubplot at 0x7fceb292fc50>"
            ]
          },
          "metadata": {
            "tags": []
          },
          "execution_count": 91
        },
        {
          "output_type": "display_data",
          "data": {
            "image/png": "[encoded data removed]",
            "text/plain": [
              "<Figure size 432x288 with 1 Axes>"
            ]
          },
          "metadata": {
            "tags": [],
            "needs_background": "light"
          }
        }
      ]
    },
    {
      "cell_type": "markdown",
      "metadata": {
        "id": "W1YnKdvozBCO"
      },
      "source": [
        "### **Box Plots**\n",
        "Boxplot can be drawn calling Series.box.plot() and DataFrame.box.plot(), or DataFrame.boxplot() to visualize the distribution of values within each column.\n",
        "\n",
        "For instance, here is a boxplot representing five trials of 10 observations of a uniform random variable on [0,1)."
      ]
    },
    {
      "cell_type": "code",
      "metadata": {
        "id": "B-WSwns6zWhE",
        "colab": {
          "base_uri": "https://localhost:8080/",
          "height": 234
        },
        "outputId": "7915d259-2294-4bb3-b09c-6f9ec878604c"
      },
      "source": [
        "df = pd.DataFrame(np.random.rand(10, 5), columns=['A', 'B', 'C', 'D', 'E'])\n",
        "df.plot.box()"
      ],
      "execution_count": null,
      "outputs": [
        {
          "output_type": "execute_result",
          "data": {
            "text/plain": [
              "<matplotlib.axes._subplots.AxesSubplot at 0x7fceb2989208>"
            ]
          },
          "metadata": {
            "tags": []
          },
          "execution_count": 92
        },
        {
          "output_type": "display_data",
          "data": {
            "image/png": "[encoded data removed]",
            "text/plain": [
              "<Figure size 432x288 with 1 Axes>"
            ]
          },
          "metadata": {
            "tags": [],
            "needs_background": "light"
          }
        }
      ]
    },
    {
      "cell_type": "markdown",
      "metadata": {
        "id": "1w9LDDaxza46"
      },
      "source": [
        "### **Area Plot**\n",
        "Area plot can be created using the Series.plot.area() or the DataFrame.plot.area() methods."
      ]
    },
    {
      "cell_type": "code",
      "metadata": {
        "id": "qxLA-e5GzdW4",
        "colab": {
          "base_uri": "https://localhost:8080/",
          "height": 234
        },
        "outputId": "247c4a81-7bf7-46c3-fa04-5516a51f0081"
      },
      "source": [
        "df = pd.DataFrame(np.random.rand(10, 4), columns=['a', 'b', 'c', 'd'])\n",
        "df.plot.area()"
      ],
      "execution_count": null,
      "outputs": [
        {
          "output_type": "execute_result",
          "data": {
            "text/plain": [
              "<matplotlib.axes._subplots.AxesSubplot at 0x7fceb27e0c88>"
            ]
          },
          "metadata": {
            "tags": []
          },
          "execution_count": 93
        },
        {
          "output_type": "display_data",
          "data": {
            "image/png": "[encoded data removed]",
            "text/plain": [
              "<Figure size 432x288 with 1 Axes>"
            ]
          },
          "metadata": {
            "tags": [],
            "needs_background": "light"
          }
        }
      ]
    },
    {
      "cell_type": "markdown",
      "metadata": {
        "id": "pvlRhBq1zhgT"
      },
      "source": [
        "### **Scatter Plot**\n",
        "Scatter plot can be created using the DataFrame.plot.scatter() methods."
      ]
    },
    {
      "cell_type": "code",
      "metadata": {
        "id": "3_EmT5hlzjYO",
        "colab": {
          "base_uri": "https://localhost:8080/",
          "height": 238
        },
        "outputId": "419384aa-75ce-4960-c562-498d6caad279"
      },
      "source": [
        "df = pd.DataFrame(np.random.rand(50, 4), columns=['a', 'b', 'c', 'd'])\n",
        "df.plot.scatter(x='a', y='b')"
      ],
      "execution_count": null,
      "outputs": [
        {
          "output_type": "execute_result",
          "data": {
            "text/plain": [
              "<matplotlib.axes._subplots.AxesSubplot at 0x7fceb271acc0>"
            ]
          },
          "metadata": {
            "tags": []
          },
          "execution_count": 94
        },
        {
          "output_type": "display_data",
          "data": {
            "image/png": "[encoded data removed]",
            "text/plain": [
              "<Figure size 432x288 with 1 Axes>"
            ]
          },
          "metadata": {
            "tags": [],
            "needs_background": "light"
          }
        }
      ]
    },
    {
      "cell_type": "markdown",
      "metadata": {
        "id": "Ngro5AZWznsQ"
      },
      "source": [
        "### **Pie Chart**\n",
        "Pie chart can be created using the DataFrame.plot.pie() method."
      ]
    },
    {
      "cell_type": "code",
      "metadata": {
        "id": "yCY0WY1ezpqt",
        "colab": {
          "base_uri": "https://localhost:8080/",
          "height": 302
        },
        "outputId": "ec6b6572-89b7-4df8-e245-2f184d051aa0"
      },
      "source": [
        "df = pd.DataFrame(3 * np.random.rand(4), index=['a', 'b', 'c', 'd'], columns=['x'])\n",
        "df.plot.pie(subplots=True)"
      ],
      "execution_count": null,
      "outputs": [
        {
          "output_type": "execute_result",
          "data": {
            "text/plain": [
              "array([<matplotlib.axes._subplots.AxesSubplot object at 0x7fceb26724e0>],\n",
              "      dtype=object)"
            ]
          },
          "metadata": {
            "tags": []
          },
          "execution_count": 95
        },
        {
          "output_type": "display_data",
          "data": {
            "image/png": "[encoded data removed]",
            "text/plain": [
              "<Figure size 432x288 with 1 Axes>"
            ]
          },
          "metadata": {
            "tags": []
          }
        }
      ]
    }
  ]
}